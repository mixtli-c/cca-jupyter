{
 "cells": [
  {
   "cell_type": "code",
   "execution_count": 1,
   "metadata": {},
   "outputs": [],
   "source": [
    "import numpy as np\n",
    "import matplotlib.pyplot as plt\n",
    "import matplotlib.dates as mdates\n",
    "import datetime as dt\n",
    "import pandas as pd\n",
    "import glob\n",
    "from pytz import all_timezones"
   ]
  },
  {
   "cell_type": "code",
   "execution_count": 2,
   "metadata": {},
   "outputs": [],
   "source": [
    "########### BEGIN Building PANDORA DataFrames"
   ]
  },
  {
   "cell_type": "code",
   "execution_count": 3,
   "metadata": {},
   "outputs": [],
   "source": [
    "# Pandas dataframe from pandora data\n",
    "npz = np.load('PandoraALTZ.npz',allow_pickle=True)\n",
    "df= pd.DataFrame.from_dict({item: npz[item] for item in npz.files})\n",
    "npz.close()"
   ]
  },
  {
   "cell_type": "code",
   "execution_count": 4,
   "metadata": {},
   "outputs": [],
   "source": [
    "# Filtered data by qflag 0,10\n",
    "options = [0,10] \n",
    "rslt_df = df[df['qflag'].isin(options)] \n",
    "#localization of dataframe so that datetime is UTC and not naive\n",
    "dtimeutc=rslt_df.dtime.dt.tz_localize('Etc/UTC')\n",
    "dtimelocal=dtimeutc.dt.tz_convert('Etc/GMT+6')\n",
    "dflocal = rslt_df.assign(dtime=dtimelocal)\n",
    "tslocal = dflocal.set_index('dtime')\n",
    "### changing dobson units\n",
    "tsloc_molcm2=tslocal.assign(ozone=tslocal.ozone*2.6868e16)\n",
    "## grouping by hour\n",
    "tslocmean = tsloc_molcm2.ozone.groupby(tslocal.index.hour).mean()\n",
    "tslocstd=tsloc_molcm2.ozone.groupby(tslocal.index.hour).std()\n",
    "## grouping by month\n",
    "tslocmeanmt = tsloc_molcm2.ozone.groupby(tslocal.index.month).mean()\n",
    "tslocstdmt = tsloc_molcm2.ozone.groupby(tslocal.index.month).std()\n"
   ]
  },
  {
   "cell_type": "code",
   "execution_count": 5,
   "metadata": {},
   "outputs": [],
   "source": [
    "########### END Building PANDORA DataFrames\n",
    "########### BEGIN Building MERRA2 DataFrames"
   ]
  },
  {
   "cell_type": "code",
   "execution_count": 6,
   "metadata": {},
   "outputs": [],
   "source": [
    "# Pandas DataFrame from MERRA2 data\n",
    "# data is stored in folders by year, filenames are O3_YYYY_MM_DD_HH.txt\n",
    "years = np.arange(2012,2020)\n",
    "date=[]\n",
    "O3=[]\n",
    "O3trop=[]\n",
    "O3strat=[]\n",
    "#testcount = 0\n",
    "for year in years:\n",
    "    merrapath = 'D:\\\\CCA\\\\PANDONIA\\\\O3fromMERRA2\\\\'+'%i*\\\\' % (year) + '*.*'\n",
    "    filelist = glob.glob(merrapath)\n",
    "    #testcount = testcount + len(filelist)\n",
    "    #print(testcount)\n",
    "    for filename in filelist:\n",
    "        tempdf = pd.read_csv(filename)\n",
    "        tempdf.set_axis(['fixedP','fixedO3','modelP','modelO3'], axis=1, inplace=True)\n",
    "        \n",
    "        ############################ converting pressure to altitude\n",
    "        tdfa = tempdf[tempdf['modelP'] <= 226.32].assign(modelP=((1.73-np.log(tempdf.modelP/226.32))/0.000157))\n",
    "        tdfb = tempdf[tempdf['modelP'] > 226.32].assign(modelP=((1-(tempdf.modelP/1013.25)**(1/5.25588))/2.25577e-5))\n",
    "        tempdf2=tdfa.append(tdfb)\n",
    "        tempdf2.set_axis(['fixedP','fixedO3','modelAlt','modelO3'], axis=1, inplace=True)\n",
    "        \n",
    "        ############################ altitude difference series\n",
    "        altdiff=tempdf2.modelAlt.diff()\n",
    "        altdiff=altdiff.replace(altdiff[0],altdiff[1])\n",
    "        altdiff=-altdiff\n",
    "        \n",
    "        ############################ converting altitude to T in degC\n",
    "        tdfa = tempdf2[tempdf2['modelAlt'] <= 11000].assign(modelAlt=(15.04-0.00649*tempdf2.modelAlt))\n",
    "        tdfb = tempdf2[tempdf2['modelAlt'] > 11000].assign(modelAlt=-56.46)\n",
    "        tempdf3=tdfb.append(tdfa)\n",
    "        tempdf3.set_axis(['fixedP','fixedO3','modelT','modelO3'], axis=1, inplace=True)\n",
    "        \n",
    "        ############################ calculating air number density and ozone number density\n",
    "        nair = tempdf.modelP*100*6.022e23/(8.314463*(tempdf3.modelT+273.15))\n",
    "        tempdf4 = tempdf2.assign(modelO3=tempdf3.modelO3*nair)\n",
    "        tempdf5 = tempdf4.assign(modelO3=(tempdf4.modelO3*altdiff)/10000)\n",
    "        \n",
    "        ############################ calculating column density\n",
    "        columnO3=tempdf5.modelO3.sum()\n",
    "        columnO3trop=tempdf5[tempdf2['modelAlt'] <= 11000].modelO3.sum()\n",
    "        columnO3strat=tempdf5[tempdf2['modelAlt'] > 11000].modelO3.sum()\n",
    "        \n",
    "        ############################ extracting datetime from filename and appending\n",
    "        time=dt.datetime.strptime(filename[-17:-4],'%Y_%m_%d_%H')\n",
    "        date.append(time)\n",
    "        O3.append(columnO3)\n",
    "        O3trop.append(columnO3trop)\n",
    "        O3strat.append(columnO3strat)\n",
    "        \n",
    "merradf = pd.DataFrame(data={\"date\": date, \"ozone\": O3})\n",
    "merradftrop= pd.DataFrame(data={\"date\":date,\"ozone\": O3trop})\n",
    "merradfstrat= pd.DataFrame(data={\"date\":date,\"ozone\": O3strat})\n"
   ]
  },
  {
   "cell_type": "code",
   "execution_count": 17,
   "metadata": {},
   "outputs": [],
   "source": [
    "# Monthly MERRA\n",
    "#total\n",
    "tsmerra = merradf.set_index('date')\n",
    "tsmerramm = tsmerra.ozone.resample('M').mean()\n",
    "tsmerrameanmt = tsmerramm.groupby(tsmerramm.index.month).mean()\n",
    "tsmerrasm = tsmerra.ozone.resample('M').std()\n",
    "tsmerrastdmt = tsmerrasm.groupby(tsmerrasm.index.month).std()\n",
    "#tropospheric\n",
    "tsmerratrop = merradftrop.set_index('date')\n",
    "tsmerrammtrop = tsmerratrop.ozone.resample('M').mean()\n",
    "tsmerrameanmttrop = tsmerrammtrop.groupby(tsmerrammtrop.index.month).mean()\n",
    "tsmerrasmtrop = tsmerratrop.ozone.resample('M').std()\n",
    "tsmerrastdmttrop = tsmerrasmtrop.groupby(tsmerrasmtrop.index.month).std()\n",
    "#stratospheric\n",
    "tsmerrastrat = merradfstrat.set_index('date')\n",
    "tsmerrammstrat = tsmerrastrat.ozone.resample('M').mean()\n",
    "tsmerrameanmtstrat = tsmerrammstrat.groupby(tsmerrammstrat.index.month).mean()\n",
    "tsmerrasmstrat = tsmerrastrat.ozone.resample('M').std()\n",
    "tsmerrastdmtstrat = tsmerrasmstrat.groupby(tsmerrasmstrat.index.month).std()"
   ]
  },
  {
   "cell_type": "code",
   "execution_count": 8,
   "metadata": {},
   "outputs": [],
   "source": [
    "# Hourly MERRA\n",
    "#total\n",
    "tsmerra = merradf.set_index('date')\n",
    "tsmerramean = tsmerra.ozone.groupby(tsmerra.index.hour).mean()\n",
    "tsmerrastd = tsmerra.ozone.groupby(tsmerra.index.hour).std()\n",
    "#tropospheric\n",
    "tsmerratrop = merradftrop.set_index('date')\n",
    "tsmerrameantrop = tsmerratrop.ozone.groupby(tsmerratrop.index.hour).mean()\n",
    "tsmerrastdtrop = tsmerratrop.ozone.groupby(tsmerratrop.index.hour).std()\n",
    "#stratospheric\n",
    "tsmerrastrat = merradfstrat.set_index('date')\n",
    "tsmerrameanstrat = tsmerrastrat.ozone.groupby(tsmerrastrat.index.hour).mean()\n",
    "tsmerrastdstrat = tsmerrastrat.ozone.groupby(tsmerrastrat.index.hour).std()"
   ]
  },
  {
   "cell_type": "code",
   "execution_count": 9,
   "metadata": {},
   "outputs": [],
   "source": [
    "########### END Building MERRA2 DataFrames\n",
    "########### BEGIN Building FTIR DataFrames"
   ]
  },
  {
   "cell_type": "code",
   "execution_count": 11,
   "metadata": {},
   "outputs": [],
   "source": [
    "#total\n",
    "date=[]\n",
    "O3=[]\n",
    "tempdf = pd.read_csv('D:\\\\CCA\\\\PANDONIA\\\\trop-total_O3\\\\totalO3.txt',sep='\\t',header=None)\n",
    "tempdf.set_axis(['date','ozone'], axis=1, inplace=True)\n",
    "for ii,ele in enumerate(tempdf.date):\n",
    "    date.append(dt.datetime.strptime(ele,'%Y-%m-%d:%H'))\n",
    "    O3.append(tempdf.ozone[ii])\n",
    "ftirdf = pd.DataFrame(data={\"date\": date, \"ozone\": O3})\n",
    "#tropospheric\n",
    "date=[]\n",
    "O3trop=[]\n",
    "tempdf = pd.read_csv('D:\\\\CCA\\\\PANDONIA\\\\trop-total_O3\\\\tropO3.txt',sep='\\t',header=None)\n",
    "tempdf.set_axis(['date','ozone'], axis=1, inplace=True)\n",
    "for ii,ele in enumerate(tempdf.date):\n",
    "    date.append(dt.datetime.strptime(ele,'%Y-%m-%d:%H'))\n",
    "    O3trop.append(tempdf.ozone[ii])\n",
    "ftirdftrop = pd.DataFrame(data={\"date\": date, \"ozone\": O3trop})"
   ]
  },
  {
   "cell_type": "code",
   "execution_count": 21,
   "metadata": {},
   "outputs": [],
   "source": [
    "#Hourly FTIR\n",
    "#total\n",
    "tsftir = ftirdf.set_index('date')\n",
    "tsftirmean = tsftir.ozone.groupby(tsftir.index.hour).mean()\n",
    "tsftirstd = tsftir.ozone.groupby(tsftir.index.hour).std()\n",
    "#tropospheric\n",
    "tsftirtrop = ftirdftrop.set_index('date')\n",
    "tsftirmeantrop = tsftirtrop.ozone.groupby(tsftir.index.hour).mean()\n",
    "tsftirstdtrop = tsftirtrop.ozone.groupby(tsftir.index.hour).std()\n",
    "#Monthly FTIR\n",
    "#total\n",
    "tsftirmeanmt = tsftir.ozone.groupby(tsftir.index.month).mean()\n",
    "tsftirstdmt = tsftir.ozone.groupby(tsftir.index.month).std()\n",
    "#tropospheric\n",
    "tsftirmeanmttrop = tsftirtrop.ozone.groupby(tsftir.index.month).mean()\n",
    "tsftirstdmttrop = tsftirtrop.ozone.groupby(tsftir.index.month).std()"
   ]
  },
  {
   "cell_type": "code",
   "execution_count": 13,
   "metadata": {},
   "outputs": [],
   "source": [
    "########### END Building FTIR DataFrames"
   ]
  },
  {
   "cell_type": "code",
   "execution_count": 14,
   "metadata": {},
   "outputs": [],
   "source": [
    "## simple plotting with error - DEPRECATED\n",
    "#ax = tslocmeanmt.plot(figsize=(10,6),title='Ozone yearly profile',ylabel='molecule/cm$^2$',yerr=tslocstdmt,capsize=4,fontsize=12)\n",
    "#tsmerramm2.plot(figsize=(10,6),xlabel='Month',yerr=tsmerrastdmt,capsize=4,fontsize=12)"
   ]
  },
  {
   "cell_type": "code",
   "execution_count": 29,
   "metadata": {},
   "outputs": [
    {
     "data": {
      "image/png": "[encoded data removed]",
      "text/plain": [
       "<Figure size 1008x576 with 1 Axes>"
      ]
     },
     "metadata": {
      "needs_background": "light"
     },
     "output_type": "display_data"
    }
   ],
   "source": [
    "## pyplot plotting\n",
    "# PANDONIA = loc, MERRA2 = merra, FTIR = ftir\n",
    "# varname format = ts + source + mean/std + hourly(none)/monthly(mt) + total(none)/trop/strat \n",
    "# e.g. tsmerrameanmttrop\n",
    "\n",
    "# Variable definition\n",
    "x1 = tslocmean.index\n",
    "y1 = tslocmean\n",
    "err1 = tslocstd\n",
    "x2 = tsmerrameantrop.index\n",
    "y2 = tsmerrameantrop\n",
    "err2 = tsmerrastdtrop\n",
    "x3 = tsftirmeantrop.index \n",
    "y3 = tsftirmeantrop\n",
    "err3 = tsftirstdtrop\n",
    "\n",
    "### INITIALIZATION\n",
    "fig, ax1 = plt.subplots(figsize=(14, 8))\n",
    "\n",
    "## line and stdev\n",
    "#ax1.plot(x1, y1, '-b')\n",
    "#ax1.fill_between(x1, y1-err1, y1+err1,alpha=.25, edgecolor='#3F7F4C', facecolor='b',linewidth=0)\n",
    "ax1.plot(x2, y2, '-g')\n",
    "ax1.fill_between(x2, y2-err2, y2+err2,alpha=.25, edgecolor='#3F7F4C', facecolor='g',linewidth=0)\n",
    "ax1.plot(x3, y3, '-r')\n",
    "ax1.fill_between(x3, y3-err3, y3+err3,alpha=.25, edgecolor='#3F7F4C', facecolor='r',linewidth=0)\n",
    "\n",
    "## LABEL, marker and errorbar\n",
    "#ax1.errorbar(x1, y1, yerr=err1, fmt='bo', label='Pandonia Altzomoni (total)')\n",
    "ax1.errorbar(x2, y2, yerr=err2, fmt='go', label='MERRA2 (tropospheric)')\n",
    "ax1.errorbar(x3, y3, yerr=err3, fmt='ro', label='FTIR (tropospheric)')\n",
    "\n",
    "## Formatting \n",
    "#ax1.set_xticks(np.arange(0,24))\n",
    "ax1.set_xlabel('Hour',size=14)\n",
    "ax1.set_ylabel('molecule/cm$^2$',size=14)\n",
    "ax1.set_title(\"Diurnal ozone profile\",size=16)\n",
    "ax1.legend(fontsize=12, loc='upper left')\n",
    "ax1.tick_params(labelsize=12)\n",
    "\n",
    "## SAVEFIG\n",
    "#plt.savefig('D:\\\\CCA\\\\PANDONIA\\\\diurnalO3PanAltzMERRA.png')"
   ]
  },
  {
   "cell_type": "code",
   "execution_count": null,
   "metadata": {},
   "outputs": [],
   "source": [
    "################## TESTING AFTER THIS LINE"
   ]
  },
  {
   "cell_type": "code",
   "execution_count": null,
   "metadata": {},
   "outputs": [],
   "source": [
    "testdf = pd.read_csv('D:\\\\CCA\\\\PANDONIA\\\\trop-total_O3\\\\tropO3.txt',sep='\\t',header=None)\n",
    "testdf.set_axis(['date','tropO3'], axis=1, inplace=True)\n",
    "testdf"
   ]
  },
  {
   "cell_type": "code",
   "execution_count": null,
   "metadata": {},
   "outputs": [],
   "source": [
    "dt.datetime.strptime(testdf.date[74061],'%Y-%m-%d:%H')"
   ]
  },
  {
   "cell_type": "code",
   "execution_count": null,
   "metadata": {},
   "outputs": [],
   "source": [
    "len(testdf.date)"
   ]
  },
  {
   "cell_type": "code",
   "execution_count": null,
   "metadata": {},
   "outputs": [],
   "source": [
    "for ii,ele in enumerate(testdf.date):\n",
    "    if (ii%10000)==0:\n",
    "        print(dt.datetime.strptime(ele,'%Y-%m-%d:%H'))\n",
    "        print(testdf.tropO3[ii])"
   ]
  },
  {
   "cell_type": "code",
   "execution_count": null,
   "metadata": {},
   "outputs": [],
   "source": []
  }
 ],
 "metadata": {
  "kernelspec": {
   "display_name": "Python 3",
   "language": "python",
   "name": "python3"
  },
  "language_info": {
   "codemirror_mode": {
    "name": "ipython",
    "version": 3
   },
   "file_extension": ".py",
   "mimetype": "text/x-python",
   "name": "python",
   "nbconvert_exporter": "python",
   "pygments_lexer": "ipython3",
   "version": "3.8.10"
  }
 },
 "nbformat": 4,
 "nbformat_minor": 4
}
