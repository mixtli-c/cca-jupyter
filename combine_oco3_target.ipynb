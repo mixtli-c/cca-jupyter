{
 "cells": [
  {
   "cell_type": "code",
   "execution_count": null,
   "metadata": {},
   "outputs": [],
   "source": [
    "# importamos los paquetes\n",
    "import numpy as np\n",
    "import h5py\n",
    "import glob\n",
    "import format_oco3_target"
   ]
  },
  {
   "cell_type": "code",
   "execution_count": null,
   "metadata": {},
   "outputs": [],
   "source": [
    "### Esta seccion requiere configuracion por el usuario\n",
    "\n",
    "# genera la lista de años y el arreglo de meses\n",
    "years = [2019,2020]          \n",
    "meses = np.arange(1,13)\n",
    "\n",
    "# \n",
    "readpath = \n",
    "writepath = \n",
    "\n",
    "### Fin de seccion que requiere configuracion por el usuario"
   ]
  },
  {
   "cell_type": "code",
   "execution_count": null,
   "metadata": {},
   "outputs": [],
   "source": [
    "# genera la lista de archivos fuente y el nombre del archivo hdf que se creara, llama a la funcion de procesamiento\n",
    "for year in years:\n",
    "    for mes in meses:\n",
    "        datapath =\"d:\\jupyter\\oco3_mexico_city\\h5\\*%i%02i*.h5\" % (year,mes)\n",
    "        lista = glob.glob(datapath)\n",
    "        lista.sort()\n",
    "        h5filename='d:\\jupyter\\oco3_mexico_city\\mexico\\mexico_co3_target_%i%02i.h5' % (year,mes)\n",
    "\n",
    "        if len(lista) != 0:\n",
    "            format_oco3_target.processlist(lista,h5filename)\n",
    "            #print len(lista)\n",
    "        else:\n",
    "            print(\"No hay archivos para %i-%02i\" % (year,mes))"
   ]
  }
 ],
 "metadata": {
  "kernelspec": {
   "display_name": "Python 3",
   "language": "python",
   "name": "python3"
  },
  "language_info": {
   "codemirror_mode": {
    "name": "ipython",
    "version": 3
   },
   "file_extension": ".py",
   "mimetype": "text/x-python",
   "name": "python",
   "nbconvert_exporter": "python",
   "pygments_lexer": "ipython3",
   "version": "3.8.3"
  }
 },
 "nbformat": 4,
 "nbformat_minor": 4
}
