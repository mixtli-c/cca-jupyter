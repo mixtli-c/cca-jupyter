{
 "cells": [
  {
   "cell_type": "code",
   "execution_count": 1,
   "id": "58177246",
   "metadata": {},
   "outputs": [],
   "source": [
    "import numpy as np\n",
    "import pandas as pd\n",
    "import datetime as dt\n",
    "import matplotlib.pyplot as plt\n",
    "import glob"
   ]
  },
  {
   "cell_type": "code",
   "execution_count": 2,
   "id": "f8a27752",
   "metadata": {},
   "outputs": [],
   "source": [
    "def avantes_aggregator(filepath,fileout):\n",
    "    \"\"\" Aggregates Avantes ASCII 2D spectra takes the log folder (avantes generated) and the name\n",
    "    (with path) of the output npy \"\"\"\n",
    "    files = glob.glob(filepath+'*.TXT')\n",
    "    #print(files)\n",
    "    for ii,filename in enumerate(files):\n",
    "        counts = []\n",
    "        if ii==0:\n",
    "            wavelength = []\n",
    "            with open(filename) as file:\n",
    "                lineas=file.readlines()\n",
    "                lineas=lineas[8:-2]\n",
    "            for line in lineas:\n",
    "                lines=line.split(';')\n",
    "                wavelength.append(float(lines[0]))\n",
    "                counts.append(float(lines[1]))\n",
    "            spectra=np.concatenate((np.array(wavelength,ndmin=2).T,np.array(counts,ndmin=2).T),axis=1)\n",
    "        else:\n",
    "            with open(filename) as file:\n",
    "                lineas=file.readlines()\n",
    "                lineas=lineas[8:-2]\n",
    "            for line in lineas:\n",
    "                lines=line.split(';')\n",
    "                counts.append(float(lines[1]))\n",
    "            spectra=np.concatenate((spectra,np.array(counts,ndmin=2).T),axis=1)\n",
    "    np.save(fileout,spectra)\n",
    "\n",
    "def spectra_accumulator(npyin,samples,verbose=0):\n",
    "    \"\"\" Accumulates a number of samples from the single spectrum npy matrix \"\"\"\n",
    "    ceaspec = np.load(npyin)\n",
    "    cols=len(ceaspec[0,:])\n",
    "\n",
    "    fromcol = 1\n",
    "    tocol = fromcol + samples\n",
    "    accum=np.copy(ceaspec[:,0]).reshape(len(ceaspec[:,0]),1)\n",
    "\n",
    "    while tocol<=cols:\n",
    "        #print(fromcol,tocol)\n",
    "        suma=np.sum(ceaspec[:,fromcol:tocol],axis=1,keepdims=1)\n",
    "        accum=np.concatenate((accum,suma),axis=1)\n",
    "        tocol=tocol+samples\n",
    "        fromcol=fromcol+samples\n",
    "    if verbose==1:\n",
    "        print(accum.shape)\n",
    "    return accum\n",
    "\n",
    "def extinction(I_sample, I_0, Reff, distance):\n",
    "    \"Calculates extinction spectrum\"\n",
    "    I_ratio=(I_0/I_sample)\n",
    "    return (1/distance)*(I_ratio-1)*(1-Reff)"
   ]
  },
  {
   "cell_type": "code",
   "execution_count": 24,
   "id": "05ea354c",
   "metadata": {},
   "outputs": [],
   "source": [
    "##### Spectra handling"
   ]
  },
  {
   "cell_type": "code",
   "execution_count": 4,
   "id": "d70bdb47",
   "metadata": {},
   "outputs": [],
   "source": [
    "## Load files into matrices\n",
    "logfolder1 = 'D:\\\\CCA\\\\Avantes\\\\logs29nov\\\\'\n",
    "#logfolder1 = '/home/mixtli/Avantes/logs30nov/'\n",
    "#DCbg1=np.load(logfolder1 + 'CEASbckg1DC.npy')\n",
    "#DCbg2=np.load(logfolder1 + 'CEASbckg2DC.npy')\n",
    "#DCln1=np.load(logfolder1 + 'CEASline1DC.npy')\n",
    "\n",
    "SCbg1 = spectra_accumulator(logfolder1 + 'CEASbckg1SC1.npy',20)\n",
    "SCbg2 = spectra_accumulator(logfolder1 + 'CEASbckg2SC1.npy',20)\n",
    "#SCln1 = spectra_accumulator(logfolder1 + 'CEASline1SC1.npy',20)"
   ]
  },
  {
   "cell_type": "code",
   "execution_count": null,
   "id": "7920a667",
   "metadata": {},
   "outputs": [],
   "source": [
    "## Extinction\n",
    "line=SCln1\n",
    "bckg=SCbg2\n",
    "I_sample=np.average(line[:,1:],axis=1)\n",
    "I_0=np.average(bckg[:,1:],axis=1)\n",
    "alpha1 = extinction(I_sample,I_0,0.99985,70)\n",
    "\n",
    "line=SCln1\n",
    "bckg=SCbg1\n",
    "I_sample=np.average(line[:,1:],axis=1)\n",
    "I_0=np.average(bckg[:,1:],axis=1)\n",
    "alpha2 = extinction(I_sample,I_0,0.99985,70)"
   ]
  }
 ],
 "metadata": {
  "kernelspec": {
   "display_name": "Python 3",
   "language": "python",
   "name": "python3"
  },
  "language_info": {
   "codemirror_mode": {
    "name": "ipython",
    "version": 3
   },
   "file_extension": ".py",
   "mimetype": "text/x-python",
   "name": "python",
   "nbconvert_exporter": "python",
   "pygments_lexer": "ipython3",
   "version": "3.8.10"
  }
 },
 "nbformat": 4,
 "nbformat_minor": 5
}
