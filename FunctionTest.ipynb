{
 "cells": [
  {
   "cell_type": "code",
   "execution_count": 1,
   "id": "8d9d3bda",
   "metadata": {},
   "outputs": [],
   "source": [
    "import netCDF4\n",
    "import numpy as np\n",
    "import datetime as dt\n",
    "import glob\n",
    "import matplotlib.pyplot as plt\n"
   ]
  },
  {
   "cell_type": "code",
   "execution_count": 2,
   "id": "275a3d5a",
   "metadata": {},
   "outputs": [],
   "source": [
    "def trunca(values, decs=0):\n",
    "    return np.trunc(values*10**decs)/(10**decs)\n",
    "\n",
    "def mincoords(latitude,longitude,lat,lon):\n",
    "    londiff=trunca(abs(lon-longitude),4)\n",
    "    latdiff=trunca(abs(lat-latitude),4)\n",
    "    minlondiff=np.amin(londiff)\n",
    "    minlatdiff=np.amin(latdiff)\n",
    "    minlon_index=np.where(londiff==minlondiff)\n",
    "    minlat_index=np.where(latdiff==minlatdiff)\n",
    "    lat_index=int(minlat_index[0])\n",
    "    lon_index=int(minlon_index[0])\n",
    "    return lat_index,lon_index\n",
    "\n",
    "def posixzero(filename):\n",
    "    date = dt.datetime.strptime(filename[-15:-7],'%Y%m%d')\n",
    "    t0 = dt.datetime.utcfromtimestamp(0.0)\n",
    "    time_zero = (date-t0).total_seconds()+30*60\n",
    "    return time_zero\n",
    "\n",
    "def posixconverter(time_zero,time):\n",
    "    posix=[]\n",
    "    for ele in time:\n",
    "        tposix = time_zero+ele*60\n",
    "        posix.append(tposix)\n",
    "    return posix\n",
    "\n",
    "def posixtodt(epoch):\n",
    "    dtime = []\n",
    "    for ele in epoch:\n",
    "        dtime.append(dt.datetime.utcfromtimestamp(ele))\n",
    "    return dtime"
   ]
  },
  {
   "cell_type": "code",
   "execution_count": 12,
   "id": "c6ccedf1",
   "metadata": {},
   "outputs": [],
   "source": [
    "latitude=19.1187\n",
    "longitude=-98.6552\n",
    "files = glob.glob('D:\\\\CCA\\\\NASAGESDISC\\\\MERRA2\\\\*.nc')\n",
    "\n",
    "for file in files:\n",
    "    \n",
    "    dset = netCDF4.Dataset(file)\n",
    "    ozone_mat=np.copy(dset['TO3'])\n",
    "    lat=np.copy(dset['lat'])\n",
    "    lon=np.copy(dset['lon'])\n",
    "    time=np.copy(dset['time'])\n",
    "    dset.close()\n",
    "    \n",
    "    time_zero = posixzero(file)\n",
    "    epoch = posixconverter(time_zero,time)\n",
    "    dtime = posixtodt(epoch)\n",
    "    \n",
    "    lai,loi=mincoords(latitude,longitude,lat,lon)\n",
    "    #print(lat[lai],lon[loi])\n",
    "    ozone = []\n",
    "    \n",
    "    for ii,ele in enumerate(dtime):\n",
    "        ozone.append(ozone_mat[ii,lai,loi])\n",
    "    \n",
    "    inter_mat = np.concatenate((np.array(dtime,ndmin=2).T,np.array(ozone,ndmin=2).T),axis=1)\n",
    "    \n",
    "    try:\n",
    "        datamat = np.concatenate((datamat,inter_mat),axis=0)\n",
    "    except:\n",
    "        datamat = np.copy(inter_mat)\n",
    "        \n"
   ]
  },
  {
   "cell_type": "code",
   "execution_count": 13,
   "id": "0564da52",
   "metadata": {},
   "outputs": [
    {
     "data": {
      "text/plain": [
       "[<matplotlib.lines.Line2D at 0x19a23686eb0>]"
      ]
     },
     "execution_count": 13,
     "metadata": {},
     "output_type": "execute_result"
    },
    {
     "data": {
      "image/png": "[encoded data removed]",
      "text/plain": [
       "<Figure size 432x288 with 1 Axes>"
      ]
     },
     "metadata": {
      "needs_background": "light"
     },
     "output_type": "display_data"
    }
   ],
   "source": [
    "plt.plot(datamat[:,0],datamat[:,1],'.b')"
   ]
  },
  {
   "cell_type": "code",
   "execution_count": 14,
   "id": "b252c1a1",
   "metadata": {},
   "outputs": [
    {
     "name": "stdout",
     "output_type": "stream",
     "text": [
      "19.0 -98.75\n"
     ]
    }
   ],
   "source": [
    "print(lat[lai],lon[loi])"
   ]
  },
  {
   "cell_type": "code",
   "execution_count": 15,
   "id": "fca2ed4a",
   "metadata": {},
   "outputs": [],
   "source": [
    "np.savez('MERRA19-9875.npz',dtime=datamat[:,0],ozone=datamat[:,1])"
   ]
  },
  {
   "cell_type": "code",
   "execution_count": null,
   "id": "f1385261",
   "metadata": {},
   "outputs": [],
   "source": []
  }
 ],
 "metadata": {
  "kernelspec": {
   "display_name": "Python 3",
   "language": "python",
   "name": "python3"
  },
  "language_info": {
   "codemirror_mode": {
    "name": "ipython",
    "version": 3
   },
   "file_extension": ".py",
   "mimetype": "text/x-python",
   "name": "python",
   "nbconvert_exporter": "python",
   "pygments_lexer": "ipython3",
   "version": "3.8.10"
  }
 },
 "nbformat": 4,
 "nbformat_minor": 5
}
