{
 "cells": [
  {
   "cell_type": "code",
   "execution_count": 2,
   "metadata": {},
   "outputs": [],
   "source": [
    "# importamos los paquetes\n",
    "import numpy as np\n",
    "import h5py\n",
    "import glob\n",
    "import format_co2"
   ]
  },
  {
   "cell_type": "code",
   "execution_count": 18,
   "metadata": {},
   "outputs": [],
   "source": [
    "### Esta seccion requiere configuracion por el usuario\n",
    "\n",
    "# genera la lista de años y el arreglo de meses\n",
    "years = [2019,2020]          \n",
    "meses = np.arange(1,13)\n",
    "\n",
    "# informacion sobre el path de los archivos\n",
    "readpath = 'D:\\\\CCA\\\\NASAGESDISC\\\\OCO3L2Lite\\\\LITE'\n",
    "readformat = '.nc4'\n",
    "\n",
    "# use read_seedname si los nombres de la fuente tienen un formato establecido, de lo contrario use *\n",
    "# NOTA: asegurese que el formato generado solo se repita en la seccion de fecha del archivo y no en otro identificador\n",
    "# (e.g. orbita)\n",
    "read_seedname = 'oco3_LtCO2_'\n",
    "\n",
    "writepath = 'D:\\\\CCA\\\\NASAGESDISC\\\\OCO3L2Lite\\\\mexico3\\\\'\n",
    "write_seedname = 'mexico_oco3_lite_'\n",
    "\n",
    "# yearformat: 0 si es dos digitos, 1 si es 4 digitos\n",
    "\n",
    "yearformat = 0\n",
    "\n",
    "### Fin de seccion que requiere configuracion por el usuario"
   ]
  },
  {
   "cell_type": "code",
   "execution_count": 20,
   "metadata": {},
   "outputs": [],
   "source": [
    "# testing\n",
    "for year in years:\n",
    "    for mes in meses:\n",
    "        if yearformat == 1:\n",
    "            filedate = read_seedname + '%i%02i*' % (year,mes)\n",
    "        else:\n",
    "            filedate = read_seedname + '%i%02i*' % (year-2000,mes)\n",
    "        datapath = readpath + filedate + readformat\n",
    "        #print(datapath)\n",
    "        lista = glob.glob(datapath)\n",
    "        lista.sort()\n",
    "        #print(lista)\n",
    "        h5filename = writepath + write_seedname + '%i%02i.h5' % (year,mes)\n",
    "        #print(h5filename)\n",
    "# end of testing"
   ]
  },
  {
   "cell_type": "code",
   "execution_count": null,
   "metadata": {},
   "outputs": [],
   "source": [
    "# genera la lista de archivos fuente y el nombre del archivo hdf que se creara, llama a la funcion de procesamiento\n",
    "for year in years:\n",
    "    for mes in meses:\n",
    "        if yearformat == 1:\n",
    "            filedate = read_seedname + '%i%02i*' % (year,mes)\n",
    "        else:\n",
    "            filedate = read_seedname + '%i%02i*' % (year-2000,mes)\n",
    "        datapath = readpath + filedate + readformat\n",
    "        lista = glob.glob(datapath)\n",
    "        lista.sort()\n",
    "        h5filename = writepath + write_seedname + '%i%02i.h5' % (year,mes)\n",
    "\n",
    "        if len(lista) != 0:\n",
    "            format_co2.processlist(lista,h5filename)\n",
    "            #print len(lista)\n",
    "        else:\n",
    "            print(\"No hay archivos para %i-%02i\" % (year,mes))"
   ]
  }
 ],
 "metadata": {
  "kernelspec": {
   "display_name": "Python 3",
   "language": "python",
   "name": "python3"
  },
  "language_info": {
   "codemirror_mode": {
    "name": "ipython",
    "version": 3
   },
   "file_extension": ".py",
   "mimetype": "text/x-python",
   "name": "python",
   "nbconvert_exporter": "python",
   "pygments_lexer": "ipython3",
   "version": "3.8.3"
  }
 },
 "nbformat": 4,
 "nbformat_minor": 4
}
