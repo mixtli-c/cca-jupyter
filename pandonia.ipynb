{
 "cells": [
  {
   "cell_type": "code",
   "execution_count": 1,
   "metadata": {},
   "outputs": [],
   "source": [
    "import numpy as np\n",
    "import matplotlib.pyplot as plt\n",
    "import matplotlib.dates as mdates\n",
    "import datetime as dt\n",
    "import pandas as pd"
   ]
  },
  {
   "cell_type": "code",
   "execution_count": null,
   "metadata": {},
   "outputs": [],
   "source": [
    "tsv_file = open(\"./testdata/PanAltz.txt\")\n",
    "dates = []\n",
    "o3 = []\n",
    "unc = []\n",
    "massf = []\n",
    "diffc = []\n",
    "qf = []\n",
    "S2idq1 = []\n",
    "S2idq2 = []\n",
    "\n",
    "for line in tsv_file:\n",
    "    lsplit = line.split()\n",
    "    try:\n",
    "        dates.append(dt.datetime.strptime(lsplit[0], '%Y%m%dT%H%M%S.%fZ'))\n",
    "    except: \n",
    "        dates.append(dt.datetime.strptime(lsplit[0], '%Y%m%dT%H%M%SZ'))\n",
    "    o3.append(float(lsplit[7]))\n",
    "    unc.append(float(lsplit[8]))\n",
    "    massf.append(float(lsplit[9]))\n",
    "    diffc.append(float(lsplit[10]))\n",
    "    qf.append(int(lsplit[11]))\n",
    "    S2idq1.append(float(lsplit[12]))\n",
    "    S2idq2.append(float(lsplit[13]))\n",
    "\n",
    "tsv_file.close()\n",
    "\n",
    "dtime = np.array(dates)\n",
    "ozone = np.array(o3)\n",
    "uncty = np.array(unc)\n",
    "o3massf = np.array(massf)\n",
    "diffcorr = np.array(diffc)\n",
    "qflag = np.array(qf)\n",
    "sum2iDQ1 = np.array(S2idq1)\n",
    "sum2iDQ2 = np.array(S2idq2)"
   ]
  },
  {
   "cell_type": "code",
   "execution_count": null,
   "metadata": {},
   "outputs": [],
   "source": [
    "mask = (qflag == 0) | (qflag == 1) | (qflag == 10) | (qflag == 11)"
   ]
  },
  {
   "cell_type": "code",
   "execution_count": null,
   "metadata": {},
   "outputs": [],
   "source": [
    "mask = (qflag == 0) | (qflag == 10) "
   ]
  },
  {
   "cell_type": "code",
   "execution_count": null,
   "metadata": {},
   "outputs": [],
   "source": [
    "tsv_file.close()"
   ]
  },
  {
   "cell_type": "code",
   "execution_count": null,
   "metadata": {},
   "outputs": [],
   "source": [
    "#plt.figure(figsize=(10,10))\n",
    "locator = mdates.AutoDateLocator()\n",
    "formatter = mdates.DateFormatter('%Y/%m')\n",
    "fig, ax = plt.subplots(figsize=(15,10))\n",
    "plt.plot_date(dtime[mask],ozone[mask]*2.6868e16) \n",
    "ax.xaxis.set_major_formatter(formatter)\n",
    "ax.xaxis.set_tick_params(rotation=30, labelsize=12)\n",
    "ax.yaxis.set_tick_params(labelsize=12)\n",
    "#plt.xlabel('Date', size =15)\n",
    "plt.ylabel('molecule/cm$^2$', size =15)\n",
    "plt.title(\"Ozone (QF 0,10: high; assured, not-assured)\", size =20)\n",
    "#plt.tight_layout()\n",
    "#plt.savefig(name_plotout)\n",
    "plt.show()"
   ]
  },
  {
   "cell_type": "code",
   "execution_count": null,
   "metadata": {},
   "outputs": [],
   "source": [
    "for ele in sum2iDQ1:\n",
    "    print(ele)"
   ]
  },
  {
   "cell_type": "code",
   "execution_count": null,
   "metadata": {},
   "outputs": [],
   "source": [
    "print(ozone[mask].shape,qflag.shape)"
   ]
  },
  {
   "cell_type": "code",
   "execution_count": null,
   "metadata": {},
   "outputs": [],
   "source": [
    "np.savez(\"PandoraCCA\", dtime=dtime, ozone=ozone,uncty = uncty,o3massf = o3massf, diffcorr = diffcorr, qflag = qflag, sum2iDQ1 = sum2iDQ1, sum2iDQ2 = sum2iDQ2)"
   ]
  },
  {
   "cell_type": "code",
   "execution_count": null,
   "metadata": {
    "scrolled": false
   },
   "outputs": [],
   "source": [
    "for ele,ii in enumerate(dtime):\n",
    "    if (ele.hour > 0) & (ele.hour < 13):\n",
    "        print(ele.strftime(\"%d-%b-%Y (%H:%M:%S.%f)\"))"
   ]
  },
  {
   "cell_type": "code",
   "execution_count": null,
   "metadata": {},
   "outputs": [],
   "source": [
    "for ii,ele in enumerate(dtime):\n",
    "    print(ele)"
   ]
  },
  {
   "cell_type": "code",
   "execution_count": null,
   "metadata": {},
   "outputs": [],
   "source": [
    "t0 = dt.datetime.utcfromtimestamp(0.0)\n",
    "tepoch = np.array([(ele-t0).total_seconds() for ele in dtime])\n",
    "print(tepoch)"
   ]
  },
  {
   "cell_type": "code",
   "execution_count": null,
   "metadata": {},
   "outputs": [],
   "source": [
    "print(tepoch.shape)"
   ]
  },
  {
   "cell_type": "code",
   "execution_count": null,
   "metadata": {},
   "outputs": [],
   "source": [
    "firstday = dt.datetime(year=dtime[0].year,month=dtime[0].month,day=dtime[0].day)\n",
    "localfirstday = dt.datetime.fromtimestamp((firstday-t0).total_seconds())\n",
    "print(firstday,localfirstday)"
   ]
  },
  {
   "cell_type": "code",
   "execution_count": null,
   "metadata": {},
   "outputs": [],
   "source": [
    "for ele in tepoch:\n",
    "    tmp = dt.datetime.fromtimestamp(ele)\n",
    "    print(tmp)"
   ]
  },
  {
   "cell_type": "code",
   "execution_count": null,
   "metadata": {},
   "outputs": [],
   "source": [
    "#necesito hacer un epoch para ir hora por hora haciendo los promedios, o quiza se pueda hacer dia por dia"
   ]
  },
  {
   "cell_type": "code",
   "execution_count": 2,
   "metadata": {},
   "outputs": [],
   "source": [
    "#### PANDAS test"
   ]
  },
  {
   "cell_type": "code",
   "execution_count": 2,
   "metadata": {},
   "outputs": [],
   "source": [
    "npz = np.load('PandoraAltz.npz',allow_pickle=True)\n",
    "df= pd.DataFrame.from_dict({item: npz[item] for item in npz.files})"
   ]
  },
  {
   "cell_type": "code",
   "execution_count": 3,
   "metadata": {},
   "outputs": [
    {
     "data": {
      "text/plain": [
       "dtime       datetime64[ns]\n",
       "ozone              float64\n",
       "uncty              float64\n",
       "o3massf            float64\n",
       "diffcorr           float64\n",
       "qflag                int64\n",
       "sum2iDQ1           float64\n",
       "sum2iDQ2           float64\n",
       "dtype: object"
      ]
     },
     "execution_count": 3,
     "metadata": {},
     "output_type": "execute_result"
    }
   ],
   "source": [
    "df.dtypes"
   ]
  },
  {
   "cell_type": "code",
   "execution_count": 4,
   "metadata": {},
   "outputs": [
    {
     "data": {
      "text/plain": [
       "dtime\n",
       "2019-01-24 13:00:00     35.202662\n",
       "2019-01-24 14:00:00    191.753971\n",
       "2019-01-24 15:00:00    239.834286\n",
       "2019-01-24 16:00:00    245.016000\n",
       "2019-01-24 17:00:00    240.464857\n",
       "                          ...    \n",
       "2021-05-25 19:00:00    252.520000\n",
       "2021-05-25 20:00:00    265.500000\n",
       "2021-05-25 21:00:00           NaN\n",
       "2021-05-25 22:00:00    255.385000\n",
       "2021-05-25 23:00:00    260.750000\n",
       "Freq: H, Name: ozone, Length: 20459, dtype: float64"
      ]
     },
     "execution_count": 4,
     "metadata": {},
     "output_type": "execute_result"
    }
   ],
   "source": [
    "# data re-sampled based on an hour\n",
    "df.resample('H', on='dtime').ozone.mean()"
   ]
  },
  {
   "cell_type": "code",
   "execution_count": 5,
   "metadata": {},
   "outputs": [],
   "source": [
    "options = [0,10] \n",
    "rslt_df = df[df['qflag'].isin(options)] "
   ]
  },
  {
   "cell_type": "code",
   "execution_count": 6,
   "metadata": {},
   "outputs": [
    {
     "data": {
      "text/html": [
       "<div>\n",
       "<style scoped>\n",
       "    .dataframe tbody tr th:only-of-type {\n",
       "        vertical-align: middle;\n",
       "    }\n",
       "\n",
       "    .dataframe tbody tr th {\n",
       "        vertical-align: top;\n",
       "    }\n",
       "\n",
       "    .dataframe thead th {\n",
       "        text-align: right;\n",
       "    }\n",
       "</style>\n",
       "<table border=\"1\" class=\"dataframe\">\n",
       "  <thead>\n",
       "    <tr style=\"text-align: right;\">\n",
       "      <th></th>\n",
       "      <th>dtime</th>\n",
       "      <th>ozone</th>\n",
       "      <th>uncty</th>\n",
       "      <th>o3massf</th>\n",
       "      <th>diffcorr</th>\n",
       "      <th>qflag</th>\n",
       "      <th>sum2iDQ1</th>\n",
       "      <th>sum2iDQ2</th>\n",
       "    </tr>\n",
       "  </thead>\n",
       "  <tbody>\n",
       "    <tr>\n",
       "      <th>562</th>\n",
       "      <td>2019-02-01 15:39:56.000</td>\n",
       "      <td>231.93</td>\n",
       "      <td>0.077097</td>\n",
       "      <td>1.915</td>\n",
       "      <td>0.0</td>\n",
       "      <td>0</td>\n",
       "      <td>0.0</td>\n",
       "      <td>0.0</td>\n",
       "    </tr>\n",
       "    <tr>\n",
       "      <th>563</th>\n",
       "      <td>2019-02-01 15:41:21.000</td>\n",
       "      <td>232.15</td>\n",
       "      <td>0.075858</td>\n",
       "      <td>1.900</td>\n",
       "      <td>0.0</td>\n",
       "      <td>0</td>\n",
       "      <td>0.0</td>\n",
       "      <td>0.0</td>\n",
       "    </tr>\n",
       "    <tr>\n",
       "      <th>564</th>\n",
       "      <td>2019-02-01 15:42:48.000</td>\n",
       "      <td>231.43</td>\n",
       "      <td>0.107100</td>\n",
       "      <td>1.886</td>\n",
       "      <td>0.0</td>\n",
       "      <td>0</td>\n",
       "      <td>0.0</td>\n",
       "      <td>0.0</td>\n",
       "    </tr>\n",
       "    <tr>\n",
       "      <th>565</th>\n",
       "      <td>2019-02-01 15:44:12.000</td>\n",
       "      <td>231.30</td>\n",
       "      <td>0.081117</td>\n",
       "      <td>1.871</td>\n",
       "      <td>0.0</td>\n",
       "      <td>0</td>\n",
       "      <td>0.0</td>\n",
       "      <td>0.0</td>\n",
       "    </tr>\n",
       "    <tr>\n",
       "      <th>566</th>\n",
       "      <td>2019-02-01 15:45:38.000</td>\n",
       "      <td>231.54</td>\n",
       "      <td>0.080339</td>\n",
       "      <td>1.858</td>\n",
       "      <td>0.0</td>\n",
       "      <td>0</td>\n",
       "      <td>0.0</td>\n",
       "      <td>0.0</td>\n",
       "    </tr>\n",
       "    <tr>\n",
       "      <th>...</th>\n",
       "      <td>...</td>\n",
       "      <td>...</td>\n",
       "      <td>...</td>\n",
       "      <td>...</td>\n",
       "      <td>...</td>\n",
       "      <td>...</td>\n",
       "      <td>...</td>\n",
       "      <td>...</td>\n",
       "    </tr>\n",
       "    <tr>\n",
       "      <th>45825</th>\n",
       "      <td>2021-05-25 17:08:18.600</td>\n",
       "      <td>252.34</td>\n",
       "      <td>0.211250</td>\n",
       "      <td>1.062</td>\n",
       "      <td>0.0</td>\n",
       "      <td>10</td>\n",
       "      <td>0.0</td>\n",
       "      <td>0.0</td>\n",
       "    </tr>\n",
       "    <tr>\n",
       "      <th>45827</th>\n",
       "      <td>2021-05-25 17:18:07.400</td>\n",
       "      <td>252.42</td>\n",
       "      <td>0.080186</td>\n",
       "      <td>1.048</td>\n",
       "      <td>0.0</td>\n",
       "      <td>10</td>\n",
       "      <td>0.0</td>\n",
       "      <td>0.0</td>\n",
       "    </tr>\n",
       "    <tr>\n",
       "      <th>45830</th>\n",
       "      <td>2021-05-25 17:32:50.400</td>\n",
       "      <td>252.51</td>\n",
       "      <td>0.076676</td>\n",
       "      <td>1.030</td>\n",
       "      <td>0.0</td>\n",
       "      <td>10</td>\n",
       "      <td>0.0</td>\n",
       "      <td>0.0</td>\n",
       "    </tr>\n",
       "    <tr>\n",
       "      <th>45832</th>\n",
       "      <td>2021-05-25 17:50:55.700</td>\n",
       "      <td>252.56</td>\n",
       "      <td>0.335810</td>\n",
       "      <td>1.015</td>\n",
       "      <td>0.0</td>\n",
       "      <td>10</td>\n",
       "      <td>0.0</td>\n",
       "      <td>0.0</td>\n",
       "    </tr>\n",
       "    <tr>\n",
       "      <th>45834</th>\n",
       "      <td>2021-05-25 18:02:22.300</td>\n",
       "      <td>252.36</td>\n",
       "      <td>0.473210</td>\n",
       "      <td>1.008</td>\n",
       "      <td>0.0</td>\n",
       "      <td>10</td>\n",
       "      <td>0.0</td>\n",
       "      <td>0.0</td>\n",
       "    </tr>\n",
       "  </tbody>\n",
       "</table>\n",
       "<p>28961 rows × 8 columns</p>\n",
       "</div>"
      ],
      "text/plain": [
       "                        dtime   ozone     uncty  o3massf  diffcorr  qflag  \\\n",
       "562   2019-02-01 15:39:56.000  231.93  0.077097    1.915       0.0      0   \n",
       "563   2019-02-01 15:41:21.000  232.15  0.075858    1.900       0.0      0   \n",
       "564   2019-02-01 15:42:48.000  231.43  0.107100    1.886       0.0      0   \n",
       "565   2019-02-01 15:44:12.000  231.30  0.081117    1.871       0.0      0   \n",
       "566   2019-02-01 15:45:38.000  231.54  0.080339    1.858       0.0      0   \n",
       "...                       ...     ...       ...      ...       ...    ...   \n",
       "45825 2021-05-25 17:08:18.600  252.34  0.211250    1.062       0.0     10   \n",
       "45827 2021-05-25 17:18:07.400  252.42  0.080186    1.048       0.0     10   \n",
       "45830 2021-05-25 17:32:50.400  252.51  0.076676    1.030       0.0     10   \n",
       "45832 2021-05-25 17:50:55.700  252.56  0.335810    1.015       0.0     10   \n",
       "45834 2021-05-25 18:02:22.300  252.36  0.473210    1.008       0.0     10   \n",
       "\n",
       "       sum2iDQ1  sum2iDQ2  \n",
       "562         0.0       0.0  \n",
       "563         0.0       0.0  \n",
       "564         0.0       0.0  \n",
       "565         0.0       0.0  \n",
       "566         0.0       0.0  \n",
       "...         ...       ...  \n",
       "45825       0.0       0.0  \n",
       "45827       0.0       0.0  \n",
       "45830       0.0       0.0  \n",
       "45832       0.0       0.0  \n",
       "45834       0.0       0.0  \n",
       "\n",
       "[28961 rows x 8 columns]"
      ]
     },
     "execution_count": 6,
     "metadata": {},
     "output_type": "execute_result"
    }
   ],
   "source": [
    "rslt_df"
   ]
  },
  {
   "cell_type": "code",
   "execution_count": 7,
   "metadata": {},
   "outputs": [
    {
     "data": {
      "text/plain": [
       "dtime\n",
       "2019-02-01 15:00:00    231.949167\n",
       "2019-02-01 16:00:00    232.647586\n",
       "2019-02-01 17:00:00    233.207500\n",
       "2019-02-01 18:00:00    233.131786\n",
       "2019-02-01 19:00:00           NaN\n",
       "                          ...    \n",
       "2021-05-25 14:00:00    258.063000\n",
       "2021-05-25 15:00:00    256.573000\n",
       "2021-05-25 16:00:00    253.595000\n",
       "2021-05-25 17:00:00    252.457500\n",
       "2021-05-25 18:00:00    252.360000\n",
       "Freq: H, Name: ozone, Length: 20260, dtype: float64"
      ]
     },
     "execution_count": 7,
     "metadata": {},
     "output_type": "execute_result"
    }
   ],
   "source": [
    "rslt_df.resample('H', on='dtime').ozone.mean()"
   ]
  },
  {
   "cell_type": "code",
   "execution_count": 8,
   "metadata": {},
   "outputs": [],
   "source": [
    "ts = rslt_df.set_index('dtime')"
   ]
  },
  {
   "cell_type": "code",
   "execution_count": 9,
   "metadata": {},
   "outputs": [
    {
     "data": {
      "text/html": [
       "<div>\n",
       "<style scoped>\n",
       "    .dataframe tbody tr th:only-of-type {\n",
       "        vertical-align: middle;\n",
       "    }\n",
       "\n",
       "    .dataframe tbody tr th {\n",
       "        vertical-align: top;\n",
       "    }\n",
       "\n",
       "    .dataframe thead th {\n",
       "        text-align: right;\n",
       "    }\n",
       "</style>\n",
       "<table border=\"1\" class=\"dataframe\">\n",
       "  <thead>\n",
       "    <tr style=\"text-align: right;\">\n",
       "      <th></th>\n",
       "      <th>ozone</th>\n",
       "      <th>uncty</th>\n",
       "      <th>o3massf</th>\n",
       "      <th>diffcorr</th>\n",
       "      <th>qflag</th>\n",
       "      <th>sum2iDQ1</th>\n",
       "      <th>sum2iDQ2</th>\n",
       "    </tr>\n",
       "    <tr>\n",
       "      <th>dtime</th>\n",
       "      <th></th>\n",
       "      <th></th>\n",
       "      <th></th>\n",
       "      <th></th>\n",
       "      <th></th>\n",
       "      <th></th>\n",
       "      <th></th>\n",
       "    </tr>\n",
       "  </thead>\n",
       "  <tbody>\n",
       "    <tr>\n",
       "      <th>2019-02-01 15:39:56.000</th>\n",
       "      <td>231.93</td>\n",
       "      <td>0.077097</td>\n",
       "      <td>1.915</td>\n",
       "      <td>0.0</td>\n",
       "      <td>0</td>\n",
       "      <td>0.0</td>\n",
       "      <td>0.0</td>\n",
       "    </tr>\n",
       "    <tr>\n",
       "      <th>2019-02-01 15:41:21.000</th>\n",
       "      <td>232.15</td>\n",
       "      <td>0.075858</td>\n",
       "      <td>1.900</td>\n",
       "      <td>0.0</td>\n",
       "      <td>0</td>\n",
       "      <td>0.0</td>\n",
       "      <td>0.0</td>\n",
       "    </tr>\n",
       "    <tr>\n",
       "      <th>2019-02-01 15:42:48.000</th>\n",
       "      <td>231.43</td>\n",
       "      <td>0.107100</td>\n",
       "      <td>1.886</td>\n",
       "      <td>0.0</td>\n",
       "      <td>0</td>\n",
       "      <td>0.0</td>\n",
       "      <td>0.0</td>\n",
       "    </tr>\n",
       "    <tr>\n",
       "      <th>2019-02-01 15:44:12.000</th>\n",
       "      <td>231.30</td>\n",
       "      <td>0.081117</td>\n",
       "      <td>1.871</td>\n",
       "      <td>0.0</td>\n",
       "      <td>0</td>\n",
       "      <td>0.0</td>\n",
       "      <td>0.0</td>\n",
       "    </tr>\n",
       "    <tr>\n",
       "      <th>2019-02-01 15:45:38.000</th>\n",
       "      <td>231.54</td>\n",
       "      <td>0.080339</td>\n",
       "      <td>1.858</td>\n",
       "      <td>0.0</td>\n",
       "      <td>0</td>\n",
       "      <td>0.0</td>\n",
       "      <td>0.0</td>\n",
       "    </tr>\n",
       "    <tr>\n",
       "      <th>...</th>\n",
       "      <td>...</td>\n",
       "      <td>...</td>\n",
       "      <td>...</td>\n",
       "      <td>...</td>\n",
       "      <td>...</td>\n",
       "      <td>...</td>\n",
       "      <td>...</td>\n",
       "    </tr>\n",
       "    <tr>\n",
       "      <th>2021-05-25 17:08:18.600</th>\n",
       "      <td>252.34</td>\n",
       "      <td>0.211250</td>\n",
       "      <td>1.062</td>\n",
       "      <td>0.0</td>\n",
       "      <td>10</td>\n",
       "      <td>0.0</td>\n",
       "      <td>0.0</td>\n",
       "    </tr>\n",
       "    <tr>\n",
       "      <th>2021-05-25 17:18:07.400</th>\n",
       "      <td>252.42</td>\n",
       "      <td>0.080186</td>\n",
       "      <td>1.048</td>\n",
       "      <td>0.0</td>\n",
       "      <td>10</td>\n",
       "      <td>0.0</td>\n",
       "      <td>0.0</td>\n",
       "    </tr>\n",
       "    <tr>\n",
       "      <th>2021-05-25 17:32:50.400</th>\n",
       "      <td>252.51</td>\n",
       "      <td>0.076676</td>\n",
       "      <td>1.030</td>\n",
       "      <td>0.0</td>\n",
       "      <td>10</td>\n",
       "      <td>0.0</td>\n",
       "      <td>0.0</td>\n",
       "    </tr>\n",
       "    <tr>\n",
       "      <th>2021-05-25 17:50:55.700</th>\n",
       "      <td>252.56</td>\n",
       "      <td>0.335810</td>\n",
       "      <td>1.015</td>\n",
       "      <td>0.0</td>\n",
       "      <td>10</td>\n",
       "      <td>0.0</td>\n",
       "      <td>0.0</td>\n",
       "    </tr>\n",
       "    <tr>\n",
       "      <th>2021-05-25 18:02:22.300</th>\n",
       "      <td>252.36</td>\n",
       "      <td>0.473210</td>\n",
       "      <td>1.008</td>\n",
       "      <td>0.0</td>\n",
       "      <td>10</td>\n",
       "      <td>0.0</td>\n",
       "      <td>0.0</td>\n",
       "    </tr>\n",
       "  </tbody>\n",
       "</table>\n",
       "<p>28961 rows × 7 columns</p>\n",
       "</div>"
      ],
      "text/plain": [
       "                          ozone     uncty  o3massf  diffcorr  qflag  sum2iDQ1  \\\n",
       "dtime                                                                           \n",
       "2019-02-01 15:39:56.000  231.93  0.077097    1.915       0.0      0       0.0   \n",
       "2019-02-01 15:41:21.000  232.15  0.075858    1.900       0.0      0       0.0   \n",
       "2019-02-01 15:42:48.000  231.43  0.107100    1.886       0.0      0       0.0   \n",
       "2019-02-01 15:44:12.000  231.30  0.081117    1.871       0.0      0       0.0   \n",
       "2019-02-01 15:45:38.000  231.54  0.080339    1.858       0.0      0       0.0   \n",
       "...                         ...       ...      ...       ...    ...       ...   \n",
       "2021-05-25 17:08:18.600  252.34  0.211250    1.062       0.0     10       0.0   \n",
       "2021-05-25 17:18:07.400  252.42  0.080186    1.048       0.0     10       0.0   \n",
       "2021-05-25 17:32:50.400  252.51  0.076676    1.030       0.0     10       0.0   \n",
       "2021-05-25 17:50:55.700  252.56  0.335810    1.015       0.0     10       0.0   \n",
       "2021-05-25 18:02:22.300  252.36  0.473210    1.008       0.0     10       0.0   \n",
       "\n",
       "                         sum2iDQ2  \n",
       "dtime                              \n",
       "2019-02-01 15:39:56.000       0.0  \n",
       "2019-02-01 15:41:21.000       0.0  \n",
       "2019-02-01 15:42:48.000       0.0  \n",
       "2019-02-01 15:44:12.000       0.0  \n",
       "2019-02-01 15:45:38.000       0.0  \n",
       "...                           ...  \n",
       "2021-05-25 17:08:18.600       0.0  \n",
       "2021-05-25 17:18:07.400       0.0  \n",
       "2021-05-25 17:32:50.400       0.0  \n",
       "2021-05-25 17:50:55.700       0.0  \n",
       "2021-05-25 18:02:22.300       0.0  \n",
       "\n",
       "[28961 rows x 7 columns]"
      ]
     },
     "execution_count": 9,
     "metadata": {},
     "output_type": "execute_result"
    }
   ],
   "source": [
    "ts"
   ]
  },
  {
   "cell_type": "code",
   "execution_count": 12,
   "metadata": {},
   "outputs": [
    {
     "data": {
      "text/plain": [
       "dtime\n",
       "2019-02-01 15:00:00    231.949167\n",
       "2019-02-01 16:00:00    232.647586\n",
       "2019-02-01 17:00:00    233.207500\n",
       "2019-02-01 18:00:00    233.131786\n",
       "2019-02-01 19:00:00           NaN\n",
       "                          ...    \n",
       "2021-05-25 14:00:00    258.063000\n",
       "2021-05-25 15:00:00    256.573000\n",
       "2021-05-25 16:00:00    253.595000\n",
       "2021-05-25 17:00:00    252.457500\n",
       "2021-05-25 18:00:00    252.360000\n",
       "Freq: H, Name: ozone, Length: 20260, dtype: float64"
      ]
     },
     "execution_count": 12,
     "metadata": {},
     "output_type": "execute_result"
    }
   ],
   "source": [
    "ts.resample('H',origin='2019-01-01').ozone.mean()"
   ]
  },
  {
   "cell_type": "code",
   "execution_count": 15,
   "metadata": {},
   "outputs": [
    {
     "data": {
      "text/plain": [
       "dtime\n",
       "0     260.255217\n",
       "12    253.399608\n",
       "13    244.567032\n",
       "14    239.191956\n",
       "15    238.762829\n",
       "16    237.866644\n",
       "17    237.164966\n",
       "18    237.222574\n",
       "19    238.353270\n",
       "20    239.559332\n",
       "21    240.426911\n",
       "22    240.170703\n",
       "23    238.894343\n",
       "Name: ozone, dtype: float64"
      ]
     },
     "execution_count": 15,
     "metadata": {},
     "output_type": "execute_result"
    }
   ],
   "source": [
    "ts.ozone.groupby(ts.index.hour).mean()"
   ]
  },
  {
   "cell_type": "code",
   "execution_count": 16,
   "metadata": {},
   "outputs": [
    {
     "data": {
      "text/plain": [
       "dtime\n",
       "0      9.612463\n",
       "12     9.920024\n",
       "13    14.382471\n",
       "14    13.305322\n",
       "15    12.099483\n",
       "16    11.433803\n",
       "17    11.018347\n",
       "18    10.942111\n",
       "19    10.893694\n",
       "20    11.610637\n",
       "21    11.554137\n",
       "22    11.784281\n",
       "23    12.489875\n",
       "Name: ozone, dtype: float64"
      ]
     },
     "execution_count": 16,
     "metadata": {},
     "output_type": "execute_result"
    }
   ],
   "source": [
    "ts.ozone.groupby(ts.index.hour).std()"
   ]
  },
  {
   "cell_type": "code",
   "execution_count": null,
   "metadata": {},
   "outputs": [],
   "source": []
  }
 ],
 "metadata": {
  "kernelspec": {
   "display_name": "Python 3",
   "language": "python",
   "name": "python3"
  },
  "language_info": {
   "codemirror_mode": {
    "name": "ipython",
    "version": 3
   },
   "file_extension": ".py",
   "mimetype": "text/x-python",
   "name": "python",
   "nbconvert_exporter": "python",
   "pygments_lexer": "ipython3",
   "version": "3.8.10"
  }
 },
 "nbformat": 4,
 "nbformat_minor": 4
}
