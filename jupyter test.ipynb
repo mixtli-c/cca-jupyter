{
 "cells": [
  {
   "cell_type": "code",
   "execution_count": 1,
   "metadata": {},
   "outputs": [],
   "source": [
    "import numpy as np\n",
    "import h5py\n",
    "import glob\n",
    "import datetime as dt"
   ]
  },
  {
   "cell_type": "code",
   "execution_count": null,
   "metadata": {},
   "outputs": [],
   "source": [
    "# este es un comentario"
   ]
  },
  {
   "cell_type": "code",
   "execution_count": null,
   "metadata": {},
   "outputs": [],
   "source": [
    "# la parte de abajo es el formato en windows para que glob lea los archivos, se puede usar * para separar una parte a \n",
    "# revisar"
   ]
  },
  {
   "cell_type": "code",
   "execution_count": 4,
   "metadata": {
    "scrolled": true
   },
   "outputs": [
    {
     "ename": "SyntaxError",
     "evalue": "(unicode error) 'unicodeescape' codec can't decode bytes in position 6-7: malformed \\N character escape (<ipython-input-4-36bdb7327cd3>, line 1)",
     "output_type": "error",
     "traceback": [
      "\u001b[1;36m  File \u001b[1;32m\"<ipython-input-4-36bdb7327cd3>\"\u001b[1;36m, line \u001b[1;32m1\u001b[0m\n\u001b[1;33m    for file in glob.glob('f:\\CCA\\NASAGESDISC\\OCO3L2StdB\\*2002*.h5'):\u001b[0m\n\u001b[1;37m                          ^\u001b[0m\n\u001b[1;31mSyntaxError\u001b[0m\u001b[1;31m:\u001b[0m (unicode error) 'unicodeescape' codec can't decode bytes in position 6-7: malformed \\N character escape\n"
     ]
    }
   ],
   "source": [
    "for file in glob.glob('f:\\CCA\\NASAGESDISC\\OCO3L2StdB\\*2002*.h5'):\n",
    "    print(file)"
   ]
  },
  {
   "cell_type": "code",
   "execution_count": 24,
   "metadata": {},
   "outputs": [
    {
     "name": "stdout",
     "output_type": "stream",
     "text": [
      "f:\\CCA\\NASAGESDISC\\OCO3L2StdB\\oco3_L2StdSC_02006a_190910.h5\n"
     ]
    }
   ],
   "source": [
    "for file in glob.glob('f:\\\\CCA\\\\NASAGESDISC\\\\OCO3L2StdB\\\\*2006*.h5'):\n",
    "    print(file)"
   ]
  },
  {
   "cell_type": "code",
   "execution_count": null,
   "metadata": {},
   "outputs": [],
   "source": [
    "# Lo que sigue son pruebas para abrir los archivos hdf de targets"
   ]
  },
  {
   "cell_type": "code",
   "execution_count": 30,
   "metadata": {},
   "outputs": [
    {
     "name": "stdout",
     "output_type": "stream",
     "text": [
      "<HDF5 file \"test.h5\" (mode r+)>\n"
     ]
    }
   ],
   "source": [
    "file = h5py.File('test.h5','r+')\n",
    "print(file)"
   ]
  },
  {
   "cell_type": "code",
   "execution_count": 31,
   "metadata": {},
   "outputs": [
    {
     "name": "stdout",
     "output_type": "stream",
     "text": [
      "[414.75715906 413.32641356 415.31022552 415.60405348 415.38420947\n",
      " 414.91095679 415.27289336 415.16605188 414.95685714 414.8935443\n",
      " 414.5701473  414.76684635 414.68661835 413.54574953 413.42527263\n",
      " 414.01691535 414.40365651 414.47957971 413.79697313 415.15436535\n",
      " 415.41788116 414.76391153 414.09080985 414.1271336  413.92229442\n",
      " 414.68001412 415.48531493 414.52456595 413.93967164 414.29053129\n",
      " 413.30044641 414.35496022 414.7517919  413.97220254 412.5392612\n",
      " 415.22998156 414.91259723 415.42198341 415.85246305 414.17075997\n",
      " 414.48070656 414.66213252 415.10407903 414.54541008 414.59324181\n",
      " 413.55028473 416.04884009 414.91421486 413.90094844 411.80577247\n",
      " 414.35993235 415.68432109 414.2107483  414.16992749 414.83078403\n",
      " 415.81774777 415.33967375 415.73440169 413.94915375 415.47312805\n",
      " 414.95388978 414.57007837 414.79951672 414.67068204 413.88472505\n",
      " 414.87644235 414.44279693 413.72202305 414.63067623 413.93874281\n",
      " 411.28213673 414.71409604 414.43606058 415.27353157 414.54635363\n",
      " 410.73689901 413.12721061 413.60804681 413.29108295 413.47811417\n",
      " 413.57814025 413.89288621 411.88878904 412.91751108 413.97193553\n",
      " 413.50706928 412.57164899 411.99098733 413.95941426 412.52516172\n",
      " 414.06036334 413.13607727 412.41010018 412.20070802 413.96976004\n",
      " 412.04170518 414.3244109  414.68353115 414.23606112 413.78680579\n",
      " 412.62609315 413.28987353 412.94956893 413.01747251 411.79195318\n",
      " 412.74296978 413.71950124 412.99625688 415.20974279 413.39889281\n",
      " 414.22184501 412.35139533 413.93831575 411.98994508 412.53119026\n",
      " 413.85166691 413.56554415 412.84597927 412.95401144 414.22685155\n",
      " 413.40001898 412.15636768 413.00609908 413.46071856 411.77457114\n",
      " 414.33413234 412.84955154 412.47437613 414.31119268 413.80491987\n",
      " 412.31989166 412.94515034 412.41527205 412.75157713 412.00064839\n",
      " 413.27196999 413.65533325 413.02765759 413.10794879 414.17124643\n",
      " 414.35169368 412.66445336 413.28456494 413.18041842 414.02141433\n",
      " 412.81529769 413.42440264 412.94727658 414.20956178 414.9868704\n",
      " 413.65064103 415.17446725 415.02141374 414.33697917 413.08086022\n",
      " 412.7081887  415.94157435 413.1288449  414.62686612 412.95824787\n",
      " 413.28590621 412.67037021 412.80345137 414.15773258 413.56985013\n",
      " 412.29396926 414.67020901 414.63736526 412.89184328 413.27420197\n",
      " 412.75838181 412.8865216  412.18213092 412.88302864 412.39957123\n",
      " 414.46215135 413.06099236 411.95485547 411.69076149 412.53324447\n",
      " 413.4298913  413.70163131 413.38397374 413.08395599 414.03034832\n",
      " 414.081422   412.44115676 413.85853755 412.39725988 411.78278719\n",
      " 412.81724627 413.61442596 415.03674106 415.78137274 414.27396853\n",
      " 414.55765935 415.16638066 415.56373537 416.10289469 414.66492073\n",
      " 412.9327815  415.62368658 416.00884398 414.99148709 415.47416322\n",
      " 415.0048955  415.13298731 415.25626692 413.20509335 414.76218336\n",
      " 412.76888143 413.88981834 412.92745219 413.77013736 415.18540852\n",
      " 415.0454562  412.879764   414.77066276 413.79145358 413.90848798\n",
      " 413.54382742 413.15116223 415.21913987 413.01303384 413.88156737\n",
      " 413.63251615 414.25832978 414.03638794 414.78438648 413.95600066\n",
      " 414.77915952 414.85649885 413.4440285  413.78599539 414.49837528\n",
      " 414.3630233  412.92415072 412.99623746 414.34032558 414.09995012\n",
      " 413.48776798 413.89160528 413.77806585 414.10041425 413.17239599\n",
      " 414.13666153 413.17065084 414.13941992 414.87910955 412.22513485\n",
      " 413.76982553 414.36959417 413.43927466 414.61286529 414.50479201\n",
      " 413.58218197 413.75328879 411.81285338 411.77457239 414.21938185\n",
      " 414.94206552 414.06657472 414.81184088 415.20506139 413.85627041\n",
      " 414.80313062 415.27746911 413.70404856 414.31278418 413.59812352\n",
      " 412.57716313 414.79961409 414.51084876 414.81894179 415.21565993\n",
      " 415.92507182 412.93093005 414.5030932  413.82265555 410.52390912\n",
      " 414.10804078 414.13220007 413.56787095 412.27763782 412.43067952\n",
      " 414.081454   414.44573314 413.65280901 413.54469782 412.64352627\n",
      " 412.81516039 414.06226429 414.28965169 413.98313515 409.78489745\n",
      " 412.87267007 413.82144397 414.2340313  412.39649555 411.13604264\n",
      " 410.91232257 413.27518621 413.60820588 413.07552144 414.96912526\n",
      " 414.16848062 413.93683096 413.05576003 413.72132511 413.92941265\n",
      " 414.80969834 414.57577145 412.68868666 414.33677315 412.42611476\n",
      " 413.90406298 414.73610152 413.91023755 413.33610721 414.85773513\n",
      " 414.30051121 413.00156437 410.25150164 413.38211458 413.5373749\n",
      " 413.75272398 413.96008192 413.74507174 412.22991477 413.52239607\n",
      " 412.92464105 412.89063166 413.55847898 412.2868634  410.86139482\n",
      " 411.84750853 411.78896317 412.83481191 412.81637523 413.17558959\n",
      " 412.99929796 412.98462318 411.95044218 413.77371101 414.16727755\n",
      " 414.17002034 413.66513845 415.43987545 413.75950337 413.43771794\n",
      " 411.72991179 413.83088778 412.74309483 411.47653018 411.62444258\n",
      " 409.91848459 413.67232855 408.47205581 411.28950387 413.4787024\n",
      " 413.22429173 412.28756614 412.45802772 415.07985626 413.1270075\n",
      " 412.00146295 412.6990447  412.07130699 413.3281531  413.19096173\n",
      " 414.91201185 413.5678189  411.24224451 415.79071106 415.59652074\n",
      " 411.36651129 414.06355827 413.56426363 412.24112593 414.55710862\n",
      " 412.67606573 415.76188019 411.16904389 412.68519845 414.82556471\n",
      " 414.83260653 413.61062114 415.77419241 413.52138042 413.26589612\n",
      " 414.68629763 413.26231989 414.07288389 414.16291311 415.30423678\n",
      " 415.74874313 411.63782819 414.22508733 414.65426317 415.70316722\n",
      " 413.12050246 413.89223226 415.18884556 413.94724018 414.83230142\n",
      " 416.54620255 416.42084356 416.0811721  414.43003148 415.47219508\n",
      " 415.21692567 414.3088989  416.19571711 415.36129003 415.16606375\n",
      " 415.43555815 415.39620915 414.79914895 415.5934665  416.21560236\n",
      " 416.134286   414.07322434 415.74262181 415.63828124 415.98485194\n",
      " 415.82866508 416.5741699  415.49895267 416.32898906 415.77593209\n",
      " 415.477706   414.60652319 415.42961441 415.71868192 415.26376457\n",
      " 415.4778737  414.20234798 415.26503942 415.02092532 413.84430033\n",
      " 414.3727545  414.37230455 412.86424957 414.57080822 415.51522519\n",
      " 415.53298602 416.0661429  414.25712295 415.91817731 415.97967665\n",
      " 414.59914588 415.68337227 415.0636034  415.96298904 414.29600724\n",
      " 415.43893933 414.59398859 416.03093535 414.40269731 414.82039546\n",
      " 414.16450365 413.93353008 413.97874431 414.43327664 414.16400101\n",
      " 414.61108761 414.74597317 414.31950645 414.21498351 412.60056649\n",
      " 413.69180765 415.3983223  414.91694563 414.905175   415.22699651\n",
      " 415.05725212 413.93009171 413.53425893 413.74793242 414.17944513\n",
      " 414.5875402  413.70839912 413.16610018 414.37879702 414.4434586\n",
      " 414.40279012 414.49574719 414.42474865 414.36556317 413.93228421\n",
      " 411.56526427 413.4465999  414.40986557 414.72681837 413.90932077\n",
      " 414.23147231 412.60771345 414.62678777 413.69621653 414.05920352\n",
      " 413.16460341 414.51564198 414.80543624 413.63647946 415.24809783\n",
      " 412.9403132  414.24173215 414.66291416 413.25464816 412.78132122\n",
      " 414.52429193 414.55399783 414.34112943 413.81974927 415.58470195\n",
      " 413.35413064 413.64356857 413.79670694 413.70527616 413.34392106\n",
      " 413.38952955 414.90049406 413.30363244 412.79986488 414.33760072\n",
      " 414.45106201 413.35743168 409.25081294 412.83113788 414.43567302\n",
      " 414.55777363 413.19892094 413.68892823 414.38894414 414.60701363\n",
      " 415.59139526 414.50042392 413.25005022 414.47929765 414.08011821\n",
      " 414.12033963 414.23626655 416.04827175 414.27833888 413.76425393\n",
      " 414.20027259 414.93440546 411.29671195 411.38537192 415.77851965\n",
      " 416.86450176 414.95800891 417.46194458 415.78034858 415.376812\n",
      " 414.11456178 415.52076625 413.25958383 414.1269514  415.0911427\n",
      " 414.48676494 414.24845834 416.02217529 416.13438954 416.20822313\n",
      " 416.73352844 416.87759837 415.37076198 415.90068739 415.39716344\n",
      " 417.07627728 417.14033136 412.69004517 417.14187163 416.04759358\n",
      " 417.20582296 416.50429341 414.6999808  415.08973906 415.12467396\n",
      " 414.28857434 416.23967811 416.11756292 414.96608611 415.87575879\n",
      " 416.20136425 415.39060553 416.05537967 415.74203689 415.49507271\n",
      " 414.43714904 414.17782349 416.81156741 413.67866635 415.45972701\n",
      " 414.23468506 413.46625226 413.8564819  408.69026839 413.1060807\n",
      " 413.61005283 413.09512066 412.15851474 413.5834404  413.60399223\n",
      " 412.75033023 413.81053906]\n"
     ]
    }
   ],
   "source": [
    "print(file['xco2'][()])"
   ]
  },
  {
   "cell_type": "code",
   "execution_count": 8,
   "metadata": {},
   "outputs": [
    {
     "ename": "AttributeError",
     "evalue": "'str' object has no attribute 'close'",
     "output_type": "error",
     "traceback": [
      "\u001b[1;31m---------------------------------------------------------------------------\u001b[0m",
      "\u001b[1;31mAttributeError\u001b[0m                            Traceback (most recent call last)",
      "\u001b[1;32m<ipython-input-8-2f72176549a0>\u001b[0m in \u001b[0;36m<module>\u001b[1;34m\u001b[0m\n\u001b[1;32m----> 1\u001b[1;33m \u001b[0mfile\u001b[0m\u001b[1;33m.\u001b[0m\u001b[0mclose\u001b[0m\u001b[1;33m(\u001b[0m\u001b[1;33m)\u001b[0m\u001b[1;33m\u001b[0m\u001b[1;33m\u001b[0m\u001b[0m\n\u001b[0m",
      "\u001b[1;31mAttributeError\u001b[0m: 'str' object has no attribute 'close'"
     ]
    }
   ],
   "source": [
    "file.close()"
   ]
  },
  {
   "cell_type": "code",
   "execution_count": null,
   "metadata": {},
   "outputs": [],
   "source": [
    "# algunas cosas para datetime"
   ]
  },
  {
   "cell_type": "code",
   "execution_count": 6,
   "metadata": {},
   "outputs": [
    {
     "name": "stdout",
     "output_type": "stream",
     "text": [
      "1970-01-01 00:00:00 2020-07-27 21:55:09.532146 1595886909.532146\n"
     ]
    }
   ],
   "source": [
    "t0=dt.datetime.utcfromtimestamp(0.0)\n",
    "t1=dt.datetime.now()\n",
    "dift=(t1-t0).total_seconds()\n",
    "print(t0,t1,dift)"
   ]
  },
  {
   "cell_type": "code",
   "execution_count": null,
   "metadata": {},
   "outputs": [],
   "source": [
    "# esto deberia convertir TIA93 a UTC"
   ]
  },
  {
   "cell_type": "code",
   "execution_count": 8,
   "metadata": {},
   "outputs": [
    {
     "name": "stdout",
     "output_type": "stream",
     "text": [
      "855332899.229365 725846400.0 1970-01-01 00:00:00 1993-01-01 00:00:00\n",
      "1581179299.2293649\n",
      "2020-02-08 16:28:19.229365\n"
     ]
    }
   ],
   "source": [
    "# escribre tai93 en unix time\n",
    "tai93=8.55332899229365E8                                  # TAI93\n",
    "t0=dt.datetime.utcfromtimestamp(0.0)                      # 1970-1-1 00:00:00\n",
    "t93=dt.datetime(1993,1,1,0,0,0,0)                         # 1993-1-1 00:00:00\n",
    "t93secs=(t93-t0).total_seconds()                          # segundos de 1970 a 1993\n",
    "tai93_to_unix=t93secs+tai93                               # segundos de 1970 a 1993 + TAI93\n",
    "utcfromtai = dt.datetime.utcfromtimestamp(tai93_to_unix)  # fecha de acuerdo a los segundos totales\n",
    "print(tai93,t93secs,t0,t93)\n",
    "print(tai93_to_unix)\n",
    "print(utcfromtai)"
   ]
  },
  {
   "cell_type": "code",
   "execution_count": null,
   "metadata": {},
   "outputs": [],
   "source": [
    "# cosas para abrir y cerrar archivo txt de variables y hacer los tipos"
   ]
  },
  {
   "cell_type": "code",
   "execution_count": 21,
   "metadata": {
    "scrolled": true
   },
   "outputs": [
    {
     "name": "stdout",
     "output_type": "stream",
     "text": [
      "tepoch, float\\lat, float\\lon, float\\/PreprocessingResults/surface_pressure_abp, float\\/PreprocessingResults/surface_pressure_apriori_abp, float\\/RetrievalGeometry/retrieval_altitude, float\\/RetrievalGeometry/retrieval_latitude, float\\/RetrievalGeometry/retrieval_longitude, float\\/RetrievalGeometry/retrieval_solar_azimuth, float\\/RetrievalResults/co2_profile_apriori, float, 20\\/RetrievalResults/vector_pressure_levels, float, 20\\/RetrievalResults/surface_pressure_apriori_fph, float\\/RetrievalResults/surface_pressure_fph, float\\/RetrievalResults/wind_speed, float\\/RetrievalResults/wind_speed_apriori, float\\/RetrievalResults/xco2, float\\/RetrievalResults/xco2_apriori, float\\/RetrievalResults/xco2_avg_kernel, float, 20\\/RetrievalResults/xco2_pressure_weighting_function, float, 20\\/RetrievalResults/xco2_uncert, float\\/RetrievalHeader/retrieval_time_tai93, float64\n"
     ]
    }
   ],
   "source": [
    "variables = open('oco3variables.txt','r')\n",
    "vartxt = variables.read().replace('\\n','')\n",
    "variables.close()\n",
    "print(vartxt)"
   ]
  },
  {
   "cell_type": "code",
   "execution_count": 22,
   "metadata": {
    "scrolled": true
   },
   "outputs": [
    {
     "name": "stdout",
     "output_type": "stream",
     "text": [
      "[('tepoch', 'float'), ('lat', 'float'), ('lon', 'float'), ('/PreprocessingResults/surface_pressure_abp', 'float'), ('/PreprocessingResults/surface_pressure_apriori_abp', 'float'), ('/RetrievalGeometry/retrieval_altitude', 'float'), ('/RetrievalGeometry/retrieval_latitude', 'float'), ('/RetrievalGeometry/retrieval_longitude', 'float'), ('/RetrievalGeometry/retrieval_solar_azimuth', 'float'), ('/RetrievalResults/co2_profile_apriori', 'float', 20), ('/RetrievalResults/vector_pressure_levels', 'float', 20), ('/RetrievalResults/surface_pressure_apriori_fph', 'float'), ('/RetrievalResults/surface_pressure_fph', 'float'), ('/RetrievalResults/wind_speed', 'float'), ('/RetrievalResults/wind_speed_apriori', 'float'), ('/RetrievalResults/xco2', 'float'), ('/RetrievalResults/xco2_apriori', 'float'), ('/RetrievalResults/xco2_avg_kernel', 'float', 20), ('/RetrievalResults/xco2_pressure_weighting_function', 'float', 20), ('/RetrievalResults/xco2_uncert', 'float'), ('/RetrievalHeader/retrieval_time_tai93', 'float64')]\n"
     ]
    }
   ],
   "source": [
    "fields = []\n",
    "for ele in vartxt.split(\"\\\\\"):\n",
    "    trozos = tuple(ele.split(\",\"))\n",
    "    #print(trozos)\n",
    "    tupla = []\n",
    "    for ii,ele in enumerate(trozos):\n",
    "        if ii == 2:\n",
    "            tupla.append(int(ele.strip()))\n",
    "        else:\n",
    "            tupla.append(ele.strip())\n",
    "    fields.append(tuple(tupla))\n",
    "print(fields)"
   ]
  },
  {
   "cell_type": "code",
   "execution_count": 23,
   "metadata": {
    "scrolled": true
   },
   "outputs": [
    {
     "name": "stdout",
     "output_type": "stream",
     "text": [
      "[('tepoch', '<f8'), ('lat', '<f8'), ('lon', '<f8'), ('/PreprocessingResults/surface_pressure_abp', '<f8'), ('/PreprocessingResults/surface_pressure_apriori_abp', '<f8'), ('/RetrievalGeometry/retrieval_altitude', '<f8'), ('/RetrievalGeometry/retrieval_latitude', '<f8'), ('/RetrievalGeometry/retrieval_longitude', '<f8'), ('/RetrievalGeometry/retrieval_solar_azimuth', '<f8'), ('/RetrievalResults/co2_profile_apriori', '<f8', (20,)), ('/RetrievalResults/vector_pressure_levels', '<f8', (20,)), ('/RetrievalResults/surface_pressure_apriori_fph', '<f8'), ('/RetrievalResults/surface_pressure_fph', '<f8'), ('/RetrievalResults/wind_speed', '<f8'), ('/RetrievalResults/wind_speed_apriori', '<f8'), ('/RetrievalResults/xco2', '<f8'), ('/RetrievalResults/xco2_apriori', '<f8'), ('/RetrievalResults/xco2_avg_kernel', '<f8', (20,)), ('/RetrievalResults/xco2_pressure_weighting_function', '<f8', (20,)), ('/RetrievalResults/xco2_uncert', '<f8'), ('/RetrievalHeader/retrieval_time_tai93', '<f8')]\n"
     ]
    }
   ],
   "source": [
    "tipos=np.dtype(fields)\n",
    "print(tipos)"
   ]
  },
  {
   "cell_type": "code",
   "execution_count": null,
   "metadata": {},
   "outputs": [],
   "source": [
    "#ahora que se creo el archivo"
   ]
  }
 ],
 "metadata": {
  "kernelspec": {
   "display_name": "Python 3",
   "language": "python",
   "name": "python3"
  },
  "language_info": {
   "codemirror_mode": {
    "name": "ipython",
    "version": 3
   },
   "file_extension": ".py",
   "mimetype": "text/x-python",
   "name": "python",
   "nbconvert_exporter": "python",
   "pygments_lexer": "ipython3",
   "version": "3.8.3"
  }
 },
 "nbformat": 4,
 "nbformat_minor": 4
}
