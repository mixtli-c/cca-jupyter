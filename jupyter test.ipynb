{
 "cells": [
  {
   "cell_type": "code",
   "execution_count": 1,
   "metadata": {},
   "outputs": [],
   "source": [
    "import numpy as np\n",
    "import h5py\n",
    "import glob\n",
    "import datetime as dt"
   ]
  },
  {
   "cell_type": "code",
   "execution_count": null,
   "metadata": {},
   "outputs": [],
   "source": [
    "# este es un comentario"
   ]
  },
  {
   "cell_type": "code",
   "execution_count": null,
   "metadata": {},
   "outputs": [],
   "source": [
    "# la parte de abajo es el formato en windows para que glob lea los archivos, se puede usar * para separar una parte a \n",
    "# revisar"
   ]
  },
  {
   "cell_type": "code",
   "execution_count": 4,
   "metadata": {
    "scrolled": true
   },
   "outputs": [
    {
     "ename": "SyntaxError",
     "evalue": "(unicode error) 'unicodeescape' codec can't decode bytes in position 6-7: malformed \\N character escape (<ipython-input-4-36bdb7327cd3>, line 1)",
     "output_type": "error",
     "traceback": [
      "\u001b[1;36m  File \u001b[1;32m\"<ipython-input-4-36bdb7327cd3>\"\u001b[1;36m, line \u001b[1;32m1\u001b[0m\n\u001b[1;33m    for file in glob.glob('f:\\CCA\\NASAGESDISC\\OCO3L2StdB\\*2002*.h5'):\u001b[0m\n\u001b[1;37m                          ^\u001b[0m\n\u001b[1;31mSyntaxError\u001b[0m\u001b[1;31m:\u001b[0m (unicode error) 'unicodeescape' codec can't decode bytes in position 6-7: malformed \\N character escape\n"
     ]
    }
   ],
   "source": [
    "for file in glob.glob('f:\\CCA\\NASAGESDISC\\OCO3L2StdB\\*2002*.h5'):\n",
    "    print(file)"
   ]
  },
  {
   "cell_type": "code",
   "execution_count": 24,
   "metadata": {},
   "outputs": [
    {
     "name": "stdout",
     "output_type": "stream",
     "text": [
      "f:\\CCA\\NASAGESDISC\\OCO3L2StdB\\oco3_L2StdSC_02006a_190910.h5\n"
     ]
    }
   ],
   "source": [
    "for file in glob.glob('f:\\\\CCA\\\\NASAGESDISC\\\\OCO3L2StdB\\\\*2006*.h5'):\n",
    "    print(file)"
   ]
  },
  {
   "cell_type": "code",
   "execution_count": null,
   "metadata": {},
   "outputs": [],
   "source": [
    "# Lo que sigue son pruebas para abrir los archivos hdf de targets"
   ]
  },
  {
   "cell_type": "code",
   "execution_count": 30,
   "metadata": {},
   "outputs": [
    {
     "name": "stdout",
     "output_type": "stream",
     "text": [
      "<HDF5 file \"test.h5\" (mode r+)>\n"
     ]
    }
   ],
   "source": [
    "file = h5py.File('test.h5','r+')\n",
    "print(file)"
   ]
  },
  {
   "cell_type": "code",
   "execution_count": 31,
   "metadata": {},
   "outputs": [
    {
     "name": "stdout",
     "output_type": "stream",
     "text": [
      "[414.75715906 413.32641356 415.31022552 415.60405348 415.38420947\n",
      " 414.91095679 415.27289336 415.16605188 414.95685714 414.8935443\n",
      " 414.5701473  414.76684635 414.68661835 413.54574953 413.42527263\n",
      " 414.01691535 414.40365651 414.47957971 413.79697313 415.15436535\n",
      " 415.41788116 414.76391153 414.09080985 414.1271336  413.92229442\n",
      " 414.68001412 415.48531493 414.52456595 413.93967164 414.29053129\n",
      " 413.30044641 414.35496022 414.7517919  413.97220254 412.5392612\n",
      " 415.22998156 414.91259723 415.42198341 415.85246305 414.17075997\n",
      " 414.48070656 414.66213252 415.10407903 414.54541008 414.59324181\n",
      " 413.55028473 416.04884009 414.91421486 413.90094844 411.80577247\n",
      " 414.35993235 415.68432109 414.2107483  414.16992749 414.83078403\n",
      " 415.81774777 415.33967375 415.73440169 413.94915375 415.47312805\n",
      " 414.95388978 414.57007837 414.79951672 414.67068204 413.88472505\n",
      " 414.87644235 414.44279693 413.72202305 414.63067623 413.93874281\n",
      " 411.28213673 414.71409604 414.43606058 415.27353157 414.54635363\n",
      " 410.73689901 413.12721061 413.60804681 413.29108295 413.47811417\n",
      " 413.57814025 413.89288621 411.88878904 412.91751108 413.97193553\n",
      " 413.50706928 412.57164899 411.99098733 413.95941426 412.52516172\n",
      " 414.06036334 413.13607727 412.41010018 412.20070802 413.96976004\n",
      " 412.04170518 414.3244109  414.68353115 414.23606112 413.78680579\n",
      " 412.62609315 413.28987353 412.94956893 413.01747251 411.79195318\n",
      " 412.74296978 413.71950124 412.99625688 415.20974279 413.39889281\n",
      " 414.22184501 412.35139533 413.93831575 411.98994508 412.53119026\n",
      " 413.85166691 413.56554415 412.84597927 412.95401144 414.22685155\n",
      " 413.40001898 412.15636768 413.00609908 413.46071856 411.77457114\n",
      " 414.33413234 412.84955154 412.47437613 414.31119268 413.80491987\n",
      " 412.31989166 412.94515034 412.41527205 412.75157713 412.00064839\n",
      " 413.27196999 413.65533325 413.02765759 413.10794879 414.17124643\n",
      " 414.35169368 412.66445336 413.28456494 413.18041842 414.02141433\n",
      " 412.81529769 413.42440264 412.94727658 414.20956178 414.9868704\n",
      " 413.65064103 415.17446725 415.02141374 414.33697917 413.08086022\n",
      " 412.7081887  415.94157435 413.1288449  414.62686612 412.95824787\n",
      " 413.28590621 412.67037021 412.80345137 414.15773258 413.56985013\n",
      " 412.29396926 414.67020901 414.63736526 412.89184328 413.27420197\n",
      " 412.75838181 412.8865216  412.18213092 412.88302864 412.39957123\n",
      " 414.46215135 413.06099236 411.95485547 411.69076149 412.53324447\n",
      " 413.4298913  413.70163131 413.38397374 413.08395599 414.03034832\n",
      " 414.081422   412.44115676 413.85853755 412.39725988 411.78278719\n",
      " 412.81724627 413.61442596 415.03674106 415.78137274 414.27396853\n",
      " 414.55765935 415.16638066 415.56373537 416.10289469 414.66492073\n",
      " 412.9327815  415.62368658 416.00884398 414.99148709 415.47416322\n",
      " 415.0048955  415.13298731 415.25626692 413.20509335 414.76218336\n",
      " 412.76888143 413.88981834 412.92745219 413.77013736 415.18540852\n",
      " 415.0454562  412.879764   414.77066276 413.79145358 413.90848798\n",
      " 413.54382742 413.15116223 415.21913987 413.01303384 413.88156737\n",
      " 413.63251615 414.25832978 414.03638794 414.78438648 413.95600066\n",
      " 414.77915952 414.85649885 413.4440285  413.78599539 414.49837528\n",
      " 414.3630233  412.92415072 412.99623746 414.34032558 414.09995012\n",
      " 413.48776798 413.89160528 413.77806585 414.10041425 413.17239599\n",
      " 414.13666153 413.17065084 414.13941992 414.87910955 412.22513485\n",
      " 413.76982553 414.36959417 413.43927466 414.61286529 414.50479201\n",
      " 413.58218197 413.75328879 411.81285338 411.77457239 414.21938185\n",
      " 414.94206552 414.06657472 414.81184088 415.20506139 413.85627041\n",
      " 414.80313062 415.27746911 413.70404856 414.31278418 413.59812352\n",
      " 412.57716313 414.79961409 414.51084876 414.81894179 415.21565993\n",
      " 415.92507182 412.93093005 414.5030932  413.82265555 410.52390912\n",
      " 414.10804078 414.13220007 413.56787095 412.27763782 412.43067952\n",
      " 414.081454   414.44573314 413.65280901 413.54469782 412.64352627\n",
      " 412.81516039 414.06226429 414.28965169 413.98313515 409.78489745\n",
      " 412.87267007 413.82144397 414.2340313  412.39649555 411.13604264\n",
      " 410.91232257 413.27518621 413.60820588 413.07552144 414.96912526\n",
      " 414.16848062 413.93683096 413.05576003 413.72132511 413.92941265\n",
      " 414.80969834 414.57577145 412.68868666 414.33677315 412.42611476\n",
      " 413.90406298 414.73610152 413.91023755 413.33610721 414.85773513\n",
      " 414.30051121 413.00156437 410.25150164 413.38211458 413.5373749\n",
      " 413.75272398 413.96008192 413.74507174 412.22991477 413.52239607\n",
      " 412.92464105 412.89063166 413.55847898 412.2868634  410.86139482\n",
      " 411.84750853 411.78896317 412.83481191 412.81637523 413.17558959\n",
      " 412.99929796 412.98462318 411.95044218 413.77371101 414.16727755\n",
      " 414.17002034 413.66513845 415.43987545 413.75950337 413.43771794\n",
      " 411.72991179 413.83088778 412.74309483 411.47653018 411.62444258\n",
      " 409.91848459 413.67232855 408.47205581 411.28950387 413.4787024\n",
      " 413.22429173 412.28756614 412.45802772 415.07985626 413.1270075\n",
      " 412.00146295 412.6990447  412.07130699 413.3281531  413.19096173\n",
      " 414.91201185 413.5678189  411.24224451 415.79071106 415.59652074\n",
      " 411.36651129 414.06355827 413.56426363 412.24112593 414.55710862\n",
      " 412.67606573 415.76188019 411.16904389 412.68519845 414.82556471\n",
      " 414.83260653 413.61062114 415.77419241 413.52138042 413.26589612\n",
      " 414.68629763 413.26231989 414.07288389 414.16291311 415.30423678\n",
      " 415.74874313 411.63782819 414.22508733 414.65426317 415.70316722\n",
      " 413.12050246 413.89223226 415.18884556 413.94724018 414.83230142\n",
      " 416.54620255 416.42084356 416.0811721  414.43003148 415.47219508\n",
      " 415.21692567 414.3088989  416.19571711 415.36129003 415.16606375\n",
      " 415.43555815 415.39620915 414.79914895 415.5934665  416.21560236\n",
      " 416.134286   414.07322434 415.74262181 415.63828124 415.98485194\n",
      " 415.82866508 416.5741699  415.49895267 416.32898906 415.77593209\n",
      " 415.477706   414.60652319 415.42961441 415.71868192 415.26376457\n",
      " 415.4778737  414.20234798 415.26503942 415.02092532 413.84430033\n",
      " 414.3727545  414.37230455 412.86424957 414.57080822 415.51522519\n",
      " 415.53298602 416.0661429  414.25712295 415.91817731 415.97967665\n",
      " 414.59914588 415.68337227 415.0636034  415.96298904 414.29600724\n",
      " 415.43893933 414.59398859 416.03093535 414.40269731 414.82039546\n",
      " 414.16450365 413.93353008 413.97874431 414.43327664 414.16400101\n",
      " 414.61108761 414.74597317 414.31950645 414.21498351 412.60056649\n",
      " 413.69180765 415.3983223  414.91694563 414.905175   415.22699651\n",
      " 415.05725212 413.93009171 413.53425893 413.74793242 414.17944513\n",
      " 414.5875402  413.70839912 413.16610018 414.37879702 414.4434586\n",
      " 414.40279012 414.49574719 414.42474865 414.36556317 413.93228421\n",
      " 411.56526427 413.4465999  414.40986557 414.72681837 413.90932077\n",
      " 414.23147231 412.60771345 414.62678777 413.69621653 414.05920352\n",
      " 413.16460341 414.51564198 414.80543624 413.63647946 415.24809783\n",
      " 412.9403132  414.24173215 414.66291416 413.25464816 412.78132122\n",
      " 414.52429193 414.55399783 414.34112943 413.81974927 415.58470195\n",
      " 413.35413064 413.64356857 413.79670694 413.70527616 413.34392106\n",
      " 413.38952955 414.90049406 413.30363244 412.79986488 414.33760072\n",
      " 414.45106201 413.35743168 409.25081294 412.83113788 414.43567302\n",
      " 414.55777363 413.19892094 413.68892823 414.38894414 414.60701363\n",
      " 415.59139526 414.50042392 413.25005022 414.47929765 414.08011821\n",
      " 414.12033963 414.23626655 416.04827175 414.27833888 413.76425393\n",
      " 414.20027259 414.93440546 411.29671195 411.38537192 415.77851965\n",
      " 416.86450176 414.95800891 417.46194458 415.78034858 415.376812\n",
      " 414.11456178 415.52076625 413.25958383 414.1269514  415.0911427\n",
      " 414.48676494 414.24845834 416.02217529 416.13438954 416.20822313\n",
      " 416.73352844 416.87759837 415.37076198 415.90068739 415.39716344\n",
      " 417.07627728 417.14033136 412.69004517 417.14187163 416.04759358\n",
      " 417.20582296 416.50429341 414.6999808  415.08973906 415.12467396\n",
      " 414.28857434 416.23967811 416.11756292 414.96608611 415.87575879\n",
      " 416.20136425 415.39060553 416.05537967 415.74203689 415.49507271\n",
      " 414.43714904 414.17782349 416.81156741 413.67866635 415.45972701\n",
      " 414.23468506 413.46625226 413.8564819  408.69026839 413.1060807\n",
      " 413.61005283 413.09512066 412.15851474 413.5834404  413.60399223\n",
      " 412.75033023 413.81053906]\n"
     ]
    }
   ],
   "source": [
    "print(file['xco2'][()])"
   ]
  },
  {
   "cell_type": "code",
   "execution_count": 8,
   "metadata": {},
   "outputs": [
    {
     "ename": "AttributeError",
     "evalue": "'str' object has no attribute 'close'",
     "output_type": "error",
     "traceback": [
      "\u001b[1;31m---------------------------------------------------------------------------\u001b[0m",
      "\u001b[1;31mAttributeError\u001b[0m                            Traceback (most recent call last)",
      "\u001b[1;32m<ipython-input-8-2f72176549a0>\u001b[0m in \u001b[0;36m<module>\u001b[1;34m\u001b[0m\n\u001b[1;32m----> 1\u001b[1;33m \u001b[0mfile\u001b[0m\u001b[1;33m.\u001b[0m\u001b[0mclose\u001b[0m\u001b[1;33m(\u001b[0m\u001b[1;33m)\u001b[0m\u001b[1;33m\u001b[0m\u001b[1;33m\u001b[0m\u001b[0m\n\u001b[0m",
      "\u001b[1;31mAttributeError\u001b[0m: 'str' object has no attribute 'close'"
     ]
    }
   ],
   "source": [
    "file.close()"
   ]
  },
  {
   "cell_type": "code",
   "execution_count": null,
   "metadata": {},
   "outputs": [],
   "source": [
    "# algunas cosas para datetime"
   ]
  },
  {
   "cell_type": "code",
   "execution_count": 6,
   "metadata": {},
   "outputs": [
    {
     "name": "stdout",
     "output_type": "stream",
     "text": [
      "1970-01-01 00:00:00 2020-07-27 21:55:09.532146 1595886909.532146\n"
     ]
    }
   ],
   "source": [
    "t0=dt.datetime.utcfromtimestamp(0.0)\n",
    "t1=dt.datetime.now()\n",
    "dift=(t1-t0).total_seconds()\n",
    "print(t0,t1,dift)"
   ]
  },
  {
   "cell_type": "code",
   "execution_count": null,
   "metadata": {},
   "outputs": [],
   "source": [
    "# esto deberia convertir TIA93 a UTC"
   ]
  },
  {
   "cell_type": "code",
   "execution_count": 8,
   "metadata": {},
   "outputs": [
    {
     "name": "stdout",
     "output_type": "stream",
     "text": [
      "855332899.229365 725846400.0 1970-01-01 00:00:00 1993-01-01 00:00:00\n",
      "1581179299.2293649\n",
      "2020-02-08 16:28:19.229365\n"
     ]
    }
   ],
   "source": [
    "# escribre tai93 en unix time\n",
    "tai93=8.55332899229365E8                                  # TAI93\n",
    "t0=dt.datetime.utcfromtimestamp(0.0)                      # 1970-1-1 00:00:00\n",
    "t93=dt.datetime(1993,1,1,0,0,0,0)                         # 1993-1-1 00:00:00\n",
    "t93secs=(t93-t0).total_seconds()                          # segundos de 1970 a 1993\n",
    "tai93_to_unix=t93secs+tai93                               # segundos de 1970 a 1993 + TAI93\n",
    "utcfromtai = dt.datetime.utcfromtimestamp(tai93_to_unix)  # fecha de acuerdo a los segundos totales\n",
    "print(tai93,t93secs,t0,t93)\n",
    "print(tai93_to_unix)\n",
    "print(utcfromtai)"
   ]
  },
  {
   "cell_type": "code",
   "execution_count": null,
   "metadata": {},
   "outputs": [],
   "source": [
    "# cosas para abrir y cerrar archivo txt de variables y hacer los tipos"
   ]
  },
  {
   "cell_type": "code",
   "execution_count": 21,
   "metadata": {
    "scrolled": true
   },
   "outputs": [
    {
     "name": "stdout",
     "output_type": "stream",
     "text": [
      "tepoch, float\\lat, float\\lon, float\\/PreprocessingResults/surface_pressure_abp, float\\/PreprocessingResults/surface_pressure_apriori_abp, float\\/RetrievalGeometry/retrieval_altitude, float\\/RetrievalGeometry/retrieval_latitude, float\\/RetrievalGeometry/retrieval_longitude, float\\/RetrievalGeometry/retrieval_solar_azimuth, float\\/RetrievalResults/co2_profile_apriori, float, 20\\/RetrievalResults/vector_pressure_levels, float, 20\\/RetrievalResults/surface_pressure_apriori_fph, float\\/RetrievalResults/surface_pressure_fph, float\\/RetrievalResults/wind_speed, float\\/RetrievalResults/wind_speed_apriori, float\\/RetrievalResults/xco2, float\\/RetrievalResults/xco2_apriori, float\\/RetrievalResults/xco2_avg_kernel, float, 20\\/RetrievalResults/xco2_pressure_weighting_function, float, 20\\/RetrievalResults/xco2_uncert, float\\/RetrievalHeader/retrieval_time_tai93, float64\n"
     ]
    }
   ],
   "source": [
    "variables = open('oco3variables.txt','r')\n",
    "vartxt = variables.read().replace('\\n','')\n",
    "variables.close()\n",
    "print(vartxt)"
   ]
  },
  {
   "cell_type": "code",
   "execution_count": 22,
   "metadata": {
    "scrolled": true
   },
   "outputs": [
    {
     "name": "stdout",
     "output_type": "stream",
     "text": [
      "[('tepoch', 'float'), ('lat', 'float'), ('lon', 'float'), ('/PreprocessingResults/surface_pressure_abp', 'float'), ('/PreprocessingResults/surface_pressure_apriori_abp', 'float'), ('/RetrievalGeometry/retrieval_altitude', 'float'), ('/RetrievalGeometry/retrieval_latitude', 'float'), ('/RetrievalGeometry/retrieval_longitude', 'float'), ('/RetrievalGeometry/retrieval_solar_azimuth', 'float'), ('/RetrievalResults/co2_profile_apriori', 'float', 20), ('/RetrievalResults/vector_pressure_levels', 'float', 20), ('/RetrievalResults/surface_pressure_apriori_fph', 'float'), ('/RetrievalResults/surface_pressure_fph', 'float'), ('/RetrievalResults/wind_speed', 'float'), ('/RetrievalResults/wind_speed_apriori', 'float'), ('/RetrievalResults/xco2', 'float'), ('/RetrievalResults/xco2_apriori', 'float'), ('/RetrievalResults/xco2_avg_kernel', 'float', 20), ('/RetrievalResults/xco2_pressure_weighting_function', 'float', 20), ('/RetrievalResults/xco2_uncert', 'float'), ('/RetrievalHeader/retrieval_time_tai93', 'float64')]\n"
     ]
    }
   ],
   "source": [
    "fields = []\n",
    "for ele in vartxt.split(\"\\\\\"):\n",
    "    trozos = tuple(ele.split(\",\"))\n",
    "    #print(trozos)\n",
    "    tupla = []\n",
    "    for ii,ele in enumerate(trozos):\n",
    "        if ii == 2:\n",
    "            tupla.append(int(ele.strip()))\n",
    "        else:\n",
    "            tupla.append(ele.strip())\n",
    "    fields.append(tuple(tupla))\n",
    "print(fields)"
   ]
  },
  {
   "cell_type": "code",
   "execution_count": 23,
   "metadata": {
    "scrolled": true
   },
   "outputs": [
    {
     "name": "stdout",
     "output_type": "stream",
     "text": [
      "[('tepoch', '<f8'), ('lat', '<f8'), ('lon', '<f8'), ('/PreprocessingResults/surface_pressure_abp', '<f8'), ('/PreprocessingResults/surface_pressure_apriori_abp', '<f8'), ('/RetrievalGeometry/retrieval_altitude', '<f8'), ('/RetrievalGeometry/retrieval_latitude', '<f8'), ('/RetrievalGeometry/retrieval_longitude', '<f8'), ('/RetrievalGeometry/retrieval_solar_azimuth', '<f8'), ('/RetrievalResults/co2_profile_apriori', '<f8', (20,)), ('/RetrievalResults/vector_pressure_levels', '<f8', (20,)), ('/RetrievalResults/surface_pressure_apriori_fph', '<f8'), ('/RetrievalResults/surface_pressure_fph', '<f8'), ('/RetrievalResults/wind_speed', '<f8'), ('/RetrievalResults/wind_speed_apriori', '<f8'), ('/RetrievalResults/xco2', '<f8'), ('/RetrievalResults/xco2_apriori', '<f8'), ('/RetrievalResults/xco2_avg_kernel', '<f8', (20,)), ('/RetrievalResults/xco2_pressure_weighting_function', '<f8', (20,)), ('/RetrievalResults/xco2_uncert', '<f8'), ('/RetrievalHeader/retrieval_time_tai93', '<f8')]\n"
     ]
    }
   ],
   "source": [
    "tipos=np.dtype(fields)\n",
    "print(tipos)"
   ]
  },
  {
   "cell_type": "code",
   "execution_count": null,
   "metadata": {},
   "outputs": [],
   "source": [
    "#ahora que se creo el archivo"
   ]
  },
  {
   "cell_type": "code",
   "execution_count": null,
   "metadata": {},
   "outputs": [],
   "source": [
    "#una linea: \n",
    "data_coin=data[np.where((data['lat']-lat)**2+np.cos(np.pi/180.0*lat)**2*(data['lon']-lon)**2 < (footprintkm/110.567)**2 ) [0]]\n",
    "#Yo normalmente hago mas lineas:\n",
    "                        footprintradio=10.0/110.567 # conversion a  grados 10km/111km\n",
    "                        distances2=np.array((data['lat']-lat)**2+np.cos(np.pi/180.0*lat)**2*(data['lon']-lon)**2) # para no\n",
    "                        conditions=(footprintradio**2 > distances2)\n",
    "                        index=np.where(conditions)[0]\n",
    "datoscoincidentes=datos[index]\n",
    "\n",
    "#el factor np.cos(np.pi/180.0*lat)**2 es 0.88 para 20º latitude, en verdad en muchos escripts no lo uso. :-c, pero ya voy a hacerlo.\n",
    "#Voy a corregirlo .\n"
   ]
  },
  {
   "cell_type": "code",
   "execution_count": 1,
   "metadata": {},
   "outputs": [
    {
     "name": "stdout",
     "output_type": "stream",
     "text": [
      "0.09044289887579478 0.00817991795705724\n",
      "(30,) (114,)\n",
      "[0.06267748 0.04339922 0.04699114 0.07118558 0.06063766 0.07633766\n",
      " 0.0654841  0.05560549 0.08192813 0.02785585 0.0273944  0.06861162\n",
      " 0.0382261  0.03836069 0.07538885 0.07238887 0.05888287 0.05587411\n",
      " 0.04583945 0.04517573 0.02318615 0.03846876 0.03229886 0.03259477\n",
      " 0.02677657 0.01324864 0.02759097 0.01734387 0.01326582 0.0135948\n",
      " 0.00993344 0.00688024 0.00922404 0.0123655  0.00937569 0.00703419\n",
      " 0.0035423  0.01301865 0.01038144 0.00839199 0.00610317 0.0059715\n",
      " 0.01744398 0.01452359 0.01224607 0.01061712 0.00956002 0.00910806\n",
      " 0.00926938 0.01945295 0.01687346 0.01497257 0.01300911 0.01342191\n",
      " 0.01857642 0.01766049 0.01731419 0.02415197 0.02302313 0.02244223\n",
      " 0.02248398 0.02309598 0.02431348 0.02835881 0.0281412  0.02851183\n",
      " 0.03105024 0.03539599 0.03671654 0.0386452  0.0541909  0.04620998\n",
      " 0.02431284 0.00489348 0.00263572 0.00138242 0.00094362 0.00168058\n",
      " 0.00034812 0.00073562 0.00017247 0.00358383 0.00211845 0.00121475\n",
      " 0.00085611 0.00172218 0.00255277 0.00239824 0.00276936 0.00366958\n",
      " 0.00626971 0.00523572 0.00475063 0.00480032 0.00537547 0.0102931\n",
      " 0.00809104 0.00780769 0.00806143 0.00884111 0.0135858  0.01242582\n",
      " 0.0118019  0.01172383 0.01218138 0.01637184 0.0227405  0.02200563\n",
      " 0.02180274 0.02213636 0.02808478 0.02809204 0.028632   0.03533794]\n",
      "[False False False False False False False False False False False False\n",
      " False False False False False False False False False False False False\n",
      " False False False False False False False  True False False False  True\n",
      "  True False False False  True  True False False False False False False\n",
      " False False False False False False False False False False False False\n",
      " False False False False False False False False False False False False\n",
      " False  True  True  True  True  True  True  True  True  True  True  True\n",
      "  True  True  True  True  True  True  True  True  True  True  True False\n",
      "  True  True  True False False False False False False False False False\n",
      " False False False False False False]\n"
     ]
    }
   ],
   "source": [
    "import numpy as np\n",
    "import h5py\n",
    "import copy\n",
    "\n",
    "# test para leer, filtrar y escribir\n",
    "inname = \"f:\\\\jupyter\\\\test2.h5\"\n",
    "outname = \"f:\\\\jupyter\\\\testout.h5\"\n",
    "\n",
    "latpoint = 19.3262                               # latitud del punto de interes\n",
    "lonpoint = -99.1761                                 # longitud del punto de interes\n",
    "radiuskm = 10\n",
    "gridsize = radiuskm/110.567\n",
    "\n",
    "datos=h5py.File(inname,'r')\n",
    "\n",
    "grid_max_lat = latpoint + gridsize\n",
    "grid_min_lat = latpoint - gridsize\n",
    "grid_max_lon = lonpoint - gridsize\n",
    "grid_min_lon = lonpoint + gridsize\n",
    "\n",
    "gridname = '%iN%iW' % (int(latpoint),int(lonpoint))\n",
    "lat = datos[gridname][\"/latitude\"]\n",
    "lon = datos[gridname][\"/longitude\"]\n",
    "\n",
    "distances2=np.array((lat-latpoint)**2+np.cos(np.pi/180.0*latpoint)**2*(lon-lonpoint)**2) # para no\n",
    "gridcond=(gridsize**2 > distances2)\n",
    "\n",
    "\n",
    "#filterdata = datos[gridname][gridcond]\n",
    "print(gridsize, gridsize**2)\n",
    "print(datos[gridname][gridcond].shape, datos[gridname].shape)\n",
    "print(distances2)\n",
    "print(gridcond)\n",
    "\n",
    "#fh5=h5py.File(outname,'w')\n",
    "#dset=fh5.create_dataset(gridname,data=datos[gridname][gridcond],maxshape=(None,))\n",
    "#fh5.flush()\n",
    "\n",
    "datos.close()\n",
    "#fh5.close()"
   ]
  },
  {
   "cell_type": "code",
   "execution_count": 1,
   "metadata": {},
   "outputs": [
    {
     "name": "stdout",
     "output_type": "stream",
     "text": [
      "0.09044289887579478 0.00817991795705724\n",
      "[False False False False False False False False False False False False\n",
      " False False False False False False False False False False False False\n",
      " False False False False False False  True  True  True False  True  True\n",
      "  True False False False  True  True False False False False False False\n",
      "  True False False False False False False False False False False False\n",
      " False False False False False False False False False False False False\n",
      " False  True  True  True  True  True  True  True  True  True  True  True\n",
      "  True  True  True  True  True  True  True  True  True  True  True False\n",
      "  True  True  True  True False False False False  True False False False\n",
      " False False False False False False]\n",
      "(36,) (114,)\n"
     ]
    }
   ],
   "source": [
    "import numpy as np\n",
    "import h5py\n",
    "\n",
    "# test para leer, filtrar y escribir\n",
    "inname = \"f:\\\\jupyter\\\\test2.h5\"\n",
    "outname = \"f:\\\\jupyter\\\\testout.h5\"\n",
    "\n",
    "latpoint = 19.3262                               # latitud del punto de interes\n",
    "lonpoint = -99.1761                                 # longitud del punto de interes\n",
    "radiuskm = 10\n",
    "gridsize = radiuskm/110.567\n",
    "\n",
    "datos=h5py.File(inname,'r')\n",
    "\n",
    "grid_max_lat = latpoint + gridsize\n",
    "grid_min_lat = latpoint - gridsize\n",
    "grid_max_lon = lonpoint - gridsize\n",
    "grid_min_lon = lonpoint + gridsize\n",
    "\n",
    "gridname = '%iN%iW' % (int(latpoint),int(lonpoint))\n",
    "lat = datos[gridname][\"/latitude\"]\n",
    "lon = datos[gridname][\"/longitude\"]\n",
    "\n",
    "\n",
    "\n",
    "gridcond = ((lat <= grid_max_lat) & (lat >= grid_min_lat) & (lon <= grid_min_lon) & (lon >= grid_max_lon))\n",
    "\n",
    "#filterdata = datos[gridname][gridcond]\n",
    "\n",
    "print(gridsize, gridsize**2)\n",
    "print(gridcond)\n",
    "print(datos[gridname][gridcond].shape, datos[gridname].shape)\n",
    "\n",
    "#fh5=h5py.File(outname,'w')\n",
    "#dset=fh5.create_dataset(gridname,data=datos[gridname][gridcond],maxshape=(None,))\n",
    "#fh5.flush()\n",
    "\n",
    "datos.close()\n",
    "#fh5.close()"
   ]
  },
  {
   "cell_type": "code",
   "execution_count": 2,
   "metadata": {},
   "outputs": [
    {
     "name": "stdout",
     "output_type": "stream",
     "text": [
      "50 50\n",
      "[19.1        19.11428571 19.12857143 19.14285714 19.15714286 19.17142857\n",
      " 19.18571429 19.2        19.21428571 19.22857143 19.24285714 19.25714286\n",
      " 19.27142857 19.28571429 19.3        19.31428571 19.32857143 19.34285714\n",
      " 19.35714286 19.37142857 19.38571429 19.4        19.41428571 19.42857143\n",
      " 19.44285714 19.45714286 19.47142857 19.48571429 19.5        19.51428571\n",
      " 19.52857143 19.54285714 19.55714286 19.57142857 19.58571429 19.6\n",
      " 19.61428571 19.62857143 19.64285714 19.65714286 19.67142857 19.68571429\n",
      " 19.7        19.71428571 19.72857143 19.74285714 19.75714286 19.77142857\n",
      " 19.78571429 19.8       ] [-99.5        -99.48367347 -99.46734694 -99.45102041 -99.43469388\n",
      " -99.41836735 -99.40204082 -99.38571429 -99.36938776 -99.35306122\n",
      " -99.33673469 -99.32040816 -99.30408163 -99.2877551  -99.27142857\n",
      " -99.25510204 -99.23877551 -99.22244898 -99.20612245 -99.18979592\n",
      " -99.17346939 -99.15714286 -99.14081633 -99.1244898  -99.10816327\n",
      " -99.09183673 -99.0755102  -99.05918367 -99.04285714 -99.02653061\n",
      " -99.01020408 -98.99387755 -98.97755102 -98.96122449 -98.94489796\n",
      " -98.92857143 -98.9122449  -98.89591837 -98.87959184 -98.86326531\n",
      " -98.84693878 -98.83061224 -98.81428571 -98.79795918 -98.78163265\n",
      " -98.76530612 -98.74897959 -98.73265306 -98.71632653 -98.7       ]\n"
     ]
    }
   ],
   "source": [
    "# hacer un grid de lat y long con un stepsize\n",
    "import numpy as np\n",
    "\n",
    "nx = 50\n",
    "ny = 50\n",
    "\n",
    "latmin = 19.1\n",
    "latmax = 19.8\n",
    "lonmin = -99.5\n",
    "lonmax = -98.7\n",
    "\n",
    "lats = latmin + (latmax-latmin)*np.arange(ny)/(ny-1)\n",
    "lons = lonmin + (lonmax-lonmin)*np.arange(nx)/(nx-1)\n",
    "\n",
    "print(len(lats),len(lons))\n",
    "print(lats,lons)"
   ]
  },
  {
   "cell_type": "code",
   "execution_count": 3,
   "metadata": {},
   "outputs": [
    {
     "name": "stdout",
     "output_type": "stream",
     "text": [
      "-99.5 -99.5 -98.7 -98.7\n",
      "19.8 19.1 19.8 19.1\n"
     ]
    }
   ],
   "source": [
    "matrix = np.zeros((len(lons),len(lats)),dtype=np.float64)\n",
    "matrix2 = np.zeros((len(lons),len(lats)),dtype=np.float64)\n",
    "\n",
    "for ilat,lat in enumerate(lats):\n",
    "    for ilon,lon in enumerate(lons):\n",
    "        matrix[ilon,((nx-1)-ilat)] = lon\n",
    "        matrix2[ilon,((nx-1)-ilat)] = lat\n",
    "\n",
    "print(matrix[0][0], matrix[0][49], matrix[49][0], matrix[49][49])\n",
    "print(matrix2[0][0], matrix2[0][49], matrix2[49][0], matrix2[49][49])"
   ]
  },
  {
   "cell_type": "code",
   "execution_count": 4,
   "metadata": {},
   "outputs": [
    {
     "name": "stdout",
     "output_type": "stream",
     "text": [
      "-99.5 -98.7 -99.5 -98.7\n",
      "19.8 19.8 19.1 19.1\n"
     ]
    }
   ],
   "source": [
    "print(matrix.T[0][0], matrix.T[0][49], matrix.T[49][0], matrix.T[49][49])\n",
    "print(matrix2.T[0][0], matrix2.T[0][49], matrix2.T[49][0], matrix2.T[49][49])"
   ]
  },
  {
   "cell_type": "code",
   "execution_count": 5,
   "metadata": {},
   "outputs": [
    {
     "name": "stdout",
     "output_type": "stream",
     "text": [
      "[[19.8        19.8        19.8        ... 19.8        19.8\n",
      "  19.8       ]\n",
      " [19.78571429 19.78571429 19.78571429 ... 19.78571429 19.78571429\n",
      "  19.78571429]\n",
      " [19.77142857 19.77142857 19.77142857 ... 19.77142857 19.77142857\n",
      "  19.77142857]\n",
      " ...\n",
      " [19.12857143 19.12857143 19.12857143 ... 19.12857143 19.12857143\n",
      "  19.12857143]\n",
      " [19.11428571 19.11428571 19.11428571 ... 19.11428571 19.11428571\n",
      "  19.11428571]\n",
      " [19.1        19.1        19.1        ... 19.1        19.1\n",
      "  19.1       ]]\n",
      "[[-99.5        -99.48367347 -99.46734694 ... -98.73265306 -98.71632653\n",
      "  -98.7       ]\n",
      " [-99.5        -99.48367347 -99.46734694 ... -98.73265306 -98.71632653\n",
      "  -98.7       ]\n",
      " [-99.5        -99.48367347 -99.46734694 ... -98.73265306 -98.71632653\n",
      "  -98.7       ]\n",
      " ...\n",
      " [-99.5        -99.48367347 -99.46734694 ... -98.73265306 -98.71632653\n",
      "  -98.7       ]\n",
      " [-99.5        -99.48367347 -99.46734694 ... -98.73265306 -98.71632653\n",
      "  -98.7       ]\n",
      " [-99.5        -99.48367347 -99.46734694 ... -98.73265306 -98.71632653\n",
      "  -98.7       ]]\n"
     ]
    }
   ],
   "source": [
    "print(matrix2.T)\n",
    "print(matrix.T)"
   ]
  },
  {
   "cell_type": "code",
   "execution_count": null,
   "metadata": {},
   "outputs": [],
   "source": [
    "# average matrices\n",
    "import numpy as np\n",
    "\n",
    "matrixraw = np.load('f:\\\\jupyter\\\\matrixfeb8.npy')\n",
    "matrixcorr = (matrixraw* - 409 "
   ]
  },
  {
   "cell_type": "code",
   "execution_count": 78,
   "metadata": {
    "scrolled": true
   },
   "outputs": [
    {
     "name": "stdout",
     "output_type": "stream",
     "text": [
      "52286\n",
      "143\n",
      "[b'08/28/2020, 10:10:34' b'08/28/2020, 10:14:24' b'08/28/2020, 10:15:41'\n",
      " b'08/28/2020, 10:16:58' b'08/28/2020, 10:18:14' b'08/28/2020, 10:19:31'\n",
      " b'08/28/2020, 10:20:47' b'08/28/2020, 10:22:04' b'08/28/2020, 10:23:21'\n",
      " b'08/28/2020, 10:24:38' b'08/28/2020, 10:25:55' b'08/28/2020, 10:27:11'\n",
      " b'08/28/2020, 10:31:02' b'08/28/2020, 10:32:18' b'08/28/2020, 10:33:35'\n",
      " b'08/28/2020, 10:34:52' b'08/28/2020, 10:36:08' b'08/28/2020, 10:41:15'\n",
      " b'08/28/2020, 10:42:32' b'08/28/2020, 10:43:49' b'08/28/2020, 10:45:05'\n",
      " b'08/28/2020, 10:46:22' b'08/28/2020, 10:47:39' b'08/28/2020, 10:48:56'\n",
      " b'08/28/2020, 11:06:50' b'08/28/2020, 11:34:58' b'08/28/2020, 11:37:31'\n",
      " b'08/28/2020, 11:38:48' b'08/28/2020, 11:40:05' b'08/28/2020, 11:41:21'\n",
      " b'08/28/2020, 11:42:38' b'08/28/2020, 11:43:54' b'08/28/2020, 11:45:11'\n",
      " b'08/28/2020, 11:46:28' b'08/28/2020, 11:47:45' b'08/28/2020, 11:49:02'\n",
      " b'08/28/2020, 11:50:19' b'08/28/2020, 11:55:26' b'08/28/2020, 11:56:43'\n",
      " b'08/28/2020, 12:10:47' b'08/28/2020, 12:12:04' b'08/28/2020, 12:33:48'\n",
      " b'08/28/2020, 12:35:05' b'08/28/2020, 12:36:22' b'08/28/2020, 12:37:38'\n",
      " b'08/28/2020, 12:38:55' b'08/28/2020, 12:40:12' b'08/28/2020, 12:41:29'\n",
      " b'08/28/2020, 12:44:06' b'08/28/2020, 12:45:28' b'08/28/2020, 12:46:44'\n",
      " b'08/28/2020, 12:48:01' b'08/28/2020, 12:49:18' b'08/28/2020, 12:50:35'\n",
      " b'08/28/2020, 12:51:52' b'08/28/2020, 12:59:32' b'08/28/2020, 13:00:49'\n",
      " b'08/28/2020, 13:02:06' b'08/28/2020, 13:03:22' b'08/28/2020, 13:04:39'\n",
      " b'08/28/2020, 13:05:56' b'08/28/2020, 13:07:13' b'08/28/2020, 13:08:30'\n",
      " b'08/28/2020, 13:09:46' b'08/28/2020, 13:11:03' b'08/28/2020, 13:28:58'\n",
      " b'08/28/2020, 13:30:14' b'08/28/2020, 13:31:31' b'08/28/2020, 13:32:48'\n",
      " b'08/28/2020, 13:34:05' b'08/28/2020, 13:35:22' b'08/28/2020, 13:36:39'\n",
      " b'08/28/2020, 13:37:56' b'08/28/2020, 13:39:12' b'08/28/2020, 13:40:28'\n",
      " b'08/28/2020, 13:41:45' b'08/28/2020, 13:43:02' b'08/28/2020, 13:44:19'\n",
      " b'08/28/2020, 13:45:36' b'08/28/2020, 13:46:53' b'08/28/2020, 13:48:09'\n",
      " b'08/28/2020, 13:49:26' b'08/28/2020, 13:50:43' b'08/28/2020, 13:52:00'\n",
      " b'08/28/2020, 13:53:17' b'08/28/2020, 13:54:33' b'08/28/2020, 14:04:48'\n",
      " b'08/28/2020, 14:06:05' b'08/28/2020, 14:07:21' b'08/28/2020, 14:08:38'\n",
      " b'08/28/2020, 14:09:55' b'08/28/2020, 14:11:11' b'08/28/2020, 14:12:28'\n",
      " b'08/28/2020, 14:13:45' b'08/28/2020, 14:15:02' b'08/28/2020, 14:27:49'\n",
      " b'08/28/2020, 14:29:06' b'08/28/2020, 14:30:23' b'08/28/2020, 14:31:40'\n",
      " b'08/28/2020, 14:32:57' b'08/28/2020, 14:34:14' b'08/28/2020, 14:35:31'\n",
      " b'08/28/2020, 14:36:47' b'08/28/2020, 14:38:04' b'08/28/2020, 14:39:21'\n",
      " b'08/28/2020, 14:40:37' b'08/28/2020, 14:43:11' b'08/28/2020, 14:44:28'\n",
      " b'08/28/2020, 14:45:45' b'08/28/2020, 14:47:01' b'08/28/2020, 14:48:18'\n",
      " b'08/28/2020, 14:49:35' b'08/28/2020, 14:50:52' b'08/28/2020, 14:52:09'\n",
      " b'08/28/2020, 14:55:59' b'08/28/2020, 14:57:15' b'08/28/2020, 14:58:32'\n",
      " b'08/28/2020, 14:59:49' b'08/28/2020, 15:01:06' b'08/28/2020, 15:02:23'\n",
      " b'08/28/2020, 15:03:40' b'08/28/2020, 15:04:57' b'08/28/2020, 15:06:14'\n",
      " b'08/28/2020, 15:07:30' b'08/28/2020, 15:08:47' b'08/28/2020, 15:10:03'\n",
      " b'08/28/2020, 15:11:20' b'08/28/2020, 15:12:37' b'08/28/2020, 15:13:54'\n",
      " b'08/28/2020, 15:15:11' b'08/28/2020, 15:16:28' b'08/28/2020, 15:17:44'\n",
      " b'08/28/2020, 15:19:01' b'08/28/2020, 15:20:18' b'08/28/2020, 15:21:35'\n",
      " b'08/28/2020, 15:22:52' b'08/28/2020, 15:24:08' b'08/28/2020, 15:25:25'\n",
      " b'08/28/2020, 15:26:42' b'08/28/2020, 15:27:58' b'08/28/2020, 15:29:15'\n",
      " b'08/28/2020, 15:30:32' b'08/28/2020, 15:31:49']\n",
      "2020-08-28 13:36:39\n",
      "[409.95650731 409.95650731 409.95650731 409.95650731 409.95650731\n",
      " 409.95650731 409.95650731 409.95650731 409.95650731 409.95650731\n",
      " 409.95650731 409.95650731 409.95650731 409.95650731 409.95650731\n",
      " 409.95650731 409.95650731 409.95650731 409.95650731 409.95650731\n",
      " 409.95650731 409.95650731 409.95650731 409.95650731 409.95650731\n",
      " 409.95650731 409.95650731 409.95650731 409.95650731 409.95650731\n",
      " 409.95650731 409.95650731 409.95650731 409.95650731 409.95650731\n",
      " 409.95650731 409.95650731 409.95650731 409.95650731 409.95650731\n",
      " 409.95650731 409.95650731 409.95650731 409.95650731 409.95650731\n",
      " 409.95650731 409.95650731 409.95650731 409.95650731 409.95650731\n",
      " 409.95650731 409.95650731 409.95650731 409.95650731 409.95650731\n",
      " 409.95650731 409.95650731 409.95650731 409.95650731 409.95650731\n",
      " 409.95650731 409.95650731 409.95650731 409.95650731 409.95650731\n",
      " 409.95650731 409.95650731 409.95650731 409.95650731 409.95650731\n",
      " 409.95650731 409.95650731 409.95650731 409.95650731 409.95650731\n",
      " 409.95650731 409.95650731 409.95650731 409.95650731 409.95650731\n",
      " 409.95650731 409.95650731 409.95650731 409.95650731 409.95650731\n",
      " 409.95650731 409.95650731 409.95650731 409.95650731 409.95650731\n",
      " 409.95650731 409.95650731 409.95650731 409.95650731 409.95650731\n",
      " 409.95650731 409.95650731 409.95650731 409.95650731 409.95650731\n",
      " 409.95650731 409.95650731 409.95650731 409.95650731 409.95650731\n",
      " 409.95650731 409.95650731 409.95650731 409.95650731 409.95650731\n",
      " 409.95650731 409.95650731 409.95650731 409.95650731 409.95650731\n",
      " 409.95650731 409.95650731 409.95650731 409.95650731 409.95650731\n",
      " 409.95650731 409.95650731 409.95650731 409.95650731 409.95650731\n",
      " 409.95650731 409.95650731 409.95650731 409.95650731 409.95650731\n",
      " 409.95650731 409.95650731 409.95650731 409.95650731 409.95650731\n",
      " 409.95650731 409.95650731 409.95650731 409.95650731 409.95650731\n",
      " 409.95650731 409.95650731 409.95650731]\n",
      "[639.1 639.1 639.1 639.1 639.1 639.1 639.1 639.1 639.1 639.1 639.1 639.1\n",
      " 639.1 639.1 639.1 639.1 639.1 639.1 639.1 639.1 639.1 639.1 639.1 639.1\n",
      " 639.1 639.1 639.1 639.1 639.1 639.1 639.1 639.1 639.1 639.1 639.1 639.1\n",
      " 639.1 639.1 639.1 639.1 639.1 639.1 639.1 639.1 639.1 639.1 639.1 639.1\n",
      " 639.1 639.1 639.1 639.1 639.1 639.1 639.1 639.1 639.1 639.1 639.1 639.1\n",
      " 639.1 639.1 639.1 639.1 639.1 639.1 639.1 639.1 639.1 639.1 639.1 639.1\n",
      " 639.1 639.1 639.1 639.1 639.1 639.1 639.1 639.1 639.1 639.1 639.1 639.1\n",
      " 639.1 639.1 639.1 639.1 639.1 639.1 639.1 639.1 639.1 639.1 639.1 639.1\n",
      " 639.1 639.1 639.1 639.1 639.1 639.1 639.1 639.1 639.1 639.1 639.1 639.1\n",
      " 639.1 639.1 639.1 639.1 639.1 639.1 639.1 639.1 639.1 639.1 639.1 639.1\n",
      " 639.1 639.1 639.1 639.1 639.1 639.1 639.1 639.1 639.1 639.1 639.1 639.1\n",
      " 639.1 639.1 639.1 639.1 639.1 639.1 639.1 639.1 639.1 639.1 639.1]\n",
      "409.9565073056948\n",
      "639.0999999999999\n"
     ]
    }
   ],
   "source": [
    "import numpy as np\n",
    "import datetime as dt\n",
    "\n",
    "t0 = dt.datetime.utcfromtimestamp(0.0)\n",
    "dset=np.load('f:\\\\CCA\\\\PaperCO2\\\\altz_xco2_psurf2.npz')\n",
    "tCO2=dset['arr_0']\n",
    "tCO2str = dset['arr_1']\n",
    "xCO2=dset['arr_2']\n",
    "psurf= dset['arr_3']\n",
    "#print(tCO2)\n",
    "#print(tCO2str)\n",
    "#print(xCO2)\n",
    "#print(psurf)\n",
    "print(len(tCO2))\n",
    "tmin=(dt.datetime(2020,8,26,0,0,0)-t0).total_seconds()\n",
    "tmax=(dt.datetime(2020,8,28,23,0,0)-t0).total_seconds()\n",
    "mask = (tmin <= tCO2) & (tmax >= tCO2)\n",
    "print(len(tCO2[mask]))\n",
    "t = np.array([dt.datetime.utcfromtimestamp(ele) for ele in tCO2[mask]])\n",
    "#print(t)\n",
    "print(tCO2str[mask])\n",
    "print(dt.datetime.utcfromtimestamp(np.median(tCO2[mask])))\n",
    "print(xCO2[mask])\n",
    "print(psurf[mask])\n",
    "print(np.average(xCO2[mask]))\n",
    "print(np.average(psurf[mask]))"
   ]
  },
  {
   "cell_type": "code",
   "execution_count": 90,
   "metadata": {},
   "outputs": [
    {
     "name": "stdout",
     "output_type": "stream",
     "text": [
      "[['volcano0002' 'v341090_Popocatepetl' 0 '5/10/2020 13:47' 2020 5 10 13\n",
      "  47 411.8780337 639.8056998]\n",
      " ['volcano0002' 'v341090_Popocatepetl' 0 '5/28/2020 20:52' 2020 5 28 20\n",
      "  52 412.3834941 640.2543557999999]\n",
      " ['volcano0002' 'v341090_Popocatepetl' 0 '6/5/2020 17:43' 2020 6 5 17 43\n",
      "  412.3615495 638.1]\n",
      " ['volcano0002' 'v341090_Popocatepetl' 0 '6/9/2020 16:08' 2020 6 9 16 8\n",
      "  412.2889697 639.6305583]\n",
      " ['volcano0002' 'v341090_Popocatepetl' 1 '7/29/2020 20:26' 2020 7 29 20\n",
      "  26 409.95650730000006 639.1]\n",
      " ['volcano0002' 'v341090_Popocatepetl' 0 '8/6/2020 17:19' 2020 8 6 17 19\n",
      "  409.95650730000006 639.1]\n",
      " ['volcano0002' 'v341090_Popocatepetl' 1 '8/27/2020 18:35' 2020 8 27 18\n",
      "  35 409.95650730000006 639.1]\n",
      " ['volcano0002' 'v341090_Popocatepetl' 0 '8/31/2020 17:01' 2020 8 31 17 1\n",
      "  409.95650730000006 639.1]\n",
      " ['volcano0002' 'v341090_Popocatepetl' 0 '9/4/2020 15:27' 2020 9 4 15 27\n",
      "  409.95650730000006 639.1]\n",
      " ['volcano0002' 'v341090_Popocatepetl' 1 '9/22/2020 22:38' 2020 9 22 22\n",
      "  38 0.0 0.0]\n",
      " ['fossil0036' 'fossil_Mexico_City_Mexico' 0 '9/27/2019 21:29' 2019 9 27\n",
      "  21 29 405.52010989999997 637.7068486000001]\n",
      " ['fossil0036' 'fossil_Mexico_City_Mexico' 1 '2/8/2020 16:30' 2020 2 8 16\n",
      "  30 409.1035057 636.9835072000001]\n",
      " ['fossil0036' 'fossil_Mexico_City_Mexico' 0 '3/26/2020 21:47' 2020 3 26\n",
      "  21 47 410.20178250000004 639.9170615]\n",
      " ['fossil0036' 'fossil_Mexico_City_Mexico' 0 '3/30/2020 20:15' 2020 3 30\n",
      "  20 15 410.30299249999996 639.8]\n",
      " ['fossil0036' 'fossil_Mexico_City_Mexico' 0 '4/11/2020 15:39' 2020 4 11\n",
      "  15 39 410.6806284 639.4017546]\n",
      " ['fossil0036' 'fossil_Mexico_City_Mexico' 0 '4/20/2020 21:38' 2020 4 20\n",
      "  21 38 411.036875 639.5475369]\n",
      " ['fossil0036' 'fossil_Mexico_City_Mexico' 0 '4/28/2020 18:30' 2020 4 28\n",
      "  18 30 411.39305079999997 640.5834755]\n",
      " ['fossil0036' 'fossil_Mexico_City_Mexico' 0 '5/2/2020 16:56' 2020 5 2 16\n",
      "  56 411.57431160000004 640.4122219999999]\n",
      " ['fossil0036' 'fossil_Mexico_City_Mexico' 0 '5/6/2020 15:21' 2020 5 6 15\n",
      "  21 411.73049669999995 640.2592937999999]\n",
      " ['fossil0036' 'fossil_Mexico_City_Mexico' 0 '5/24/2020 22:26' 2020 5 24\n",
      "  22 26 412.33529169999997 638.5946753]\n",
      " ['fossil0036' 'fossil_Mexico_City_Mexico' 0 '6/29/2020 18:06' 2020 6 29\n",
      "  18 6 411.3618852 639.4]\n",
      " ['fossil0036' 'fossil_Mexico_City_Mexico' 0 '7/3/2020 16:31' 2020 7 3 16\n",
      "  31 411.09633110000004 639.1977899]\n",
      " ['fossil0036' 'fossil_Mexico_City_Mexico' 0 '7/7/2020 14:56' 2020 7 7 14\n",
      "  56 410.81289760000004 639.5927699]\n",
      " ['fossil0036' 'fossil_Mexico_City_Mexico' 0 '7/25/2020 22:01' 2020 7 25\n",
      "  22 1 409.95650730000006 639.1]\n",
      " ['fossil0036' 'fossil_Mexico_City_Mexico' 1 '8/2/2020 18:53' 2020 8 2 18\n",
      "  53 409.95650730000006 639.1]\n",
      " ['fossil0036' 'fossil_Mexico_City_Mexico' 1 '8/10/2020 15:45' 2020 8 10\n",
      "  15 45 409.95650730000006 639.1]\n",
      " ['fossil0036' 'fossil_Mexico_City_Mexico' 0 '8/23/2020 20:08' 2020 8 23\n",
      "  20 8 409.95650730000006 639.1]\n",
      " ['fossil0036' 'fossil_Mexico_City_Mexico' 1 '9/26/2020 21:06' 2020 9 26\n",
      "  21 6 0.0 0.0]\n",
      " ['fossil0036' 'fossil_Mexico_City_Mexico' 1 '9/30/2020 19:33' 2020 9 30\n",
      "  19 33 0.0 0.0]\n",
      " ['fossil0036' 'fossil_Mexico_City_Mexico' 1 '10/4/2020 18:01' 2020 10 4\n",
      "  18 1 0.0 0.0]\n",
      " ['fossil0036' 'fossil_Mexico_City_Mexico' 1 '10/8/2020 16:28' 2020 10 8\n",
      "  16 28 0.0 0.0]]\n"
     ]
    }
   ],
   "source": [
    "import pandas as pd\n",
    "import numpy as np\n",
    "import datetime as dt\n",
    "\n",
    "df=pd.read_csv('F:\\\\gitCCA\\\\cca-jupyter\\\\data\\\\sam_zmvm_altzbgrd.csv', sep=',',header=None)\n",
    "print(df.values)\n",
    "tid = np.array(df[0])\n",
    "tname = np.array(df[1])\n",
    "is_estimated = np.array(df[2])\n",
    "year = np.array(df[4])\n",
    "month = np.array(df[5])\n",
    "day = np.array(df[6])\n",
    "hour = np.array(df[7])\n",
    "minute = np.array(df[8])\n",
    "xCO2altz = np.array(df[9])\n",
    "psurfaltz = np.array(df[10])\n",
    "np.savez('sam_zmvm_altzbgrd', tid=tid,tname=tname,is_estimated=is_estimated,year=year,month=month,day=day,hour=hour, \\\n",
    "         minute=minute, xCO2altz=xCO2altz,psurfaltz=psurfaltz)\n",
    "#print(tid)"
   ]
  },
  {
   "cell_type": "code",
   "execution_count": 22,
   "metadata": {},
   "outputs": [
    {
     "name": "stdout",
     "output_type": "stream",
     "text": [
      "[1.58911842e+09 1.59069912e+09 1.59137898e+09 1.59171888e+09\n",
      " 1.59605436e+09 1.59673434e+09 1.59855330e+09 1.59889326e+09\n",
      " 1.59923322e+09 1.60081428e+09 1.56961974e+09 1.58117940e+09\n",
      " 1.58525922e+09 1.58559930e+09 1.58661954e+09 1.58741868e+09\n",
      " 1.58809860e+09 1.58843856e+09 1.58877846e+09 1.59035916e+09\n",
      " 1.59345396e+09 1.59379386e+09 1.59413376e+09 1.59571446e+09\n",
      " 1.59639438e+09 1.59707430e+09 1.59821328e+09 1.60115436e+09\n",
      " 1.60149438e+09 1.60183446e+09 1.60217448e+09]\n",
      "[411.8780337]\n",
      "411.8780337\n",
      "[412.3834941]\n",
      "412.3834941\n",
      "[412.3615495]\n",
      "412.3615495\n",
      "[412.2889697]\n",
      "412.2889697\n",
      "[409.9565073]\n",
      "409.95650730000006\n",
      "[409.9565073]\n",
      "409.95650730000006\n",
      "[409.9565073]\n",
      "409.95650730000006\n",
      "[409.9565073]\n",
      "409.95650730000006\n",
      "[409.9565073]\n",
      "409.95650730000006\n",
      "[0.]\n",
      "0.0\n",
      "[405.5201099]\n",
      "405.52010989999997\n",
      "[409.1035057]\n",
      "409.1035057\n",
      "[410.2017825]\n",
      "410.20178250000004\n",
      "[410.3029925]\n",
      "410.30299249999996\n",
      "[410.6806284]\n",
      "410.6806284\n",
      "[411.036875]\n",
      "411.036875\n",
      "[411.3930508]\n",
      "411.39305079999997\n",
      "[411.5743116]\n",
      "411.57431160000004\n",
      "[411.7304967]\n",
      "411.73049669999995\n",
      "[412.3352917]\n",
      "412.33529169999997\n",
      "[411.3618852]\n",
      "411.3618852\n",
      "[411.0963311]\n",
      "411.09633110000004\n",
      "[410.8128976]\n",
      "410.81289760000004\n",
      "[409.9565073]\n",
      "409.95650730000006\n",
      "[409.9565073]\n",
      "409.95650730000006\n",
      "[409.9565073]\n",
      "409.95650730000006\n",
      "[409.9565073]\n",
      "409.95650730000006\n",
      "[0.]\n",
      "0.0\n",
      "[0.]\n",
      "0.0\n",
      "[0.]\n",
      "0.0\n",
      "[0.]\n",
      "0.0\n"
     ]
    }
   ],
   "source": [
    "import numpy as np\n",
    "import datetime\n",
    "from calendar import monthrange\n",
    "\n",
    "dset = np.load('F:\\\\gitCCA\\\\cca-jupyter\\\\data\\\\sam_zmvm_altzbgrd.npz')\n",
    "\n",
    "#for k in dset.keys():\n",
    "#    print(k)\n",
    "\n",
    "#print(dset['year'][1])\n",
    "t0 = datetime.datetime.utcfromtimestamp(0.0)\n",
    "tepoch = np.array([(dt.datetime(year=dset['year'][ii],month=dset['month'][ii],day=dset['day'][ii],hour=dset['hour'][ii],minute=dset['minute'][ii],second=0) - t0).total_seconds() for ii,huh in enumerate(dset['year'])])\n",
    "print(tepoch)\n",
    "for ii,ele in enumerate(dset['year']):\n",
    "    #print(ii)\n",
    "    t0 = datetime.datetime.utcfromtimestamp(0.0)\n",
    "    try:\n",
    "        tmin = (datetime.datetime(year=dset['year'][ii],month=dset['month'][ii],day=dset['day'][ii]-1,hour=0,minute=0,second=0)-t0).total_seconds()\n",
    "    except:\n",
    "        maxdays = monthrange(dset['year'][ii],dset['month'][ii]-1)\n",
    "        tmin = (datetime.datetime(year=dset['year'][ii],month=dset['month'][ii]-1,day=monthrange,hour=0,minute=0,second=0)-t0).total_seconds()\n",
    "        \n",
    "    try:\n",
    "        tmax = (datetime.datetime(year=dset['year'][ii],month=dset['month'][ii],day=dset['day'][ii]+1,hour=23,minute=59,second=59)-t0).total_seconds() \n",
    "    except:\n",
    "        tmax = (datetime.datetime(year=dset['year'][ii],month=dset['month'][ii]+1,day=1,hour=23,minute=59,second=59)-t0).total_seconds()\n",
    "    \n",
    "    mask = (tmin <= tepoch) & (tmax >= tepoch)\n",
    "    print(dset['xCO2altz'][mask])\n",
    "    print(dset['xCO2altz'][ii])"
   ]
  },
  {
   "cell_type": "code",
   "execution_count": 1,
   "metadata": {},
   "outputs": [],
   "source": [
    "import numpy as np\n",
    "import datetime as dt\n",
    "import copy\n",
    "import glob\n",
    "from netCDF4 import Dataset\n",
    "\n",
    "nc4filename = 'F:\\\\CCA\\\\WRF salidas\\\\salidas\\\\2016010622.nc'\n",
    "datos = Dataset(nc4filename,'r')"
   ]
  },
  {
   "cell_type": "code",
   "execution_count": 7,
   "metadata": {},
   "outputs": [
    {
     "ename": "RuntimeError",
     "evalue": "NetCDF: Not a valid ID",
     "output_type": "error",
     "traceback": [
      "\u001b[1;31m---------------------------------------------------------------------------\u001b[0m",
      "\u001b[1;31mRuntimeError\u001b[0m                              Traceback (most recent call last)",
      "\u001b[1;32m<ipython-input-7-c86d739611e6>\u001b[0m in \u001b[0;36m<module>\u001b[1;34m\u001b[0m\n\u001b[1;32m----> 1\u001b[1;33m \u001b[0mprint\u001b[0m\u001b[1;33m(\u001b[0m\u001b[0mdatos\u001b[0m\u001b[1;33m[\u001b[0m\u001b[1;34m\"p_sfc\"\u001b[0m\u001b[1;33m]\u001b[0m\u001b[1;33m,\u001b[0m\u001b[0mdatos\u001b[0m\u001b[1;33m[\u001b[0m\u001b[1;34m\"lat\"\u001b[0m\u001b[1;33m]\u001b[0m\u001b[1;33m,\u001b[0m\u001b[0mdatos\u001b[0m\u001b[1;33m[\u001b[0m\u001b[1;34m\"lon\"\u001b[0m\u001b[1;33m]\u001b[0m\u001b[1;33m)\u001b[0m\u001b[1;33m\u001b[0m\u001b[1;33m\u001b[0m\u001b[0m\n\u001b[0m",
      "\u001b[1;32mnetCDF4\\_netCDF4.pyx\u001b[0m in \u001b[0;36mnetCDF4._netCDF4.Variable.__repr__\u001b[1;34m()\u001b[0m\n",
      "\u001b[1;32mnetCDF4\\_netCDF4.pyx\u001b[0m in \u001b[0;36mgenexpr\u001b[1;34m()\u001b[0m\n",
      "\u001b[1;32mnetCDF4\\_netCDF4.pyx\u001b[0m in \u001b[0;36mgenexpr\u001b[1;34m()\u001b[0m\n",
      "\u001b[1;32mnetCDF4\\_netCDF4.pyx\u001b[0m in \u001b[0;36mnetCDF4._netCDF4.Variable.dimensions.__get__\u001b[1;34m()\u001b[0m\n",
      "\u001b[1;32mnetCDF4\\_netCDF4.pyx\u001b[0m in \u001b[0;36mnetCDF4._netCDF4.Variable._getdims\u001b[1;34m()\u001b[0m\n",
      "\u001b[1;32mnetCDF4\\_netCDF4.pyx\u001b[0m in \u001b[0;36mnetCDF4._netCDF4._ensure_nc_success\u001b[1;34m()\u001b[0m\n",
      "\u001b[1;31mRuntimeError\u001b[0m: NetCDF: Not a valid ID"
     ]
    }
   ],
   "source": [
    "print(datos[\"p_sfc\"],datos[\"lat\"],datos[\"lon\"])"
   ]
  },
  {
   "cell_type": "code",
   "execution_count": 6,
   "metadata": {},
   "outputs": [],
   "source": [
    "datos.close()"
   ]
  },
  {
   "cell_type": "code",
   "execution_count": 1,
   "metadata": {},
   "outputs": [],
   "source": [
    "import numpy as np\n",
    "import datetime as dt\n",
    "import copy\n",
    "import glob"
   ]
  },
  {
   "cell_type": "code",
   "execution_count": 11,
   "metadata": {},
   "outputs": [
    {
     "name": "stdout",
     "output_type": "stream",
     "text": [
      "19.10816326530612\n",
      "-98.67142857142858\n",
      "[[962.75640869 958.5871582  959.74078369 ... 832.01898193 828.91851807\n",
      "  826.75      ]\n",
      " [961.08172607 954.980896   956.14624023 ... 825.30102539 821.18060303\n",
      "  819.28588867]\n",
      " [957.76379395 949.83203125 950.38262939 ... 817.840271   813.5692749\n",
      "  810.89764404]\n",
      " ...\n",
      " [799.89904785 793.90716553 786.93719482 ... 968.11419678 975.49731445\n",
      "  981.61322021]\n",
      " [806.6373291  801.91485596 795.4564209  ... 974.60864258 979.37518311\n",
      "  983.8840332 ]\n",
      " [811.45019531 807.93096924 803.12182617 ... 976.67773438 981.80310059\n",
      "  984.77490234]]\n",
      "745.7987670898438\n",
      "[18.3        18.34489796 18.38979592 18.43469388 18.47959184 18.5244898\n",
      " 18.56938776 18.61428571 18.65918367 18.70408163 18.74897959 18.79387755\n",
      " 18.83877551 18.88367347 18.92857143 18.97346939 19.01836735 19.06326531\n",
      " 19.10816327 19.15306122 19.19795918 19.24285714 19.2877551  19.33265306\n",
      " 19.37755102 19.42244898 19.46734694 19.5122449  19.55714286 19.60204082\n",
      " 19.64693878 19.69183673 19.73673469 19.78163265 19.82653061 19.87142857\n",
      " 19.91632653 19.96122449 20.00612245 20.05102041 20.09591837 20.14081633\n",
      " 20.18571429 20.23061224 20.2755102  20.32040816 20.36530612 20.41020408\n",
      " 20.45510204 20.5       ]\n",
      "[-100.5        -100.44285714 -100.38571429 -100.32857143 -100.27142857\n",
      " -100.21428571 -100.15714286 -100.1        -100.04285714  -99.98571429\n",
      "  -99.92857143  -99.87142857  -99.81428571  -99.75714286  -99.7\n",
      "  -99.64285714  -99.58571429  -99.52857143  -99.47142857  -99.41428571\n",
      "  -99.35714286  -99.3         -99.24285714  -99.18571429  -99.12857143\n",
      "  -99.07142857  -99.01428571  -98.95714286  -98.9         -98.84285714\n",
      "  -98.78571429  -98.72857143  -98.67142857  -98.61428571  -98.55714286\n",
      "  -98.5         -98.44285714  -98.38571429  -98.32857143  -98.27142857\n",
      "  -98.21428571  -98.15714286  -98.1         -98.04285714  -97.98571429\n",
      "  -97.92857143  -97.87142857  -97.81428571  -97.75714286  -97.7       ]\n"
     ]
    }
   ],
   "source": [
    "nx=50\n",
    "ny=50\n",
    "\n",
    "#latmin = 19.1\n",
    "#latmax = 19.8\n",
    "#lonmin = -99.5\n",
    "#lonmax = -98.7\n",
    "latmin = 18.3\n",
    "latmax = 20.5\n",
    "lonmin = -100.5\n",
    "lonmax = -97.7\n",
    "lats=latmin+(latmax-latmin)*np.arange(ny)/(ny-1)\n",
    "lons=lonmin+(lonmax-lonmin)*np.arange(nx)/(nx-1)\n",
    "\n",
    "testlat = 19.1187\n",
    "testlon = -98.6552\n",
    "\n",
    "a=np.where(testlat>lats)\n",
    "b=np.where(testlon>lons)\n",
    "indexlat=a[0][-1]\n",
    "indexlon=b[0][-1]\n",
    "#print(lats[indexlat],lats[indexlat+1])\n",
    "#print(lons[indexlon],lons[indexlon+1])\n",
    "print(lats[indexlat])\n",
    "print(lons[indexlon])\n",
    "mset=np.load('Psurf_50x50_15km_ExtendedGrid.npz')\n",
    "matrix=mset['matrix']\n",
    "print(matrix)\n",
    "print(matrix[indexlon][indexlat])\n",
    "print(lats)\n",
    "print(lons)"
   ]
  },
  {
   "cell_type": "code",
   "execution_count": 12,
   "metadata": {},
   "outputs": [],
   "source": [
    "mset.close()"
   ]
  },
  {
   "cell_type": "code",
   "execution_count": 13,
   "metadata": {},
   "outputs": [
    {
     "name": "stdout",
     "output_type": "stream",
     "text": [
      "742.0671997070312\n"
     ]
    }
   ],
   "source": [
    "print(matrix[26][48])"
   ]
  },
  {
   "cell_type": "code",
   "execution_count": 14,
   "metadata": {},
   "outputs": [
    {
     "name": "stdout",
     "output_type": "stream",
     "text": [
      "20.09591836734694\n",
      "-98.9\n"
     ]
    }
   ],
   "source": [
    "print(lats[40])\n",
    "print(lons[28])"
   ]
  },
  {
   "cell_type": "code",
   "execution_count": null,
   "metadata": {},
   "outputs": [],
   "source": []
  }
 ],
 "metadata": {
  "kernelspec": {
   "display_name": "Python 3",
   "language": "python",
   "name": "python3"
  },
  "language_info": {
   "codemirror_mode": {
    "name": "ipython",
    "version": 3
   },
   "file_extension": ".py",
   "mimetype": "text/x-python",
   "name": "python",
   "nbconvert_exporter": "python",
   "pygments_lexer": "ipython3",
   "version": "3.8.3"
  }
 },
 "nbformat": 4,
 "nbformat_minor": 4
}
