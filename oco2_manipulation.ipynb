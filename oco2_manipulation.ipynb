{
 "cells": [
  {
   "cell_type": "code",
   "execution_count": 2,
   "metadata": {},
   "outputs": [],
   "source": [
    "import numpy as np\n",
    "import matplotlib.pyplot as plt\n",
    "import cartopy.crs as ccrs\n",
    "import cartopy.feature as cfeature\n",
    "import h5py \n",
    "import datetime\n",
    "import glob\n",
    "import copy\n",
    "from calendar import monthrange\n",
    "from cartopy.io.shapereader import Reader\n",
    "from cartopy.mpl.ticker import (LongitudeFormatter, LatitudeFormatter,\n",
    "                                LatitudeLocator)\n",
    "\n",
    "import sys\n",
    "sys.path.append('d:\\\\gitCCA\\\\cca-jupyter\\\\py\\\\')\n",
    "import mapper_functions as mpf"
   ]
  },
  {
   "cell_type": "code",
   "execution_count": 3,
   "metadata": {},
   "outputs": [],
   "source": [
    "### BEGIN: rango del mapa\n",
    "latmin = 18.3\n",
    "latmax = 20.5\n",
    "lonmin = -100.5\n",
    "lonmax = -97.7\n",
    "#latmin = 19.1\n",
    "#latmax = 19.8\n",
    "#lonmin = -99.5\n",
    "#lonmax = -98.7\n",
    "#latmin = 20\n",
    "#latmax = 21\n",
    "#lonmin = -104\n",
    "#lonmax = -103\n",
    "### END: rango del mapa\n",
    "\n",
    "### BEGIN: parametros para funciones del modulo mapper_functions\n",
    "nx=50\n",
    "ny=50\n",
    "footprintradio = 10.0/110.0\n",
    "pathname = 'D:\\\\CCA\\\\NASAGESDISC\\\\oco2lt\\\\STD\\\\mexico_co2_oco2_2021*'\n",
    "name = '/RetrievalResults/xco2'\n",
    "psurf = '/RetrievalResults/surface_pressure_apriori_ph'\n",
    "### END: parametros para funciones del modulo\n",
    "\n",
    "### BEGIN: parametros para mappernxm \n",
    "### NOTA: Las matrices, titulos, y niveles se definen por el usuario justo antes de cambiar la funcion\n",
    "fontsize = 20\n",
    "ticksize = 14\n",
    "rows = 3\n",
    "cols = 4\n",
    "figname = 'd:\\\\gitCCA\\\\cca-jupyter\\\\figures\\\\3x3\\\\xCO2_ML_PsurfComp_B2_Small.png'\n",
    "savefig = 0 # 0 for no 1 for yes\n",
    "cbarname = 'Soundings'\n",
    "### END: parametros para mappernxm\n",
    "\n",
    "### BEGIN: verbosity and testing, 0=no, 1=yes\n",
    "testwithdset = 0\n",
    "verbcompile = 1\n",
    "verbdata = 1\n",
    "verbmatrix = 1\n",
    "### END: verbosity and testing\n",
    "\n",
    "### BEGIN: legacy variables\n",
    "#paltz = 748.2134 #extended\n",
    "#paltz = #no hay paltz en la matriz de psurf para el rango pequenyo\n",
    "#xco2altz = 412.4\n",
    "#psurfaltz = 633.72\n",
    "### END: legacy variables"
   ]
  },
  {
   "cell_type": "code",
   "execution_count": 4,
   "metadata": {},
   "outputs": [
    {
     "name": "stdout",
     "output_type": "stream",
     "text": [
      "Data shape for current loop is:  (186,)\n",
      "Data shape for current loop is:  (248,)\n",
      "Data shape for current loop is:  (294,)\n",
      "exception: no dataset\n",
      "Data shape for current loop is:  (540,)\n",
      "Data shape for current loop is:  (623,)\n",
      "Data shape for current loop is:  (650,)\n",
      "exception: no dataset\n",
      "Data shape for current loop is:  (754,)\n",
      "Data shape for current loop is:  (846,)\n",
      "exception: no dataset\n",
      "exception: no dataset\n",
      "Data shape for current loop is:  (1037,)\n",
      "Data shape for current loop is:  (1112,)\n",
      "Data shape for current loop is:  (1369,)\n",
      "exception: no dataset\n",
      "Data shape for current loop is:  (1678,)\n",
      "Data shape for current loop is:  (2243,)\n",
      "Data shape for current loop is:  (2394,)\n",
      "Data shape for current loop is:  (2394,)\n",
      "Data shape for current loop is:  (2562,)\n",
      "Data shape for current loop is:  (2628,)\n",
      "Data shape for current loop is:  (2727,)\n",
      "Data shape for current loop is:  (2777,)\n",
      "exception: no dataset\n",
      "exception: no dataset\n",
      "Data shape for current loop is:  (2799,)\n",
      "exception: no dataset\n",
      "exception: no dataset\n",
      "Data shape for current loop is:  (6694,)\n",
      "Data shape for current loop is:  (6724,)\n",
      "Data shape for current loop is:  (6724,)\n",
      "exception: no dataset\n",
      "exception: no dataset\n",
      "Data shape for current loop is:  (6728,)\n",
      "Data shape for current loop is:  (6728,)\n",
      "(6728,)\n"
     ]
    }
   ],
   "source": [
    "to=datetime.datetime.utcfromtimestamp(0.0)\n",
    "\n",
    "lats=latmin+(latmax-latmin)*np.arange(ny)/(ny-1)\n",
    "lons=lonmin+(lonmax-lonmin)*np.arange(nx)/(nx-1)\n",
    "\n",
    "\n",
    "lista=glob.glob(pathname)\n",
    "#print(lista)\n",
    "\n",
    "data = mpf.compilealldata(lats,lons,lista,footprintradio,verbcompile)\n",
    "#data = mpf.compilealldatat(lats,lons,lista,footprintradio,verbcompile)\n",
    "#data = mpf.compilealldatatarget(lats,lons,lista,footprintradio,targetname1,targetname2,verbcompile)\n",
    "#data = mpf.compilealldatatargett(lats,lons,lista,footprintradio,targetname1,targetname2,verbcompile)\n",
    "\n",
    "print(data.shape)\n"
   ]
  },
  {
   "cell_type": "code",
   "execution_count": 5,
   "metadata": {},
   "outputs": [
    {
     "data": {
      "text/plain": [
       "array([1.61678875e+09, 1.61678875e+09, 1.61678875e+09, ...,\n",
       "       1.62093594e+09, 1.62093594e+09, 1.62093594e+09])"
      ]
     },
     "execution_count": 5,
     "metadata": {},
     "output_type": "execute_result"
    }
   ],
   "source": [
    "data['tepoch']"
   ]
  },
  {
   "cell_type": "code",
   "execution_count": null,
   "metadata": {},
   "outputs": [],
   "source": []
  }
 ],
 "metadata": {
  "kernelspec": {
   "display_name": "Python 3",
   "language": "python",
   "name": "python3"
  },
  "language_info": {
   "codemirror_mode": {
    "name": "ipython",
    "version": 3
   },
   "file_extension": ".py",
   "mimetype": "text/x-python",
   "name": "python",
   "nbconvert_exporter": "python",
   "pygments_lexer": "ipython3",
   "version": "3.8.3"
  }
 },
 "nbformat": 4,
 "nbformat_minor": 4
}
