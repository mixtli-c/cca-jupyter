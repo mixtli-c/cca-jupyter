{
 "cells": [
  {
   "cell_type": "code",
   "execution_count": 1,
   "metadata": {},
   "outputs": [],
   "source": [
    "import numpy as np\n",
    "import matplotlib.pyplot as plt\n",
    "import h5py\n",
    "import glob\n",
    "import copy\n",
    "import datetime as dt"
   ]
  },
  {
   "cell_type": "code",
   "execution_count": 13,
   "metadata": {},
   "outputs": [],
   "source": [
    "# Esta es la parte que requiere input del usuario\n",
    "# inicializacion de las condiciones : año, mes (o meses), punto de interes (lat y lon), tamaño de grid deseado\n",
    "year = 2020\n",
    "months = np.arange(1,7)                           # np.arange(n,m) genera un arreglo con primer elemento n y ultimo m-1\n",
    "latpoint = 19.5                                   # latitud del punto de interes\n",
    "lonpoint = -98.5                                  # longitud del punto de interes\n",
    "gridsize = 0.4                                    # tamanyo del grid en fraccion de grados"
   ]
  },
  {
   "cell_type": "code",
   "execution_count": null,
   "metadata": {},
   "outputs": [],
   "source": [
    "# Necesita editarse para permitir multigrid\n",
    "# esto es para seleccionar los grids en el hdf donde se encuentran los datos de interes\n",
    "gridlat = int(latpoint)\n",
    "gridlon = int(lonpoint)\n",
    "gridname = '%iN%iW' % (int(latpoint),int(lonpoint))\n",
    "print(gridname)"
   ]
  },
  {
   "cell_type": "code",
   "execution_count": 14,
   "metadata": {},
   "outputs": [],
   "source": [
    "# contadores inevitables\n",
    "cont = 0                              # para saber que hacer si la matriz de datos ya se creo o no"
   ]
  },
  {
   "cell_type": "code",
   "execution_count": 15,
   "metadata": {},
   "outputs": [
    {
     "name": "stdout",
     "output_type": "stream",
     "text": [
      "no hay datos para 2019-01\n",
      "no hay datos para 2019-02\n",
      "no hay datos para 2019-03\n",
      "no hay datos para 2019-04\n",
      "no hay datos para 2019-05\n",
      "no hay datos para 2019-06\n",
      "no hay datos para 2019-07\n",
      "no hay datos para 2019-10\n",
      "no hay datos para 2019-11\n",
      "no hay datos para 2019-12\n",
      "no hay datos para 2020-01\n",
      "no hay datos para 2020-04\n",
      "no hay datos para 2020-05\n",
      "no hay datos para 2020-06\n",
      "no hay datos para 2020-07\n",
      "no hay datos para 2020-08\n",
      "no hay datos para 2020-09\n",
      "no hay datos para 2020-10\n",
      "no hay datos para 2020-11\n",
      "no hay datos para 2020-12\n"
     ]
    },
    {
     "data": {
      "image/png": "[encoded data removed]",
      "text/plain": [
       "<Figure size 432x288 with 1 Axes>"
      ]
     },
     "metadata": {
      "needs_background": "light"
     },
     "output_type": "display_data"
    }
   ],
   "source": [
    "# algoritmo para generar la matriz de todos los datos en el grid 1x1 de los diferentes hdf\n",
    "# este arrojara la matriz que despues se filtrara para hacer las series de tiempo\n",
    "for year in years:\n",
    "    for month in months:\n",
    "        h5file = \"f:\\\\CCA\\\\NASAGESDISC\\\\mexico\\\\mexico_oco3_early_%i%02i.h5\" %(year,month)\n",
    "        #print(h5file)\n",
    "        try:\n",
    "            data = h5py.File(h5file,'r')\n",
    "        \n",
    "            # expande los vectores para concatenar y toma los datos del grid en donde esta el punto\n",
    "            # genera un objeto datetime a partir del valor de tepoch\n",
    "            lat = np.expand_dims(data[gridname]['lat'],axis=1)\n",
    "            lon = np.expand_dims(data[gridname]['lon'],axis=1)\n",
    "            xco2 = np.expand_dims(data[gridname]['/RetrievalResults/xco2'],axis=1)\n",
    "            t_epoch = data[gridname]['tepoch']\n",
    "            time = np.array([dt.datetime.utcfromtimestamp(ele) for ele in t_epoch])\n",
    "            time = np.expand_dims(time,axis=1)\n",
    "        \n",
    "            # concatena los 4 vectores Nx1 en una matriz temporal Nx4\n",
    "            mat=np.concatenate((time,lat,lon,xco2),axis=1)\n",
    "        \n",
    "        \n",
    "            if cont == 0:\n",
    "                # copia la matriz temporal en una permanente\n",
    "                # esto solo se debe usar si no existe ya la matriz permanente\n",
    "                datos=copy.copy(mat)\n",
    "            \n",
    "            else:\n",
    "                # concatena los datos de la matriz temporal en la permanente\n",
    "                # esto solo se debe usar si ya existe la matriz permanente\n",
    "                datos=np.concatenate((mat,datos),axis=0)\n",
    "            \n",
    "            data.close()\n",
    "            cont = cont + 1\n",
    "        \n",
    "        except:\n",
    "            print('no hay datos para %i-%02i' %(year,month))\n",
    "            continue\n",
    "    \n",
    "# condiciones para reducir el tamaño del grid alrededor del punto seleccionado y obtener datos dentro ded ese nuevo grid\n",
    "\n",
    "gridcond = ((datos[:,1] < (latpoint + gridsize)) & (datos[:,1] > (latpoint - gridsize)) & (datos[:,2] < (lonpoint + gridsize)) & (datos[:,2] > (lonpoint - gridsize)))\n",
    "#print(gridcond) \n",
    "\n",
    "# grafica una serie de tiempo sencilla con los datos filtrados por las condiciones\n",
    "plt.plot_date(datos[:,0][gridcond],datos[:,3][gridcond]) \n",
    "plt.tight_layout() \n",
    "plt.show()"
   ]
  },
  {
   "cell_type": "code",
   "execution_count": null,
   "metadata": {},
   "outputs": [],
   "source": []
  }
 ],
 "metadata": {
  "kernelspec": {
   "display_name": "Python 3",
   "language": "python",
   "name": "python3"
  },
  "language_info": {
   "codemirror_mode": {
    "name": "ipython",
    "version": 3
   },
   "file_extension": ".py",
   "mimetype": "text/x-python",
   "name": "python",
   "nbconvert_exporter": "python",
   "pygments_lexer": "ipython3",
   "version": "3.8.3"
  }
 },
 "nbformat": 4,
 "nbformat_minor": 4
}
