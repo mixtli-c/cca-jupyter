{
 "cells": [
  {
   "cell_type": "code",
   "execution_count": 1,
   "metadata": {},
   "outputs": [],
   "source": [
    "import numpy as np\n",
    "import matplotlib.pyplot as plt\n",
    "import h5py\n",
    "import glob\n",
    "import copy\n",
    "import datetime as dt"
   ]
  },
  {
   "cell_type": "code",
   "execution_count": 2,
   "metadata": {},
   "outputs": [
    {
     "name": "stdout",
     "output_type": "stream",
     "text": [
      "19N-98W\n"
     ]
    }
   ],
   "source": [
    "# Esta es la parte que requiere input del usuario\n",
    "# inicializacion de las condiciones : año, mes (o meses), punto de interes (lat y lon), tamaño de grid deseado\n",
    "year = 2020\n",
    "months = np.arange(1,7)                           # np.arange(n,m) genera un arreglo con primer elemento n y ultimo m-1\n",
    "latpoint = 19.5                                   # latitud del punto de interes\n",
    "lonpoint = -98.5                                  # longitud del punto de interes\n",
    "gridsize = 0.4                                    # tamanyo del grid en fraccion de grados"
   ]
  },
  {
   "cell_type": "code",
   "execution_count": null,
   "metadata": {},
   "outputs": [],
   "source": [
    "# Necesita editarse para permitir multigrid\n",
    "# esto es para seleccionar los grids en el hdf donde se encuentran los datos de interes\n",
    "gridlat = int(latpoint)\n",
    "gridlon = int(lonpoint)\n",
    "gridname = '%iN%iW' % (int(latpoint),int(lonpoint))\n",
    "print(gridname)"
   ]
  },
  {
   "cell_type": "code",
   "execution_count": 3,
   "metadata": {},
   "outputs": [],
   "source": [
    "# contadores inevitables\n",
    "cont = 0                              # para saber que hacer si la matriz de datos ya se creo o no"
   ]
  },
  {
   "cell_type": "code",
   "execution_count": 4,
   "metadata": {},
   "outputs": [
    {
     "data": {
      "image/png": "[encoded data removed]",
      "text/plain": [
       "<Figure size 432x288 with 1 Axes>"
      ]
     },
     "metadata": {
      "needs_background": "light"
     },
     "output_type": "display_data"
    }
   ],
   "source": [
    "# en construccion, algoritmo para generar la matriz de todos los datos en el grid 1x1 de los diferentes hdf\n",
    "# este arrojara la matriz que despues se filtrara para hacer las series de tiempo\n",
    "for month in months:\n",
    "    h5file = \"f:\\\\jupyter\\\\oco3_mexico_city\\\\mexico\\\\mexico_oco3_target_%i%02i.h5\" %(year,month)\n",
    "    try:\n",
    "        data = h5py.File(h5file,'r')\n",
    "        \n",
    "        # expande los vectores para concatenar y toma los datos del grid en donde esta el punto\n",
    "        # genera un objeto datetime a partir del valor de tepoch\n",
    "        lat = np.expand_dims(data[gridname]['/latitude'],axis=1)\n",
    "        lon = np.expand_dims(data[gridname]['/longitude'],axis=1)\n",
    "        xco2 = np.expand_dims(data[gridname]['/xco2'],axis=1)\n",
    "        t_epoch = data[gridname]['tepoch']\n",
    "        time = np.array([dt.datetime.utcfromtimestamp(ele) for ele in t_epoch])\n",
    "        time = np.expand_dims(time,axis=1)\n",
    "        \n",
    "        # concatena los 4 vectores Nx1 en una matriz temporal Nx4\n",
    "        mat=np.concatenate((time,lat,lon,xco2),axis=1)\n",
    "        \n",
    "        \n",
    "        if cont == 0:\n",
    "            # copia la matriz temporal en una permanente\n",
    "            # esto solo se debe usar si no existe ya la matriz permanente\n",
    "            datos=copy.copy(mat)\n",
    "            \n",
    "        else:\n",
    "            # concatena los datos de la matriz temporal en la permanente\n",
    "            # esto solo se debe usar si ya existe la matriz permanente\n",
    "            datos=np.concatenate((mat,datos),axis=0)\n",
    "            \n",
    "        data.close()\n",
    "        cont = cont + 1\n",
    "        \n",
    "    except:\n",
    "        continue\n",
    "    \n",
    "# condiciones para reducir el tamaño del grid alrededor del punto seleccionado y obtener datos dentro ded ese nuevo grid\n",
    "\n",
    "gridcond = ((datos[:,1] < (latpoint + gridsize)) & (datos[:,1] > (latpoint - gridsize)) & (datos[:,2] < (lonpoint + gridsize)) & (datos[:,2] > (lonpoint - gridsize)))\n",
    "#print(gridcond) \n",
    "\n",
    "# grafica una serie de tiempo sencilla con los datos filtrados por las condiciones\n",
    "plt.plot_date(datos[:,0][gridcond],datos[:,3][gridcond]) \n",
    "plt.tight_layout() \n",
    "plt.show()"
   ]
  },
  {
   "cell_type": "code",
   "execution_count": 5,
   "metadata": {},
   "outputs": [
    {
     "name": "stdout",
     "output_type": "stream",
     "text": [
      "[[datetime.datetime(2020, 6, 5, 17, 41, 25, 337365)]\n",
      " [datetime.datetime(2020, 6, 5, 17, 41, 25, 670698)]\n",
      " [datetime.datetime(2020, 6, 5, 17, 41, 25, 697699)]\n",
      " [datetime.datetime(2020, 6, 5, 17, 41, 25, 977032)]\n",
      " [datetime.datetime(2020, 6, 5, 17, 41, 26, 4032)]\n",
      " [datetime.datetime(2020, 6, 5, 17, 41, 26, 31032)]\n",
      " [datetime.datetime(2020, 6, 5, 17, 41, 26, 310365)]\n",
      " [datetime.datetime(2020, 6, 5, 17, 41, 26, 337365)]\n",
      " [datetime.datetime(2020, 6, 5, 17, 41, 26, 364365)]\n",
      " [datetime.datetime(2020, 6, 5, 17, 41, 26, 670698)]\n",
      " [datetime.datetime(2020, 6, 5, 17, 41, 26, 977032)]\n",
      " [datetime.datetime(2020, 6, 5, 17, 41, 44, 670698)]\n",
      " [datetime.datetime(2020, 6, 5, 17, 41, 45, 310365)]\n",
      " [datetime.datetime(2020, 6, 5, 17, 41, 45, 337365)]\n",
      " [datetime.datetime(2020, 6, 5, 17, 41, 45, 589698)]\n",
      " [datetime.datetime(2020, 6, 5, 17, 41, 45, 616698)]\n",
      " [datetime.datetime(2020, 6, 5, 17, 41, 45, 643698)]\n",
      " [datetime.datetime(2020, 6, 5, 17, 41, 45, 670698)]\n",
      " [datetime.datetime(2020, 6, 5, 17, 41, 45, 923032)]\n",
      " [datetime.datetime(2020, 6, 5, 17, 41, 45, 950032)]\n",
      " [datetime.datetime(2020, 6, 5, 17, 41, 45, 977032)]\n",
      " [datetime.datetime(2020, 6, 5, 17, 41, 46, 4032)]\n",
      " [datetime.datetime(2020, 6, 5, 17, 41, 46, 229365)]\n",
      " [datetime.datetime(2020, 6, 5, 17, 41, 46, 256365)]\n",
      " [datetime.datetime(2020, 6, 5, 17, 41, 46, 283365)]\n",
      " [datetime.datetime(2020, 6, 5, 17, 41, 46, 310365)]\n",
      " [datetime.datetime(2020, 6, 5, 17, 41, 46, 337365)]\n",
      " [datetime.datetime(2020, 6, 5, 17, 41, 46, 562698)]\n",
      " [datetime.datetime(2020, 6, 5, 17, 41, 46, 589698)]\n",
      " [datetime.datetime(2020, 6, 5, 17, 41, 46, 643698)]\n",
      " [datetime.datetime(2020, 6, 5, 17, 41, 46, 896032)]\n",
      " [datetime.datetime(2020, 6, 5, 17, 41, 46, 923032)]\n",
      " [datetime.datetime(2020, 6, 5, 17, 41, 47, 229365)]\n",
      " [datetime.datetime(2020, 6, 5, 17, 41, 47, 256365)]\n",
      " [datetime.datetime(2020, 6, 5, 17, 41, 47, 337365)]\n",
      " [datetime.datetime(2020, 6, 5, 17, 41, 47, 896032)]\n",
      " [datetime.datetime(2020, 6, 5, 17, 41, 47, 950032)]\n",
      " [datetime.datetime(2020, 6, 5, 17, 41, 47, 977032)]\n",
      " [datetime.datetime(2020, 6, 5, 17, 41, 48, 4032)]\n",
      " [datetime.datetime(2020, 6, 5, 17, 41, 48, 229365)]\n",
      " [datetime.datetime(2020, 6, 5, 17, 41, 48, 256365)]\n",
      " [datetime.datetime(2020, 6, 5, 17, 41, 48, 310365)]\n",
      " [datetime.datetime(2020, 6, 5, 17, 42, 4, 670698)]\n",
      " [datetime.datetime(2020, 6, 5, 17, 42, 4, 950032)]\n",
      " [datetime.datetime(2020, 6, 5, 17, 42, 5, 256365)]\n",
      " [datetime.datetime(2020, 6, 5, 17, 42, 5, 562698)]\n",
      " [datetime.datetime(2020, 6, 5, 17, 42, 5, 589698)]\n",
      " [datetime.datetime(2020, 6, 5, 17, 42, 5, 616698)]\n",
      " [datetime.datetime(2020, 6, 5, 17, 42, 5, 670698)]\n",
      " [datetime.datetime(2020, 6, 5, 17, 42, 5, 950032)]\n",
      " [datetime.datetime(2020, 6, 5, 17, 42, 5, 977032)]\n",
      " [datetime.datetime(2020, 6, 5, 17, 42, 6, 4032)]\n",
      " [datetime.datetime(2020, 6, 5, 17, 42, 6, 256365)]\n",
      " [datetime.datetime(2020, 6, 5, 17, 42, 6, 283365)]\n",
      " [datetime.datetime(2020, 6, 5, 17, 42, 6, 337365)]\n",
      " [datetime.datetime(2020, 6, 5, 17, 42, 6, 616698)]\n",
      " [datetime.datetime(2020, 6, 5, 17, 42, 6, 643698)]\n",
      " [datetime.datetime(2020, 6, 5, 17, 42, 6, 977032)]\n",
      " [datetime.datetime(2020, 6, 5, 17, 42, 7, 4032)]\n",
      " [datetime.datetime(2020, 6, 5, 17, 42, 7, 310365)]\n",
      " [datetime.datetime(2020, 6, 5, 17, 42, 7, 337365)]\n",
      " [datetime.datetime(2020, 6, 5, 17, 42, 7, 562698)]\n",
      " [datetime.datetime(2020, 6, 5, 17, 42, 7, 589698)]\n",
      " [datetime.datetime(2020, 6, 5, 17, 42, 7, 616698)]\n",
      " [datetime.datetime(2020, 6, 5, 17, 42, 7, 643698)]\n",
      " [datetime.datetime(2020, 6, 5, 17, 42, 7, 896032)]\n",
      " [datetime.datetime(2020, 6, 5, 17, 42, 7, 923032)]\n",
      " [datetime.datetime(2020, 6, 5, 17, 42, 7, 950032)]\n",
      " [datetime.datetime(2020, 6, 5, 17, 42, 7, 977032)]\n",
      " [datetime.datetime(2020, 6, 5, 17, 42, 8, 337365)]\n",
      " [datetime.datetime(2020, 6, 5, 17, 42, 8, 391365)]\n",
      " [datetime.datetime(2020, 6, 5, 17, 42, 8, 643698)]\n",
      " [datetime.datetime(2020, 6, 5, 17, 42, 38, 896032)]\n",
      " [datetime.datetime(2020, 6, 5, 17, 42, 38, 950032)]\n",
      " [datetime.datetime(2020, 6, 5, 17, 42, 39, 229365)]\n",
      " [datetime.datetime(2020, 6, 5, 17, 42, 39, 562698)]\n",
      " [datetime.datetime(2020, 6, 5, 17, 42, 39, 589698)]\n",
      " [datetime.datetime(2020, 6, 5, 17, 42, 39, 923032)]\n",
      " [datetime.datetime(2020, 6, 5, 17, 42, 40, 229365)]\n",
      " [datetime.datetime(2020, 6, 5, 17, 42, 40, 283365)]\n",
      " [datetime.datetime(2020, 6, 5, 17, 42, 40, 896032)]\n",
      " [datetime.datetime(2020, 6, 5, 17, 42, 40, 923032)]\n",
      " [datetime.datetime(2020, 6, 5, 17, 42, 41, 229365)]\n",
      " [datetime.datetime(2020, 6, 5, 17, 42, 41, 256365)]\n",
      " [datetime.datetime(2020, 6, 5, 17, 42, 41, 283365)]\n",
      " [datetime.datetime(2020, 6, 5, 17, 42, 41, 337365)]\n",
      " [datetime.datetime(2020, 6, 5, 17, 42, 41, 562698)]\n",
      " [datetime.datetime(2020, 6, 5, 17, 42, 41, 589698)]\n",
      " [datetime.datetime(2020, 6, 5, 17, 42, 41, 616698)]\n",
      " [datetime.datetime(2020, 6, 5, 17, 42, 41, 643698)]\n",
      " [datetime.datetime(2020, 6, 5, 17, 42, 41, 670698)]\n",
      " [datetime.datetime(2020, 6, 5, 17, 42, 41, 896032)]\n",
      " [datetime.datetime(2020, 6, 5, 17, 42, 41, 950032)]\n",
      " [datetime.datetime(2020, 6, 5, 17, 42, 41, 977032)]\n",
      " [datetime.datetime(2020, 6, 5, 17, 42, 42, 4032)]\n",
      " [datetime.datetime(2020, 6, 5, 17, 42, 42, 229365)]\n",
      " [datetime.datetime(2020, 6, 5, 17, 42, 42, 256365)]\n",
      " [datetime.datetime(2020, 6, 5, 17, 42, 42, 310365)]\n",
      " [datetime.datetime(2020, 6, 5, 17, 42, 42, 589698)]\n",
      " [datetime.datetime(2020, 6, 5, 17, 42, 43, 229365)]\n",
      " [datetime.datetime(2020, 6, 5, 17, 42, 43, 256365)]\n",
      " [datetime.datetime(2020, 6, 5, 17, 42, 43, 283365)]\n",
      " [datetime.datetime(2020, 6, 5, 17, 42, 43, 310365)]\n",
      " [datetime.datetime(2020, 6, 5, 17, 42, 43, 616698)]\n",
      " [datetime.datetime(2020, 6, 5, 17, 42, 43, 670698)]\n",
      " [datetime.datetime(2020, 6, 5, 17, 42, 43, 950032)]\n",
      " [datetime.datetime(2020, 6, 5, 17, 42, 43, 977032)]\n",
      " [datetime.datetime(2020, 6, 5, 17, 42, 55, 896032)]\n",
      " [datetime.datetime(2020, 6, 5, 17, 42, 56, 229365)]\n",
      " [datetime.datetime(2020, 6, 5, 17, 42, 56, 950032)]\n",
      " [datetime.datetime(2020, 6, 5, 17, 43, 1, 562698)]\n",
      " [datetime.datetime(2020, 6, 5, 17, 43, 1, 896032)]\n",
      " [datetime.datetime(2020, 6, 5, 17, 43, 2, 256365)]\n",
      " [datetime.datetime(2020, 6, 5, 17, 43, 2, 562698)]\n",
      " [datetime.datetime(2020, 6, 5, 17, 43, 2, 896032)]\n",
      " [datetime.datetime(2020, 6, 5, 17, 43, 2, 923032)]\n",
      " [datetime.datetime(2020, 6, 5, 17, 43, 2, 950032)]\n",
      " [datetime.datetime(2020, 6, 5, 17, 43, 2, 977032)]\n",
      " [datetime.datetime(2020, 6, 5, 17, 43, 3, 4032)]\n",
      " [datetime.datetime(2020, 6, 5, 17, 43, 3, 283365)]\n",
      " [datetime.datetime(2020, 6, 5, 17, 43, 3, 310365)]\n",
      " [datetime.datetime(2020, 6, 5, 17, 43, 3, 337365)]\n",
      " [datetime.datetime(2020, 6, 5, 17, 43, 3, 562698)]\n",
      " [datetime.datetime(2020, 6, 5, 17, 43, 3, 643698)]\n",
      " [datetime.datetime(2020, 6, 5, 17, 43, 3, 923032)]\n",
      " [datetime.datetime(2020, 6, 5, 17, 43, 3, 977032)]\n",
      " [datetime.datetime(2020, 6, 5, 17, 43, 4, 283365)]\n",
      " [datetime.datetime(2020, 6, 5, 17, 43, 4, 310365)]\n",
      " [datetime.datetime(2020, 6, 5, 17, 43, 4, 589698)]\n",
      " [datetime.datetime(2020, 6, 5, 17, 43, 5, 670698)]\n",
      " [datetime.datetime(2020, 6, 5, 17, 43, 5, 697699)]]\n"
     ]
    }
   ],
   "source": [
    "print(time)"
   ]
  },
  {
   "cell_type": "code",
   "execution_count": 96,
   "metadata": {},
   "outputs": [
    {
     "name": "stdout",
     "output_type": "stream",
     "text": [
      "<HDF5 file \"mexico_oco3_target_202004.h5\" (mode r)>\n"
     ]
    }
   ],
   "source": [
    "# h5py test para abrir un hdf\n",
    "h5file = \"f:\\\\jupyter\\\\oco3_mexico_city\\\\mexico\\\\mexico_oco3_target_202004.h5\"\n",
    "data = h5py.File(h5file,'r')\n",
    "print(data)"
   ]
  },
  {
   "cell_type": "code",
   "execution_count": 99,
   "metadata": {},
   "outputs": [
    {
     "name": "stdout",
     "output_type": "stream",
     "text": [
      "(383, 1) (383, 1)\n"
     ]
    }
   ],
   "source": [
    "# expande los vectores para concatenar y toma los datos del grid en donde esta el punto\n",
    "# genera un objeto datetime a partir del valor de tepoch\n",
    "lat = np.expand_dims(data[gridname]['/latitude'],axis=1)\n",
    "lon = np.expand_dims(data[gridname]['/longitude'],axis=1)\n",
    "xco2 = np.expand_dims(data[gridname]['/xco2'],axis=1)\n",
    "t_epoch = data[gridname]['tepoch']\n",
    "time = np.array([dt.datetime.utcfromtimestamp(ele) for ele in t_epoch])\n",
    "time = np.expand_dims(time,axis=1)\n",
    "print(lon.shape, time.shape)"
   ]
  },
  {
   "cell_type": "code",
   "execution_count": 85,
   "metadata": {},
   "outputs": [
    {
     "name": "stdout",
     "output_type": "stream",
     "text": [
      "(383, 4) [[datetime.datetime(2020, 4, 11, 15, 37, 20, 418365) 19.233489990234375\n",
      "  -98.92019653320312 412.7084620177746]\n",
      " [datetime.datetime(2020, 4, 11, 15, 37, 20, 724699) 19.226322174072266\n",
      "  -98.90625762939453 413.23420859515664]\n",
      " [datetime.datetime(2020, 4, 11, 15, 37, 20, 751698) 19.249645233154297\n",
      "  -98.90643310546875 413.19831373095514]\n",
      " ...\n",
      " [datetime.datetime(2020, 4, 28, 18, 30, 33, 229365) 19.88849639892578\n",
      "  -98.7210693359375 413.3903116464615]\n",
      " [datetime.datetime(2020, 4, 28, 18, 30, 33, 283365) 19.936086654663086\n",
      "  -98.72565460205078 415.0814880561829]\n",
      " [datetime.datetime(2020, 4, 28, 18, 30, 33, 310365) 19.96056365966797\n",
      "  -98.72879791259766 412.2514993429184]]\n"
     ]
    }
   ],
   "source": [
    "# concatena los 4 vectores Nx1 en una matriz temporal Nx4\n",
    "mat=np.concatenate((time,lat,lon,xco2),axis=1)\n",
    "print(mat.shape,mat)"
   ]
  },
  {
   "cell_type": "code",
   "execution_count": 69,
   "metadata": {},
   "outputs": [
    {
     "name": "stdout",
     "output_type": "stream",
     "text": [
      "(298, 4) [[datetime.datetime(2020, 2, 8, 16, 28, 32, 697699) 19.090171813964844\n",
      "  -98.93521118164062 411.7919531774521]\n",
      " [datetime.datetime(2020, 2, 8, 16, 28, 32, 724699) 19.11931800842285\n",
      "  -98.92881774902344 412.74296977758405]\n",
      " [datetime.datetime(2020, 2, 8, 16, 28, 33, 4032) 19.078414916992188\n",
      "  -98.9263687133789 413.71950124263765]\n",
      " ...\n",
      " [datetime.datetime(2020, 2, 8, 16, 29, 47, 589698) 19.655065536499023\n",
      "  -98.8176498413086 413.60399223148823]\n",
      " [datetime.datetime(2020, 2, 8, 16, 29, 47, 896032) 19.65747833251953\n",
      "  -98.7942886352539 412.75033022761346]\n",
      " [datetime.datetime(2020, 2, 8, 16, 29, 47, 923032) 19.671222686767578\n",
      "  -98.8038558959961 413.810539059639]]\n"
     ]
    }
   ],
   "source": [
    "# copia la matriz temporal en una permanente, esto solo se debe usar si no existe ya la matriz permanente\n",
    "datos=copy.copy(mat)\n",
    "print(datos.shape,datos)"
   ]
  },
  {
   "cell_type": "code",
   "execution_count": 86,
   "metadata": {},
   "outputs": [
    {
     "name": "stdout",
     "output_type": "stream",
     "text": [
      "(1009, 4) [[datetime.datetime(2020, 4, 11, 15, 37, 20, 418365) 19.233489990234375\n",
      "  -98.92019653320312 412.7084620177746]\n",
      " [datetime.datetime(2020, 4, 11, 15, 37, 20, 724699) 19.226322174072266\n",
      "  -98.90625762939453 413.23420859515664]\n",
      " [datetime.datetime(2020, 4, 11, 15, 37, 20, 751698) 19.249645233154297\n",
      "  -98.90643310546875 413.19831373095514]\n",
      " ...\n",
      " [datetime.datetime(2020, 2, 8, 16, 29, 47, 589698) 19.655065536499023\n",
      "  -98.8176498413086 413.60399223148823]\n",
      " [datetime.datetime(2020, 2, 8, 16, 29, 47, 896032) 19.65747833251953\n",
      "  -98.7942886352539 412.75033022761346]\n",
      " [datetime.datetime(2020, 2, 8, 16, 29, 47, 923032) 19.671222686767578\n",
      "  -98.8038558959961 413.810539059639]]\n"
     ]
    }
   ],
   "source": [
    "# concatena los datos de la matriz temporal en la permanente, esto solo se debe usar si ya existe la matriz permanente\n",
    "datos=np.concatenate((mat,datos),axis=0)\n",
    "print(datos.shape,datos)"
   ]
  },
  {
   "cell_type": "code",
   "execution_count": 87,
   "metadata": {},
   "outputs": [],
   "source": [
    "# cierra el archivo hdf\n",
    "data.close()"
   ]
  },
  {
   "cell_type": "code",
   "execution_count": 88,
   "metadata": {},
   "outputs": [
    {
     "name": "stdout",
     "output_type": "stream",
     "text": [
      "(1009,)\n"
     ]
    }
   ],
   "source": [
    "# prueba del tamaño del vector 2 : latitud\n",
    "print(datos[:,1].shape)"
   ]
  },
  {
   "cell_type": "code",
   "execution_count": 91,
   "metadata": {},
   "outputs": [
    {
     "data": {
      "image/png": "[encoded data removed]",
      "text/plain": [
       "<Figure size 432x288 with 1 Axes>"
      ]
     },
     "metadata": {
      "needs_background": "light"
     },
     "output_type": "display_data"
    }
   ],
   "source": [
    "# condiciones para reducir el tamaño del grid alrededor del punto seleccionado y obtener datos dentro ded ese nuevo grid\n",
    "\n",
    "gridcond = ((datos[:,1] < (latpoint + gridsize)) & (datos[:,1] > (latpoint - gridsize)) & (datos[:,2] < (lonpoint + gridsize)) & (datos[:,2] > (lonpoint - gridsize)))\n",
    "#print(gridcond) \n",
    "\n",
    "# grafica una serie de tiempo sencilla con los datos filtrados por las condiciones\n",
    "plt.plot_date(datos[:,0][gridcond],datos[:,3][gridcond]) \n",
    "plt.tight_layout() \n",
    "plt.show()"
   ]
  },
  {
   "cell_type": "code",
   "execution_count": null,
   "metadata": {},
   "outputs": [],
   "source": []
  }
 ],
 "metadata": {
  "kernelspec": {
   "display_name": "Python 3",
   "language": "python",
   "name": "python3"
  },
  "language_info": {
   "codemirror_mode": {
    "name": "ipython",
    "version": 3
   },
   "file_extension": ".py",
   "mimetype": "text/x-python",
   "name": "python",
   "nbconvert_exporter": "python",
   "pygments_lexer": "ipython3",
   "version": "3.8.3"
  }
 },
 "nbformat": 4,
 "nbformat_minor": 4
}
