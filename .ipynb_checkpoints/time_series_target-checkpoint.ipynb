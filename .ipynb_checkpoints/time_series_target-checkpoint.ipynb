{
 "cells": [
  {
   "cell_type": "code",
   "execution_count": null,
   "metadata": {},
   "outputs": [],
   "source": [
    "import numpy as np\n",
    "import matplotlib.pyplot as plt\n",
    "import h5py\n",
    "import glob\n",
    "import copy\n",
    "import datetime as dt"
   ]
  },
  {
   "cell_type": "code",
   "execution_count": null,
   "metadata": {},
   "outputs": [],
   "source": [
    "# inicializacion de las condiciones : año, mes (o meses), punto de interes (lat y lon), tamaño de grid deseado\n",
    "year = 2020\n",
    "months = np.arange(1,7)\n",
    "latpoint = 19.5\n",
    "lonpoint = -98.5\n",
    "gridsize = 0.4\n",
    "\n",
    "# esto es para seleccionar el grid en el hdf donde se encuentran los datos de interes\n",
    "gridlat = int(latpoint)\n",
    "gridlon = int(lonpoint)\n",
    "gridname = '%iN%iW' % (int(latpoint),int(lonpoint))\n",
    "print(gridname)"
   ]
  },
  {
   "cell_type": "code",
   "execution_count": null,
   "metadata": {},
   "outputs": [],
   "source": [
    "# contadores inevitables\n",
    "cont = 0                              # para saber que hacer si la matriz de datos ya se creo o no"
   ]
  },
  {
   "cell_type": "code",
   "execution_count": null,
   "metadata": {},
   "outputs": [],
   "source": [
    "# algoritmo para generar la matriz de todos los datos en el grid 1x1 de los diferentes hdf\n",
    "# este arrojara la matriz que despues se filtrara para hacer las series de tiempo\n",
    "for month in months:\n",
    "    h5file = \"f:\\\\jupyter\\\\oco3_mexico_city\\\\mexico\\\\mexico_oco3_target_%i%02i.h5\" %(year,month)\n",
    "    try:\n",
    "        data = h5py.File(h5file,'r')\n",
    "        \n",
    "        # expande los vectores para concatenar y toma los datos del grid en donde esta el punto\n",
    "        # genera un objeto datetime a partir del valor de tepoch\n",
    "        lat = np.expand_dims(data[gridname]['/latitude'],axis=1)\n",
    "        lon = np.expand_dims(data[gridname]['/longitude'],axis=1)\n",
    "        xco2 = np.expand_dims(data[gridname]['/xco2'],axis=1)\n",
    "        t_epoch = data[gridname]['tepoch']\n",
    "        time = np.array([dt.datetime.utcfromtimestamp(ele) for ele in t_epoch])\n",
    "        time = np.expand_dims(time,axis=1)\n",
    "        \n",
    "        # concatena los 4 vectores Nx1 en una matriz temporal Nx4\n",
    "        mat=np.concatenate((time,lat,lon,xco2),axis=1)\n",
    "        \n",
    "        \n",
    "        if cont == 0:\n",
    "            # copia la matriz temporal en una permanente\n",
    "            # esto solo se debe usar si no existe ya la matriz permanente\n",
    "            datos=copy.copy(mat)\n",
    "            \n",
    "        else:\n",
    "            # concatena los datos de la matriz temporal en la permanente\n",
    "            # esto solo se debe usar si ya existe la matriz permanente\n",
    "            datos=np.concatenate((mat,datos),axis=0)\n",
    "            \n",
    "        data.close()\n",
    "        cont = cont + 1\n",
    "        \n",
    "    except:\n",
    "        continue\n",
    "    \n",
    "# condiciones para reducir el tamaño del grid alrededor del punto seleccionado y obtener datos dentro ded ese nuevo grid\n",
    "\n",
    "gridcond = ((datos[:,1] < (latpoint + gridsize)) & (datos[:,1] > (latpoint - gridsize)) & (datos[:,2] < (lonpoint + gridsize)) & (datos[:,2] > (lonpoint - gridsize)))\n",
    "#print(gridcond) \n",
    "\n",
    "# grafica una serie de tiempo sencilla con los datos filtrados por las condiciones\n",
    "plt.plot_date(datos[:,0][gridcond],datos[:,3][gridcond]) \n",
    "plt.tight_layout() \n",
    "plt.show()"
   ]
  }
 ],
 "metadata": {
  "kernelspec": {
   "display_name": "Python 3",
   "language": "python",
   "name": "python3"
  },
  "language_info": {
   "codemirror_mode": {
    "name": "ipython",
    "version": 3
   },
   "file_extension": ".py",
   "mimetype": "text/x-python",
   "name": "python",
   "nbconvert_exporter": "python",
   "pygments_lexer": "ipython3",
   "version": "3.8.3"
  }
 },
 "nbformat": 4,
 "nbformat_minor": 4
}
