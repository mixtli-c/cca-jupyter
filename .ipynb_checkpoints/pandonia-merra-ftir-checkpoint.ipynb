{
 "cells": [
  {
   "cell_type": "code",
   "execution_count": 2,
   "metadata": {},
   "outputs": [],
   "source": [
    "import numpy as np\n",
    "import matplotlib.pyplot as plt\n",
    "import matplotlib.dates as mdates\n",
    "import datetime as dt\n",
    "import pandas as pd\n",
    "import glob\n",
    "from pytz import all_timezones"
   ]
  },
  {
   "cell_type": "code",
   "execution_count": 2,
   "metadata": {},
   "outputs": [],
   "source": [
    "########### BEGIN Building PANDORA DataFrames"
   ]
  },
  {
   "cell_type": "code",
   "execution_count": 3,
   "metadata": {},
   "outputs": [],
   "source": [
    "# Pandas dataframe from pandora data\n",
    "npz = np.load('PandoraAltz.npz',allow_pickle=True)\n",
    "df= pd.DataFrame.from_dict({item: npz[item] for item in npz.files})\n",
    "npz.close()"
   ]
  },
  {
   "cell_type": "code",
   "execution_count": 4,
   "metadata": {},
   "outputs": [],
   "source": [
    "# Filtered data by qflag 0,10\n",
    "options = [0,10] \n",
    "rslt_df = df[df['qflag'].isin(options)] \n",
    "#localization of dataframe so that datetime is UTC and not naive\n",
    "dtimeutc=rslt_df.dtime.dt.tz_localize('Etc/UTC')\n",
    "dtimelocal=dtimeutc.dt.tz_convert('Etc/GMT+6')\n",
    "dflocal = rslt_df.assign(dtime=dtimelocal)\n",
    "tslocal = dflocal.set_index('dtime')\n",
    "### changing dobson units\n",
    "tsloc_molcm2=tslocal.assign(ozone=tslocal.ozone*2.6868e16)\n",
    "## grouping by hour\n",
    "tslocmean = tsloc_molcm2.ozone.groupby(tslocal.index.hour).mean()\n",
    "tslocstd=tsloc_molcm2.ozone.groupby(tslocal.index.hour).std()\n",
    "## grouping by month\n",
    "tslocmeanmt = tsloc_molcm2.ozone.groupby(tslocal.index.month).mean()\n",
    "tslocstdmt = tsloc_molcm2.ozone.groupby(tslocal.index.month).std()\n"
   ]
  },
  {
   "cell_type": "code",
   "execution_count": 5,
   "metadata": {},
   "outputs": [],
   "source": [
    "########### END Building PANDORA DataFrames\n",
    "########### BEGIN Building MERRA2 DataFrames"
   ]
  },
  {
   "cell_type": "code",
   "execution_count": 6,
   "metadata": {},
   "outputs": [],
   "source": [
    "# Pandas DataFrame from MERRA2 data\n",
    "# data is stored in folders by year, filenames are O3_YYYY_MM_DD_HH.txt\n",
    "years = np.arange(2012,2020)\n",
    "date=[]\n",
    "O3=[]\n",
    "O3trop=[]\n",
    "O3strat=[]\n",
    "#testcount = 0\n",
    "for year in years:\n",
    "    merrapath = 'D:\\\\CCA\\\\PANDONIA\\\\O3fromMERRA2\\\\'+'%i*\\\\' % (year) + '*.*'\n",
    "    filelist = glob.glob(merrapath)\n",
    "    #testcount = testcount + len(filelist)\n",
    "    #print(testcount)\n",
    "    for filename in filelist:\n",
    "        tempdf = pd.read_csv(filename)\n",
    "        tempdf.set_axis(['fixedP','fixedO3','modelP','modelO3'], axis=1, inplace=True)\n",
    "        \n",
    "        ############################ converting pressure to altitude\n",
    "        tdfa = tempdf[tempdf['modelP'] <= 226.32].assign(modelP=((1.73-np.log(tempdf.modelP/226.32))/0.000157))\n",
    "        tdfb = tempdf[tempdf['modelP'] > 226.32].assign(modelP=((1-(tempdf.modelP/1013.25)**(1/5.25588))/2.25577e-5))\n",
    "        tempdf2=tdfa.append(tdfb)\n",
    "        tempdf2.set_axis(['fixedP','fixedO3','modelAlt','modelO3'], axis=1, inplace=True)\n",
    "        \n",
    "        ############################ altitude difference series\n",
    "        altdiff=tempdf2.modelAlt.diff()\n",
    "        altdiff=altdiff.replace(altdiff[0],altdiff[1])\n",
    "        altdiff=-altdiff\n",
    "        \n",
    "        ############################ converting altitude to T in degC\n",
    "        tdfa = tempdf2[tempdf2['modelAlt'] <= 11000].assign(modelAlt=(15.04-0.00649*tempdf2.modelAlt))\n",
    "        tdfb = tempdf2[tempdf2['modelAlt'] > 11000].assign(modelAlt=-56.46)\n",
    "        tempdf3=tdfb.append(tdfa)\n",
    "        tempdf3.set_axis(['fixedP','fixedO3','modelT','modelO3'], axis=1, inplace=True)\n",
    "        \n",
    "        ############################ calculating air number density and ozone number density\n",
    "        nair = tempdf.modelP*100*6.022e23/(8.314463*(tempdf3.modelT+273.15))\n",
    "        tempdf4 = tempdf2.assign(modelO3=tempdf3.modelO3*nair)\n",
    "        tempdf5 = tempdf4.assign(modelO3=(tempdf4.modelO3*altdiff)/10000)\n",
    "        \n",
    "        ############################ calculating column density\n",
    "        columnO3=tempdf5.modelO3.sum()\n",
    "        columnO3trop=tempdf5[tempdf2['modelAlt'] <= 11000].modelO3.sum()\n",
    "        columnO3strat=tempdf5[tempdf2['modelAlt'] > 11000].modelO3.sum()\n",
    "        \n",
    "        ############################ extracting datetime from filename and appending\n",
    "        time=dt.datetime.strptime(filename[-17:-4],'%Y_%m_%d_%H')\n",
    "        date.append(time)\n",
    "        O3.append(columnO3)\n",
    "        O3trop.append(columnO3trop)\n",
    "        O3strat.append(columnO3strat)\n",
    "        \n",
    "merradf = pd.DataFrame(data={\"date\": date, \"ozone\": O3})\n",
    "merradftrop= pd.DataFrame(data={\"date\":date,\"ozone\": O3trop})\n",
    "merradfstrat= pd.DataFrame(data={\"date\":date,\"ozone\": O3strat})\n"
   ]
  },
  {
   "cell_type": "code",
   "execution_count": 17,
   "metadata": {},
   "outputs": [],
   "source": [
    "# Monthly MERRA\n",
    "#total\n",
    "tsmerra = merradf.set_index('date')\n",
    "tsmerramm = tsmerra.ozone.resample('M').mean()\n",
    "tsmerrameanmt = tsmerramm.groupby(tsmerramm.index.month).mean()\n",
    "tsmerrasm = tsmerra.ozone.resample('M').std()\n",
    "tsmerrastdmt = tsmerrasm.groupby(tsmerrasm.index.month).std()\n",
    "#tropospheric\n",
    "tsmerratrop = merradftrop.set_index('date')\n",
    "tsmerrammtrop = tsmerratrop.ozone.resample('M').mean()\n",
    "tsmerrameanmttrop = tsmerrammtrop.groupby(tsmerrammtrop.index.month).mean()\n",
    "tsmerrasmtrop = tsmerratrop.ozone.resample('M').std()\n",
    "tsmerrastdmttrop = tsmerrasmtrop.groupby(tsmerrasmtrop.index.month).std()\n",
    "#stratospheric\n",
    "tsmerrastrat = merradfstrat.set_index('date')\n",
    "tsmerrammstrat = tsmerrastrat.ozone.resample('M').mean()\n",
    "tsmerrameanmtstrat = tsmerrammstrat.groupby(tsmerrammstrat.index.month).mean()\n",
    "tsmerrasmstrat = tsmerrastrat.ozone.resample('M').std()\n",
    "tsmerrastdmtstrat = tsmerrasmstrat.groupby(tsmerrasmstrat.index.month).std()"
   ]
  },
  {
   "cell_type": "code",
   "execution_count": 8,
   "metadata": {},
   "outputs": [],
   "source": [
    "# Hourly MERRA\n",
    "#total\n",
    "tsmerra = merradf.set_index('date')\n",
    "tsmerramean = tsmerra.ozone.groupby(tsmerra.index.hour).mean()\n",
    "tsmerrastd = tsmerra.ozone.groupby(tsmerra.index.hour).std()\n",
    "#tropospheric\n",
    "tsmerratrop = merradftrop.set_index('date')\n",
    "tsmerrameantrop = tsmerratrop.ozone.groupby(tsmerratrop.index.hour).mean()\n",
    "tsmerrastdtrop = tsmerratrop.ozone.groupby(tsmerratrop.index.hour).std()\n",
    "#stratospheric\n",
    "tsmerrastrat = merradfstrat.set_index('date')\n",
    "tsmerrameanstrat = tsmerrastrat.ozone.groupby(tsmerrastrat.index.hour).mean()\n",
    "tsmerrastdstrat = tsmerrastrat.ozone.groupby(tsmerrastrat.index.hour).std()"
   ]
  },
  {
   "cell_type": "code",
   "execution_count": 9,
   "metadata": {},
   "outputs": [],
   "source": [
    "########### END Building MERRA2 DataFrames\n",
    "########### BEGIN Building FTIR DataFrames"
   ]
  },
  {
   "cell_type": "code",
   "execution_count": 11,
   "metadata": {},
   "outputs": [],
   "source": [
    "#total\n",
    "date=[]\n",
    "O3=[]\n",
    "tempdf = pd.read_csv('D:\\\\CCA\\\\PANDONIA\\\\trop-total_O3\\\\totalO3.txt',sep='\\t',header=None)\n",
    "tempdf.set_axis(['date','ozone'], axis=1, inplace=True)\n",
    "for ii,ele in enumerate(tempdf.date):\n",
    "    date.append(dt.datetime.strptime(ele,'%Y-%m-%d:%H'))\n",
    "    O3.append(tempdf.ozone[ii])\n",
    "ftirdf = pd.DataFrame(data={\"date\": date, \"ozone\": O3})\n",
    "#tropospheric\n",
    "date=[]\n",
    "O3trop=[]\n",
    "tempdf = pd.read_csv('D:\\\\CCA\\\\PANDONIA\\\\trop-total_O3\\\\tropO3.txt',sep='\\t',header=None)\n",
    "tempdf.set_axis(['date','ozone'], axis=1, inplace=True)\n",
    "for ii,ele in enumerate(tempdf.date):\n",
    "    date.append(dt.datetime.strptime(ele,'%Y-%m-%d:%H'))\n",
    "    O3trop.append(tempdf.ozone[ii])\n",
    "ftirdftrop = pd.DataFrame(data={\"date\": date, \"ozone\": O3trop})"
   ]
  },
  {
   "cell_type": "code",
   "execution_count": 21,
   "metadata": {},
   "outputs": [],
   "source": [
    "#Hourly FTIR\n",
    "#total\n",
    "tsftir = ftirdf.set_index('date')\n",
    "tsftirmean = tsftir.ozone.groupby(tsftir.index.hour).mean()\n",
    "tsftirstd = tsftir.ozone.groupby(tsftir.index.hour).std()\n",
    "#tropospheric\n",
    "tsftirtrop = ftirdftrop.set_index('date')\n",
    "tsftirmeantrop = tsftirtrop.ozone.groupby(tsftir.index.hour).mean()\n",
    "tsftirstdtrop = tsftirtrop.ozone.groupby(tsftir.index.hour).std()\n",
    "#Monthly FTIR\n",
    "#total\n",
    "tsftirmeanmt = tsftir.ozone.groupby(tsftir.index.month).mean()\n",
    "tsftirstdmt = tsftir.ozone.groupby(tsftir.index.month).std()\n",
    "#tropospheric\n",
    "tsftirmeanmttrop = tsftirtrop.ozone.groupby(tsftir.index.month).mean()\n",
    "tsftirstdmttrop = tsftirtrop.ozone.groupby(tsftir.index.month).std()"
   ]
  },
  {
   "cell_type": "code",
   "execution_count": 13,
   "metadata": {},
   "outputs": [],
   "source": [
    "########### END Building FTIR DataFrames"
   ]
  },
  {
   "cell_type": "code",
   "execution_count": 14,
   "metadata": {},
   "outputs": [],
   "source": [
    "## simple plotting with error - DEPRECATED\n",
    "#ax = tslocmeanmt.plot(figsize=(10,6),title='Ozone yearly profile',ylabel='molecule/cm$^2$',yerr=tslocstdmt,capsize=4,fontsize=12)\n",
    "#tsmerramm2.plot(figsize=(10,6),xlabel='Month',yerr=tsmerrastdmt,capsize=4,fontsize=12)"
   ]
  },
  {
   "cell_type": "code",
   "execution_count": 29,
   "metadata": {},
   "outputs": [
    {
     "data": {
      "image/png": "[encoded data removed]",
      "text/plain": [
       "<Figure size 1008x576 with 1 Axes>"
      ]
     },
     "metadata": {
      "needs_background": "light"
     },
     "output_type": "display_data"
    }
   ],
   "source": [
    "## pyplot plotting\n",
    "# PANDONIA = loc, MERRA2 = merra, FTIR = ftir\n",
    "# varname format = ts + source + mean/std + hourly(none)/monthly(mt) + total(none)/trop/strat \n",
    "# e.g. tsmerrameanmttrop\n",
    "\n",
    "# Variable definition\n",
    "x1 = tslocmean.index\n",
    "y1 = tslocmean\n",
    "err1 = tslocstd\n",
    "x2 = tsmerrameantrop.index\n",
    "y2 = tsmerrameantrop\n",
    "err2 = tsmerrastdtrop\n",
    "x3 = tsftirmeantrop.index \n",
    "y3 = tsftirmeantrop\n",
    "err3 = tsftirstdtrop\n",
    "\n",
    "### INITIALIZATION\n",
    "fig, ax1 = plt.subplots(figsize=(14, 8))\n",
    "\n",
    "## line and stdev\n",
    "#ax1.plot(x1, y1, '-b')\n",
    "#ax1.fill_between(x1, y1-err1, y1+err1,alpha=.25, edgecolor='#3F7F4C', facecolor='b',linewidth=0)\n",
    "ax1.plot(x2, y2, '-g')\n",
    "ax1.fill_between(x2, y2-err2, y2+err2,alpha=.25, edgecolor='#3F7F4C', facecolor='g',linewidth=0)\n",
    "ax1.plot(x3, y3, '-r')\n",
    "ax1.fill_between(x3, y3-err3, y3+err3,alpha=.25, edgecolor='#3F7F4C', facecolor='r',linewidth=0)\n",
    "\n",
    "## LABEL, marker and errorbar\n",
    "#ax1.errorbar(x1, y1, yerr=err1, fmt='bo', label='Pandonia Altzomoni (total)')\n",
    "ax1.errorbar(x2, y2, yerr=err2, fmt='go', label='MERRA2 (tropospheric)')\n",
    "ax1.errorbar(x3, y3, yerr=err3, fmt='ro', label='FTIR (tropospheric)')\n",
    "\n",
    "## Formatting \n",
    "#ax1.set_xticks(np.arange(0,24))\n",
    "ax1.set_xlabel('Hour',size=14)\n",
    "ax1.set_ylabel('molecule/cm$^2$',size=14)\n",
    "ax1.set_title(\"Diurnal ozone profile\",size=16)\n",
    "ax1.legend(fontsize=12, loc='upper left')\n",
    "ax1.tick_params(labelsize=12)\n",
    "\n",
    "## SAVEFIG\n",
    "#plt.savefig('D:\\\\CCA\\\\PANDONIA\\\\diurnalO3PanAltzMERRA.png')"
   ]
  },
  {
   "cell_type": "code",
   "execution_count": null,
   "metadata": {},
   "outputs": [],
   "source": [
    "################## TESTING AFTER THIS LINE"
   ]
  },
  {
   "cell_type": "code",
   "execution_count": null,
   "metadata": {},
   "outputs": [],
   "source": [
    "testdf = pd.read_csv('D:\\\\CCA\\\\PANDONIA\\\\trop-total_O3\\\\tropO3.txt',sep='\\t',header=None)\n",
    "testdf.set_axis(['date','tropO3'], axis=1, inplace=True)\n",
    "testdf"
   ]
  },
  {
   "cell_type": "code",
   "execution_count": null,
   "metadata": {},
   "outputs": [],
   "source": [
    "dt.datetime.strptime(testdf.date[74061],'%Y-%m-%d:%H')"
   ]
  },
  {
   "cell_type": "code",
   "execution_count": null,
   "metadata": {},
   "outputs": [],
   "source": [
    "len(testdf.date)"
   ]
  },
  {
   "cell_type": "code",
   "execution_count": null,
   "metadata": {},
   "outputs": [],
   "source": [
    "for ii,ele in enumerate(testdf.date):\n",
    "    if (ii%10000)==0:\n",
    "        print(dt.datetime.strptime(ele,'%Y-%m-%d:%H'))\n",
    "        print(testdf.tropO3[ii])"
   ]
  },
  {
   "cell_type": "code",
   "execution_count": null,
   "metadata": {},
   "outputs": [],
   "source": [
    "############################# PandoraAltz, PandoraAltzNO2, FTIRAltzTotalO3-LITE"
   ]
  },
  {
   "cell_type": "code",
   "execution_count": 11,
   "metadata": {},
   "outputs": [],
   "source": [
    "#### Pandora needs qflag filtering\n",
    "#dtime, ozone\n",
    "npz = np.load('PandoraAltz.npz',allow_pickle=True)\n",
    "dfpano3= pd.DataFrame.from_dict({item: npz[item] for item in npz.files})\n",
    "npz.close()\n",
    "\n",
    "#dtime, no2\n",
    "npz = np.load('PandoraAltzNO2.npz',allow_pickle=True)\n",
    "dfpanno2= pd.DataFrame.from_dict({item: npz[item] for item in npz.files})\n",
    "npz.close()\n",
    "\n",
    "options = [0,10] \n",
    "qf_dfpano3 = dfpano3[dfpano3['qflag'].isin(options)] \n",
    "qf_dfpanno2 = dfpanno2[dfpanno2['qflag'].isin(options)] \n",
    "\n",
    "########\n",
    "#time, o3column\n",
    "npz = np.load('FTIRAltzTotalO3-LITE.npz',allow_pickle=True)\n",
    "dfftiro3= pd.DataFrame.from_dict({item: npz[item] for item in npz.files})\n",
    "npz.close()"
   ]
  },
  {
   "cell_type": "code",
   "execution_count": 15,
   "metadata": {},
   "outputs": [],
   "source": [
    "#timeseries\n",
    "ftirts=dfftiro3.set_index('time')\n",
    "pano3ts=qf_dfpano3.set_index('dtime')\n",
    "panno2ts=qf_dfpanno2.set_index('dtime')"
   ]
  },
  {
   "cell_type": "code",
   "execution_count": 18,
   "metadata": {},
   "outputs": [
    {
     "data": {
      "text/html": [
       "<div>\n",
       "<style scoped>\n",
       "    .dataframe tbody tr th:only-of-type {\n",
       "        vertical-align: middle;\n",
       "    }\n",
       "\n",
       "    .dataframe tbody tr th {\n",
       "        vertical-align: top;\n",
       "    }\n",
       "\n",
       "    .dataframe thead th {\n",
       "        text-align: right;\n",
       "    }\n",
       "</style>\n",
       "<table border=\"1\" class=\"dataframe\">\n",
       "  <thead>\n",
       "    <tr style=\"text-align: right;\">\n",
       "      <th></th>\n",
       "      <th>no2</th>\n",
       "      <th>uncty</th>\n",
       "      <th>no2massf</th>\n",
       "      <th>diffcorr</th>\n",
       "      <th>qflag</th>\n",
       "      <th>sum2iDQ1</th>\n",
       "      <th>sum2iDQ2</th>\n",
       "    </tr>\n",
       "    <tr>\n",
       "      <th>dtime</th>\n",
       "      <th></th>\n",
       "      <th></th>\n",
       "      <th></th>\n",
       "      <th></th>\n",
       "      <th></th>\n",
       "      <th></th>\n",
       "      <th></th>\n",
       "    </tr>\n",
       "  </thead>\n",
       "  <tbody>\n",
       "    <tr>\n",
       "      <th>2019-02-01 15:39:12.000</th>\n",
       "      <td>0.063686</td>\n",
       "      <td>0.001408</td>\n",
       "      <td>1.929</td>\n",
       "      <td>0.0</td>\n",
       "      <td>0</td>\n",
       "      <td>0.0</td>\n",
       "      <td>0.0</td>\n",
       "    </tr>\n",
       "    <tr>\n",
       "      <th>2019-02-01 15:40:40.000</th>\n",
       "      <td>0.065188</td>\n",
       "      <td>0.001530</td>\n",
       "      <td>1.914</td>\n",
       "      <td>0.0</td>\n",
       "      <td>0</td>\n",
       "      <td>0.0</td>\n",
       "      <td>0.0</td>\n",
       "    </tr>\n",
       "    <tr>\n",
       "      <th>2019-02-01 15:42:05.000</th>\n",
       "      <td>0.064987</td>\n",
       "      <td>0.001842</td>\n",
       "      <td>1.899</td>\n",
       "      <td>0.0</td>\n",
       "      <td>0</td>\n",
       "      <td>0.0</td>\n",
       "      <td>0.0</td>\n",
       "    </tr>\n",
       "    <tr>\n",
       "      <th>2019-02-01 15:43:31.000</th>\n",
       "      <td>0.063933</td>\n",
       "      <td>0.004026</td>\n",
       "      <td>1.884</td>\n",
       "      <td>0.0</td>\n",
       "      <td>0</td>\n",
       "      <td>0.0</td>\n",
       "      <td>0.0</td>\n",
       "    </tr>\n",
       "    <tr>\n",
       "      <th>2019-02-01 15:44:56.000</th>\n",
       "      <td>0.066786</td>\n",
       "      <td>0.001539</td>\n",
       "      <td>1.870</td>\n",
       "      <td>0.0</td>\n",
       "      <td>0</td>\n",
       "      <td>0.0</td>\n",
       "      <td>0.0</td>\n",
       "    </tr>\n",
       "    <tr>\n",
       "      <th>...</th>\n",
       "      <td>...</td>\n",
       "      <td>...</td>\n",
       "      <td>...</td>\n",
       "      <td>...</td>\n",
       "      <td>...</td>\n",
       "      <td>...</td>\n",
       "      <td>...</td>\n",
       "    </tr>\n",
       "    <tr>\n",
       "      <th>2021-08-23 16:13:32.400</th>\n",
       "      <td>0.094621</td>\n",
       "      <td>0.002470</td>\n",
       "      <td>1.227</td>\n",
       "      <td>0.0</td>\n",
       "      <td>10</td>\n",
       "      <td>0.0</td>\n",
       "      <td>0.0</td>\n",
       "    </tr>\n",
       "    <tr>\n",
       "      <th>2021-08-23 16:13:38.500</th>\n",
       "      <td>0.102320</td>\n",
       "      <td>0.002492</td>\n",
       "      <td>1.227</td>\n",
       "      <td>0.0</td>\n",
       "      <td>10</td>\n",
       "      <td>0.0</td>\n",
       "      <td>0.0</td>\n",
       "    </tr>\n",
       "    <tr>\n",
       "      <th>2021-08-23 16:13:44.500</th>\n",
       "      <td>0.100510</td>\n",
       "      <td>0.002673</td>\n",
       "      <td>1.227</td>\n",
       "      <td>0.0</td>\n",
       "      <td>10</td>\n",
       "      <td>0.0</td>\n",
       "      <td>0.0</td>\n",
       "    </tr>\n",
       "    <tr>\n",
       "      <th>2021-08-23 16:13:50.500</th>\n",
       "      <td>0.102040</td>\n",
       "      <td>0.002509</td>\n",
       "      <td>1.226</td>\n",
       "      <td>0.0</td>\n",
       "      <td>10</td>\n",
       "      <td>0.0</td>\n",
       "      <td>0.0</td>\n",
       "    </tr>\n",
       "    <tr>\n",
       "      <th>2021-08-23 16:13:56.500</th>\n",
       "      <td>0.098703</td>\n",
       "      <td>0.002494</td>\n",
       "      <td>1.226</td>\n",
       "      <td>0.0</td>\n",
       "      <td>10</td>\n",
       "      <td>0.0</td>\n",
       "      <td>0.0</td>\n",
       "    </tr>\n",
       "  </tbody>\n",
       "</table>\n",
       "<p>47032 rows × 7 columns</p>\n",
       "</div>"
      ],
      "text/plain": [
       "                              no2     uncty  no2massf  diffcorr  qflag  \\\n",
       "dtime                                                                    \n",
       "2019-02-01 15:39:12.000  0.063686  0.001408     1.929       0.0      0   \n",
       "2019-02-01 15:40:40.000  0.065188  0.001530     1.914       0.0      0   \n",
       "2019-02-01 15:42:05.000  0.064987  0.001842     1.899       0.0      0   \n",
       "2019-02-01 15:43:31.000  0.063933  0.004026     1.884       0.0      0   \n",
       "2019-02-01 15:44:56.000  0.066786  0.001539     1.870       0.0      0   \n",
       "...                           ...       ...       ...       ...    ...   \n",
       "2021-08-23 16:13:32.400  0.094621  0.002470     1.227       0.0     10   \n",
       "2021-08-23 16:13:38.500  0.102320  0.002492     1.227       0.0     10   \n",
       "2021-08-23 16:13:44.500  0.100510  0.002673     1.227       0.0     10   \n",
       "2021-08-23 16:13:50.500  0.102040  0.002509     1.226       0.0     10   \n",
       "2021-08-23 16:13:56.500  0.098703  0.002494     1.226       0.0     10   \n",
       "\n",
       "                         sum2iDQ1  sum2iDQ2  \n",
       "dtime                                        \n",
       "2019-02-01 15:39:12.000       0.0       0.0  \n",
       "2019-02-01 15:40:40.000       0.0       0.0  \n",
       "2019-02-01 15:42:05.000       0.0       0.0  \n",
       "2019-02-01 15:43:31.000       0.0       0.0  \n",
       "2019-02-01 15:44:56.000       0.0       0.0  \n",
       "...                           ...       ...  \n",
       "2021-08-23 16:13:32.400       0.0       0.0  \n",
       "2021-08-23 16:13:38.500       0.0       0.0  \n",
       "2021-08-23 16:13:44.500       0.0       0.0  \n",
       "2021-08-23 16:13:50.500       0.0       0.0  \n",
       "2021-08-23 16:13:56.500       0.0       0.0  \n",
       "\n",
       "[47032 rows x 7 columns]"
      ]
     },
     "execution_count": 18,
     "metadata": {},
     "output_type": "execute_result"
    }
   ],
   "source": [
    "panno2ts"
   ]
  },
  {
   "cell_type": "code",
   "execution_count": 31,
   "metadata": {},
   "outputs": [
    {
     "data": {
      "image/png": "[encoded data removed]",
      "text/plain": [
       "<Figure size 1008x432 with 2 Axes>"
      ]
     },
     "metadata": {
      "needs_background": "light"
     },
     "output_type": "display_data"
    }
   ],
   "source": [
    "## pyplot plotting \n",
    "\n",
    "f, ax0 = plt.subplots(figsize=(14,6))\n",
    "ax0.plot(ftirts.index, ftirts['o3column'], '.b', label='FTIR')\n",
    "ax0.plot(pano3ts.index, pano3ts['ozone'], '.g', label='Pandora')\n",
    "\n",
    "## Formatting \n",
    "#ax1.set_xticks(np.arange(0,24))\n",
    "ax0.set_xlabel('Date',size=14)\n",
    "#ax0.set_ylabel('molecule/cm$^2$',size=14)\n",
    "ax0.set_ylabel('Dobson',size=14)\n",
    "ax0.set_title(\"Ozone profile (Altzomoni)\",size=16)\n",
    "ax0.legend(fontsize=12, loc='upper left')\n",
    "ax0.tick_params(labelsize=12)\n",
    "\n",
    "ax2 = ax0.twinx() \n",
    "  \n",
    "color = 'r'\n",
    "ax2.set_ylim([-.1,1])\n",
    "ax2.set_ylabel('Dobson', color = color) \n",
    "ax2.plot(panno2ts.index, panno2ts['no2'], '.r', label='Pandora NO2') \n",
    "ax2.tick_params(axis ='y',labelsize=12, labelcolor = color) "
   ]
  },
  {
   "cell_type": "code",
   "execution_count": null,
   "metadata": {},
   "outputs": [],
   "source": []
  }
 ],
 "metadata": {
  "kernelspec": {
   "display_name": "Python 3",
   "language": "python",
   "name": "python3"
  },
  "language_info": {
   "codemirror_mode": {
    "name": "ipython",
    "version": 3
   },
   "file_extension": ".py",
   "mimetype": "text/x-python",
   "name": "python",
   "nbconvert_exporter": "python",
   "pygments_lexer": "ipython3",
   "version": "3.8.10"
  }
 },
 "nbformat": 4,
 "nbformat_minor": 4
}
