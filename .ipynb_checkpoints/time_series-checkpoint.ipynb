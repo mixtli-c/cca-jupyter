{
 "cells": [
  {
   "cell_type": "code",
   "execution_count": 1,
   "metadata": {},
   "outputs": [],
   "source": [
    "import numpy as np\n",
    "import matplotlib.pyplot as plt\n",
    "import matplotlib.dates as mdates\n",
    "import seaborn as sns\n",
    "import h5py\n",
    "import glob\n",
    "import copy\n",
    "import datetime as dt"
   ]
  },
  {
   "cell_type": "code",
   "execution_count": 2,
   "metadata": {},
   "outputs": [],
   "source": [
    "### Inicio de la parte que requiere modificacion por el usuario\n",
    "\n",
    "# direccion de los archivos HDF de entrada y salidda \n",
    "# nombre semilla de los archivos (e.g. mexico_oco3_target, o mexico_oco3_early)\n",
    "path_hdfin = \"f:\\\\jupyter\\\\oco3_mexico_city\\\\mexico\\\\\"\n",
    "path_hdfout = \"f:\\\\jupyter\\\\oco3_mexico_city\\\\mexico\\\\\"\n",
    "seedname = 'mexico_oco3_target_'\n",
    "\n",
    "# nombre en el archivo HDF de las variables de latitud (y), longitud (x), y de interes (z)\n",
    "# aqui se incluye el nombre de POSIX (tepoch) por si se llegase a cambiar\n",
    "# NOTA, estos valores tienen que ser escalares, vectores (e.g. columna de co2) van a generar error\n",
    "latname = '/latitude'\n",
    "lonname = '/longitude'\n",
    "zname = '/xco2'\n",
    "epochname = 'tepoch'\n",
    "\n",
    "# inicializacion de las condiciones : año, mes (o meses), punto de interes (lat y lon), tamaño de grid deseado\n",
    "location_name = 'Location Name'\n",
    "years = [2020]\n",
    "months = np.arange(1,7)                           # np.arange(n,m) genera un arreglo con primer elemento n y ultimo m-1\n",
    "latpoint = 19.5                                   # latitud del punto de interes\n",
    "lonpoint = -98.5                                  # longitud del punto de interes\n",
    "gridsize = 0.6                                    # tamanyo del grid en fraccion de grados\n",
    "\n",
    "### Fin de la parte que requiere moddificacion por el usuario"
   ]
  },
  {
   "cell_type": "code",
   "execution_count": 3,
   "metadata": {},
   "outputs": [],
   "source": [
    "# Esta seccion genera una matriz 3x3x2 con las coordenadas +- 1 grado de latitud y longitud de las seccion del punto de interes\n",
    "# e.g para 19N-98W genera un grid 9x9 que va de 20N-99W a 18N-97W\n",
    "\n",
    "# Dependiendo del punto de interes y del tamanyo del area en fraccion de grados; una, varias, o todas las celdas del grid 9x9 \n",
    "# entraran en los datos que se buscan\n",
    "\n",
    "# Se genera un filtro para construir las diferentes etiquetas xN-yW para accesar a las carpetas del archivo HDF y obtener los\n",
    "# dadtos\n",
    "\n",
    "# latitud y longitud maxima y minima\n",
    "grid_max_lat = latpoint + gridsize\n",
    "grid_min_lat = latpoint - gridsize\n",
    "grid_max_lon = lonpoint - gridsize\n",
    "grid_min_lon = lonpoint + gridsize\n",
    "\n",
    "# convertir los float a integer\n",
    "gridlat = int(latpoint)\n",
    "gridlon = int(lonpoint)\n",
    "gridmaxlat = int(grid_max_lat)\n",
    "gridminlat = int(grid_min_lat)\n",
    "gridmaxlon = int(grid_max_lon)\n",
    "gridminlon = int(grid_min_lon)\n",
    "\n",
    "# vectores de latitud y longitud\n",
    "latvector = [gridlat-1,gridlat,gridlat+1]\n",
    "lonvector = [gridlon+1,gridlon,gridlon-1]\n",
    "\n",
    "# matriz 3x3x2 con los grids individuales de latitud y longitud\n",
    "# creada a mano, quiza haya una forma de hacerla menos explicita?\n",
    "grid9x9 = np.array([[[latvector[2],lonvector[2]],[latvector[2],lonvector[1]],[latvector[2],lonvector[0]]], \\\n",
    "                   [[latvector[1],lonvector[2]],[latvector[1],lonvector[1]],[latvector[1],lonvector[0]]], \\\n",
    "                   [[latvector[0],lonvector[2]],[latvector[0],lonvector[1]],[latvector[0],lonvector[0]]]])\n",
    "\n",
    "# filtro para seleccionar los grids que cubre el punto central con el tamanyo de grid\n",
    "mask = (grid9x9[:,:,0] >= gridminlat) & (grid9x9[:,:,0] <= gridmaxlat) & (grid9x9[:,:,1] <= gridminlon) & (grid9x9[:,:,1] >= gridmaxlon)\n",
    "\n"
   ]
  },
  {
   "cell_type": "code",
   "execution_count": 4,
   "metadata": {},
   "outputs": [],
   "source": [
    "# contadores inevitables\n",
    "cont = 0                              # para saber que hacer si la matriz de datos ya se creo o no"
   ]
  },
  {
   "cell_type": "code",
   "execution_count": 5,
   "metadata": {},
   "outputs": [
    {
     "name": "stdout",
     "output_type": "stream",
     "text": [
      "20 18 -99 -97\n",
      "[[ True  True  True]\n",
      " [ True  True  True]\n",
      " [ True  True  True]]\n",
      "[[ 20 -99]\n",
      " [ 20 -98]\n",
      " [ 20 -97]\n",
      " [ 19 -99]\n",
      " [ 19 -98]\n",
      " [ 19 -97]\n",
      " [ 18 -99]\n",
      " [ 18 -98]\n",
      " [ 18 -97]]\n",
      "20N-99W\n",
      "20N-98W\n",
      "20N-97W\n",
      "19N-99W\n",
      "19N-98W\n",
      "19N-97W\n",
      "18N-99W\n",
      "18N-98W\n",
      "18N-97W\n"
     ]
    }
   ],
   "source": [
    "# testing\n",
    "print(gridmaxlat,gridminlat,gridmaxlon,gridminlon)\n",
    "\n",
    "print(mask)\n",
    "\n",
    "print(grid9x9[mask])\n",
    "\n",
    "for row in grid9x9[mask]:\n",
    "    gridname = '%iN%iW' % (int(row[0]),int(row[1]))\n",
    "    print(gridname)"
   ]
  },
  {
   "cell_type": "code",
   "execution_count": 6,
   "metadata": {},
   "outputs": [
    {
     "name": "stdout",
     "output_type": "stream",
     "text": [
      "Intentando con el archivo:  f:\\jupyter\\oco3_mexico_city\\mexico\\mexico_oco3_target_202001.h5\n",
      "no hay datos para 2020-01\n",
      "Intentando con el archivo:  f:\\jupyter\\oco3_mexico_city\\mexico\\mexico_oco3_target_202002.h5\n",
      "no hay datos para 20N-99W\n",
      "no hay datos para 20N-98W\n",
      "no hay datos para 20N-97W\n",
      "no hay datos para 19N-97W\n",
      "no hay datos para 18N-97W\n",
      "Intentando con el archivo:  f:\\jupyter\\oco3_mexico_city\\mexico\\mexico_oco3_target_202003.h5\n",
      "no hay datos para 20N-98W\n",
      "no hay datos para 20N-97W\n",
      "no hay datos para 19N-97W\n",
      "no hay datos para 18N-97W\n",
      "Intentando con el archivo:  f:\\jupyter\\oco3_mexico_city\\mexico\\mexico_oco3_target_202004.h5\n",
      "no hay datos para 20N-97W\n",
      "no hay datos para 19N-97W\n",
      "no hay datos para 18N-98W\n",
      "no hay datos para 18N-97W\n",
      "Intentando con el archivo:  f:\\jupyter\\oco3_mexico_city\\mexico\\mexico_oco3_target_202005.h5\n",
      "no hay datos para 20N-97W\n",
      "no hay datos para 19N-97W\n",
      "no hay datos para 18N-97W\n",
      "Intentando con el archivo:  f:\\jupyter\\oco3_mexico_city\\mexico\\mexico_oco3_target_202006.h5\n",
      "no hay datos para 20N-99W\n",
      "no hay datos para 20N-98W\n",
      "no hay datos para 20N-97W\n",
      "no hay datos para 19N-99W\n",
      "no hay datos para 19N-97W\n",
      "no hay datos para 18N-97W\n"
     ]
    }
   ],
   "source": [
    "# algoritmo para generar la matriz de todos los datos en el grid 1x1 de los diferentes hdf\n",
    "# este arrojara la matriz que despues se filtrara para hacer las series de tiempo\n",
    "for year in years:\n",
    "    for month in months:\n",
    "        h5name = \"%i%02i.h5\" %(year,month)\n",
    "        h5file = path_hdfin + seedname + h5name\n",
    "        print('Intentando con el archivo: ', h5file)\n",
    "        \n",
    "        try:\n",
    "            data = h5py.File(h5file,'r')\n",
    "            \n",
    "            for coords in grid9x9[mask]:\n",
    "                \n",
    "                gridname = '%iN%iW' % (coords[0],coords[1])\n",
    "                #print(gridname)\n",
    "                \n",
    "                try:\n",
    "                    # expande los vectores para concatenar y toma los datos del grid en donde esta el punto\n",
    "                    # genera un objeto datetime a partir del valor de tepoch\n",
    "                    lat = np.expand_dims(data[gridname][latname],axis=1)\n",
    "                    lon = np.expand_dims(data[gridname][lonname],axis=1)\n",
    "                    zvar = np.expand_dims(data[gridname][zname],axis=1)\n",
    "                    t_epoch = data[gridname][epochname]\n",
    "                    time = np.array([dt.datetime.utcfromtimestamp(ele) for ele in t_epoch])\n",
    "                    time = np.expand_dims(time,axis=1)\n",
    "        \n",
    "                    # concatena los 4 vectores Nx1 en una matriz temporal Nx4\n",
    "                    mat=np.concatenate((time,lat,lon,zvar),axis=1)\n",
    "        \n",
    "        \n",
    "                    if cont == 0:\n",
    "                        # copia la matriz temporal en una permanente\n",
    "                        # esto solo se debe usar si no existe ya la matriz permanente\n",
    "                        datos=copy.copy(mat)\n",
    "            \n",
    "                    else:\n",
    "                        # concatena los datos de la matriz temporal en la permanente\n",
    "                        # esto solo se debe usar si ya existe la matriz permanente\n",
    "                        datos=np.concatenate((mat,datos),axis=0)\n",
    "                    \n",
    "                    cont = cont + 1\n",
    "                \n",
    "                except:\n",
    "                    print('no hay datos para %iN%iW' %(coords[0],coords[1]))\n",
    "                    continue\n",
    "                           \n",
    "            data.close()\n",
    "                    \n",
    "        except:\n",
    "            print('no hay datos para %i-%02i' %(year,month))\n",
    "            continue\n",
    "    "
   ]
  },
  {
   "cell_type": "code",
   "execution_count": 7,
   "metadata": {},
   "outputs": [
    {
     "data": {
      "image/png": "[encoded data removed]",
      "text/plain": [
       "<Figure size 432x288 with 1 Axes>"
      ]
     },
     "metadata": {
      "needs_background": "light"
     },
     "output_type": "display_data"
    }
   ],
   "source": [
    "# condiciones para reducir el tamaño del grid alrededor del punto seleccionado y obtener datos dentro ded ese nuevo grid\n",
    "\n",
    "gridcond = ((datos[:,1] <= grid_max_lat) & (datos[:,1] >= grid_min_lat) & (datos[:,2] <= grid_min_lon) & (datos[:,2] >= grid_max_lon))\n",
    "#print(gridcond) \n",
    "\n",
    "# grafica una serie de tiempo sencilla con los datos filtrados por las condiciones\n",
    " \n",
    "locator = mdates.AutoDateLocator()\n",
    "formatter = mdates.DateFormatter('%d/%m')\n",
    "#leftlim = \n",
    "#rightlim =\n",
    "fig, ax = plt.subplots()\n",
    "plt.plot_date(datos[:,0][gridcond],datos[:,3][gridcond]) \n",
    "ax.xaxis.set_major_formatter(formatter)\n",
    "ax.xaxis.set_tick_params(rotation=30, labelsize=10)\n",
    "#ax.xaxis.set_xlim(left=)\n",
    "plt.xlabel('Date')\n",
    "plt.ylabel(zname)\n",
    "plt.title(location_name)\n",
    "plt.tight_layout() \n",
    "plt.show()"
   ]
  },
  {
   "cell_type": "code",
   "execution_count": 14,
   "metadata": {},
   "outputs": [
    {
     "name": "stdout",
     "output_type": "stream",
     "text": [
      "[datetime.datetime(2020, 6, 5, 17, 41, 9, 950032)\n",
      " datetime.datetime(2020, 6, 5, 17, 41, 10, 283365)\n",
      " datetime.datetime(2020, 6, 5, 17, 41, 11, 751698) ...\n",
      " datetime.datetime(2020, 2, 8, 16, 29, 42, 616698)\n",
      " datetime.datetime(2020, 2, 8, 16, 29, 42, 643698)\n",
      " datetime.datetime(2020, 2, 8, 16, 29, 42, 896032)]\n",
      "[18.213348388671875 18.229597091674805 18.415998458862305 ...\n",
      " 19.426082611083984 19.43975257873535 19.414581298828125]\n",
      "[-98.8134536743164 -98.80001831054688 -98.74687194824219 ...\n",
      " -99.0334701538086 -99.04315948486328 -99.00028228759766]\n"
     ]
    }
   ],
   "source": [
    "# testing\n",
    "print(datos[:,0])\n",
    "print(datos[:,1])\n",
    "print(datos[:,2])"
   ]
  },
  {
   "cell_type": "code",
   "execution_count": null,
   "metadata": {},
   "outputs": [],
   "source": []
  }
 ],
 "metadata": {
  "kernelspec": {
   "display_name": "Python 3",
   "language": "python",
   "name": "python3"
  },
  "language_info": {
   "codemirror_mode": {
    "name": "ipython",
    "version": 3
   },
   "file_extension": ".py",
   "mimetype": "text/x-python",
   "name": "python",
   "nbconvert_exporter": "python",
   "pygments_lexer": "ipython3",
   "version": "3.8.3"
  }
 },
 "nbformat": 4,
 "nbformat_minor": 4
}
