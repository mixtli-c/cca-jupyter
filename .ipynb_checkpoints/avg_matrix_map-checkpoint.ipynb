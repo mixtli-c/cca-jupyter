{
 "cells": [
  {
   "cell_type": "code",
   "execution_count": 1,
   "metadata": {},
   "outputs": [],
   "source": [
    "import numpy as np\n",
    "import matplotlib.pyplot as plt\n",
    "import cartopy.crs as ccrs\n",
    "import cartopy.feature as cfeature\n",
    "import h5py \n",
    "import datetime\n",
    "import glob\n",
    "import copy\n",
    "from cartopy.io.shapereader import Reader\n",
    "from cartopy.mpl.ticker import (LongitudeFormatter, LatitudeFormatter,\n",
    "                                LatitudeLocator)"
   ]
  },
  {
   "cell_type": "code",
   "execution_count": 40,
   "metadata": {},
   "outputs": [],
   "source": [
    "nx=50\n",
    "ny=50\n",
    "\n",
    "latmin = 19.1\n",
    "latmax = 19.8\n",
    "lonmin = -99.5\n",
    "lonmax = -98.7\n",
    "footprintradio = 5.0/110.0\n",
    "pathname = 'f:\\\\CCA\\\\NASAGESDISC\\\\OCO3L2Lite\\\\mexico2\\\\mexico2_oco3_lite_2020*.h5'\n",
    "targetname = 'fossil0036'\n",
    "name = '/xco2'\n",
    "psurf = '/Retrieval/psurf'\n",
    "xco2altz = 412.4\n",
    "psurfaltz = 633.72\n",
    "dxco2 = 1\n",
    "xco2ml = 0"
   ]
  },
  {
   "cell_type": "code",
   "execution_count": 3,
   "metadata": {},
   "outputs": [],
   "source": [
    "def compilealldatatarget(lats,lons,filelist,footprintradio,targetname):\n",
    "    \n",
    "    minlat = (min(lats)-footprintradio/110.0)\n",
    "    maxlat = (max(lats)+footprintradio/110.0)\n",
    "    minlon = (min(lons)-footprintradio/110.0)\n",
    "    maxlon = (max(lons)+footprintradio/110.0)\n",
    "    \n",
    "    ilats = np.arange(int(maxlat)-int(minlat)+1,dtype=int)+int(minlat)\n",
    "    ilons = np.arange(int(maxlon)-int(minlon)+1,dtype=int)+int(minlon)\n",
    "\n",
    "\n",
    "    for ifile,filename in enumerate(filelist):\n",
    "        datos = h5py.File(filename,'r')\n",
    "        #print(ifile)\n",
    "        for lat in ilats:\n",
    "            for lon in ilons:\n",
    "                #print(lat,lon)\n",
    "                try:\n",
    "                    gridname = '%iN%iW' % (lat,lon)\n",
    "                    #print(gridname)\n",
    "                    lt = datos[gridname]['lat'][()]\n",
    "                    ln = datos[gridname]['lon'][()]\n",
    "                    #print(ln)\n",
    "                    tid = datos[gridname]['/Sounding/target_id'][()] \n",
    "                    tname = datos[gridname]['/Sounding/target_name'][()]\n",
    "                    tidstr = tid.astype('U')\n",
    "                    tnamestr = tname.astype('U')\n",
    "                    mask = ((lt <= maxlat) & (lt >= minlat) & \\\n",
    "                           (ln <= maxlon) & (ln >= minlon) & \\\n",
    "                           (tidstr == targetname))\n",
    "                    #print(mask)\n",
    "                    data_inter = datos[gridname][mask]\n",
    "                    #print(data_inter)\n",
    "                    \n",
    "                    try:\n",
    "                        data = np.append(data,data_inter)\n",
    "                        #print('matrix exists')\n",
    "                    except:\n",
    "                        data = copy.copy(data_inter)\n",
    "                        #print(data)\n",
    "                        #print('new matrix')\n",
    "                    print(data.shape)\n",
    "                except:\n",
    "                    print('exception: no dataset')\n",
    "                #print 'data:',len(data)\n",
    "                #print max(data['lat']), min(data['lat']), max(data['lon']), min(data['lon'])\n",
    "\n",
    "        datos.close()\n",
    "    #plt.plot(data['lon'],data['lat'],'.')\n",
    "    #plt.show()\n",
    "    return data\n"
   ]
  },
  {
   "cell_type": "code",
   "execution_count": 4,
   "metadata": {},
   "outputs": [],
   "source": [
    "def makematrixfromcompileddata(lats,lons,data,name,footprintradio,flag=''):\n",
    "    \n",
    "    #print 'data:'\n",
    "    #print max(data['lat']), min(data['lat']), max(data['lon']), min(data['lon'])\n",
    "    matrix=np.zeros((len(lons),len(lats)),dtype=np.float64)\n",
    "    countermatrix=np.zeros((len(lons),len(lats)),dtype=int)\n",
    "    stdmatrix=np.zeros((len(lons),len(lats)),dtype=np.float64)\n",
    "    for ilat,lat in enumerate(lats):\n",
    "        for ilon,lon in enumerate(lons):\n",
    "            distances2=np.array((data['lat']-lat)**2+(data['lon']-lon)**2)\n",
    "            conditions=(footprintradio**2 > distances2)\n",
    "            #print(conditions)\n",
    "            index=np.where(conditions)[0]\n",
    "            if len(index) > 0:\n",
    "                vec=data[name][index]\n",
    "                #print(vec)\n",
    "                matrix[ilon,ilat]=np.average(vec)\n",
    "                #print(matrix[ilon,ilat],ilon,ilat)\n",
    "                stdmatrix[ilon,ilat]=np.std(vec)\n",
    "                countermatrix[ilon,ilat]=len(vec)\n",
    "            else:\n",
    "                #print(matrix[ilon,ilat],ilon,ilat)\n",
    "                pass\n",
    "                #plt.plot(data['lon'],data['lat'],'b.')\n",
    "                #plt.plot([lon],[lat],'ro')\n",
    "                #plt.show()\n",
    "    errmatrix=stdmatrix/np.sqrt(countermatrix)\n",
    "    #print(matrix)\n",
    "    if flag=='full':\n",
    "        return matrix.T,stdmatrix.T, errmatrix.T\n",
    "    else:\n",
    "        return matrix.T\n"
   ]
  },
  {
   "cell_type": "code",
   "execution_count": 5,
   "metadata": {},
   "outputs": [],
   "source": [
    "def matrixforinterval(tmin,tmax,dataorg):\n",
    "    index=np.where(np.logical_and(tmin < dataorg['tepoch'],tmax > dataorg['tepoch']))[0]\n",
    "    data=dataorg[index]\n",
    "    matrix=makematrixfromcompileddata(lats,lons,data,name,footprintradio)\n",
    "    return matrix\n"
   ]
  },
  {
   "cell_type": "code",
   "execution_count": 6,
   "metadata": {},
   "outputs": [
    {
     "name": "stdout",
     "output_type": "stream",
     "text": [
      "(0,)\n",
      "(0,)\n",
      "(104,)\n",
      "(342,)\n",
      "(799,)\n",
      "(1089,)\n",
      "(1538,)\n",
      "(1816,)\n",
      "(2143,)\n",
      "(2347,)\n",
      "(2349,)\n",
      "(2351,)\n",
      "(2351,)\n"
     ]
    }
   ],
   "source": [
    "to=datetime.datetime.utcfromtimestamp(0.0)\n",
    "\n",
    "lats=latmin+(latmax-latmin)*np.arange(ny)/(ny-1)\n",
    "lons=lonmin+(lonmax-lonmin)*np.arange(nx)/(nx-1)\n",
    "\n",
    "\n",
    "lista=glob.glob(pathname)\n",
    "#print(lista)\n",
    "\n",
    "data = compilealldatatarget(lats,lons,lista,footprintradio,targetname)\n",
    "print(data.shape)\n",
    "\n",
    "if dxco2 == 1:\n",
    "    data[name] = (data[name]-xco2altz)\n",
    "\n",
    "if xco2ml == 1:\n",
    "    data[name] = (data[name]*data[psurf]-xco2altz*psurfaltz)/(data[psurf]-psurfaltz)\n"
   ]
  },
  {
   "cell_type": "code",
   "execution_count": 41,
   "metadata": {},
   "outputs": [
    {
     "name": "stderr",
     "output_type": "stream",
     "text": [
      "<ipython-input-4-79fc48e9d3a4>:27: RuntimeWarning: invalid value encountered in true_divide\n",
      "  errmatrix=stdmatrix/np.sqrt(countermatrix)\n"
     ]
    }
   ],
   "source": [
    "tmin=(datetime.datetime(2020,6,4,0,0,0)-to).total_seconds()\n",
    "tmax=(datetime.datetime(2020,6,7,0,0,0)-to).total_seconds()\n",
    "matrix=matrixforinterval(tmin,tmax,data)\n",
    "np.save('matrixDelta0605',matrix)"
   ]
  },
  {
   "cell_type": "code",
   "execution_count": 42,
   "metadata": {
    "scrolled": true
   },
   "outputs": [
    {
     "data": {
      "image/png": "[encoded data removed]",
      "text/plain": [
       "<Figure size 1008x1008 with 2 Axes>"
      ]
     },
     "metadata": {
      "needs_background": "light"
     },
     "output_type": "display_data"
    }
   ],
   "source": [
    "plt.figure(figsize=(14,14))\n",
    "fontsize = 20\n",
    "ticksize = 14\n",
    "# Creates the map\n",
    "mxmap = plt.axes(projection=ccrs.PlateCarree())\n",
    "\n",
    "mxmap.add_feature(cfeature.LAND)\n",
    "mxmap.add_feature(cfeature.OCEAN)\n",
    "mxmap.add_feature(cfeature.COASTLINE)\n",
    "mxmap.add_feature(cfeature.BORDERS, linestyle=':')\n",
    "mxmap.add_feature(cfeature.LAKES, alpha=0.5)\n",
    "mxmap.add_feature(cfeature.RIVERS)\n",
    "mxmap.add_feature(cfeature.STATES.with_scale('10m'))\n",
    "mxmap.set_extent((-99.5,-98.7,19.1,19.8))\n",
    "#mxmap.xaxis.set_visible(True)\n",
    "#mxmap.yaxis.set_visible(True)\n",
    "\n",
    "glines = mxmap.gridlines(draw_labels=True, dms=True, x_inline=False, y_inline=False)\n",
    "glines.xformatter = LongitudeFormatter()\n",
    "glines.yformatter = LatitudeFormatter()\n",
    "glines.top_labels = None\n",
    "glines.right_labels = None\n",
    "glines.xlabel_style = {'size': 16}\n",
    "glines.ylabel_style = {'size': 16}\n",
    "\n",
    "lvls = np.arange(0,13,1)\n",
    "plt.contourf(lons, lats, matrix, levels = lvls,cmap=plt.get_cmap(\"jet\"),\n",
    "             transform=ccrs.PlateCarree())\n",
    "plt.title(\"$\\Delta$xCO2 Jun 5 2020\",size=fontsize)\n",
    "plt.xlabel(\"Longitude\",size=fontsize)\n",
    "plt.ylabel(\"Latitude\",size=fontsize)\n",
    "cbar= plt.colorbar(fraction=0.041, pad=.02)\n",
    "cbar.set_label(\"ppm\", size=fontsize, labelpad=0.8)\n",
    "cbar.ax.tick_params(labelsize=ticksize)\n",
    "plt.savefig('f:\\\\gitCCA\\\\cca-jupyter\\\\figures\\\\xco2_delta_0605.png')\n",
    "plt.show()"
   ]
  },
  {
   "cell_type": "code",
   "execution_count": null,
   "metadata": {},
   "outputs": [],
   "source": []
  },
  {
   "cell_type": "code",
   "execution_count": null,
   "metadata": {},
   "outputs": [],
   "source": []
  },
  {
   "cell_type": "code",
   "execution_count": 75,
   "metadata": {},
   "outputs": [
    {
     "name": "stdout",
     "output_type": "stream",
     "text": [
      "[[ 80.36942759 122.79867153 122.31263568 ...  39.03245424   0.\n",
      "    0.        ]\n",
      " [ 80.57608274 161.24099648 160.99855222 ...  39.42321592   0.\n",
      "    0.        ]\n",
      " [161.20434057 161.05626363 160.75488156 ...  39.74046828   0.\n",
      "    0.        ]\n",
      " ...\n",
      " [119.80635064 160.87953671 159.96189763 ... 116.65911094 116.82449749\n",
      "   77.44188842]\n",
      " [ 79.26412092 118.66324991 118.66795281 ... 117.75270637 117.87123535\n",
      "   39.0143533 ]\n",
      " [ 39.86037724  79.08553172  79.00600544 ...  79.13917828  40.56162663\n",
      "    0.        ]]\n"
     ]
    }
   ],
   "source": [
    "m1 = np.load('matrixML0208.npy')\n",
    "m2 = np.load('matrixML0326.npy')\n",
    "m3 = np.load('matrixML0330.npy')\n",
    "m4 = np.load('matrixML0411.npy')\n",
    "m5 = np.load('matrixML0420.npy')\n",
    "m6 = np.load('matrixML0428.npy')\n",
    "m7 = np.load('matrixML0502.npy')\n",
    "m8 = np.load('matrixML0506.npy')\n",
    "m9 = np.load('matrixML0510.npy')\n",
    "m10 = np.load('matrixML0524.npy')\n",
    "m11 = np.load('matrixML0605.npy')\n",
    "\n",
    "matrix = (m1+m2+m3+m4+m5+m6+m7+m8+m9+m10+m11)\n",
    "print(matrix)\n",
    "                    "
   ]
  }
 ],
 "metadata": {
  "kernelspec": {
   "display_name": "Python 3",
   "language": "python",
   "name": "python3"
  },
  "language_info": {
   "codemirror_mode": {
    "name": "ipython",
    "version": 3
   },
   "file_extension": ".py",
   "mimetype": "text/x-python",
   "name": "python",
   "nbconvert_exporter": "python",
   "pygments_lexer": "ipython3",
   "version": "3.8.3"
  }
 },
 "nbformat": 4,
 "nbformat_minor": 4
}
