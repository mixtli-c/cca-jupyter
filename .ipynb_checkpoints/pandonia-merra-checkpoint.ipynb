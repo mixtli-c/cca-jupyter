{
 "cells": [
  {
   "cell_type": "code",
   "execution_count": 1,
   "metadata": {},
   "outputs": [],
   "source": [
    "import numpy as np\n",
    "import matplotlib.pyplot as plt\n",
    "import matplotlib.dates as mdates\n",
    "import datetime as dt\n",
    "import pandas as pd\n",
    "import glob\n",
    "from pytz import all_timezones"
   ]
  },
  {
   "cell_type": "code",
   "execution_count": 88,
   "metadata": {},
   "outputs": [],
   "source": [
    "# Pandas dataframe from pandora data\n",
    "npz = np.load('PandoraALTZ.npz',allow_pickle=True)\n",
    "df= pd.DataFrame.from_dict({item: npz[item] for item in npz.files})\n",
    "npz.close()"
   ]
  },
  {
   "cell_type": "code",
   "execution_count": 89,
   "metadata": {},
   "outputs": [],
   "source": [
    "# Filtered data by qflag 0,10\n",
    "options = [0,10] \n",
    "rslt_df = df[df['qflag'].isin(options)] \n",
    "#localization of dataframe so that datetime is UTC and not naive\n",
    "dtimeutc=rslt_df.dtime.dt.tz_localize('Etc/UTC')\n",
    "dtimelocal=dtimeutc.dt.tz_convert('Etc/GMT+6')\n",
    "dflocal = rslt_df.assign(dtime=dtimelocal)\n",
    "tslocal = dflocal.set_index('dtime')\n",
    "### changing dobson units\n",
    "tsloc_molcm2=tslocal.assign(ozone=tslocal.ozone*2.6868e16)\n",
    "## grouping by hour\n",
    "tslocmean = tsloc_molcm2.ozone.groupby(tslocal.index.hour).mean()\n",
    "tslocstd=tsloc_molcm2.ozone.groupby(tslocal.index.hour).std()\n",
    "## grouping by month\n",
    "tslocmeanmt = tsloc_molcm2.ozone.groupby(tslocal.index.month).mean()\n",
    "tslocstdmt = tsloc_molcm2.ozone.groupby(tslocal.index.month).std()\n"
   ]
  },
  {
   "cell_type": "code",
   "execution_count": 6,
   "metadata": {},
   "outputs": [],
   "source": [
    "# Pandas DataFrame from MERRA2 data\n",
    "# data is stored in folders by year, filenames are O3_YYYY_MM_DD_HH.txt\n",
    "years = np.arange(2012,2020)\n",
    "date=[]\n",
    "O3=[]\n",
    "#testcount = 0\n",
    "for year in years:\n",
    "    merrapath = 'D:\\\\CCA\\\\PANDONIA\\\\O3fromMERRA2\\\\'+'%i*\\\\' % (year) + '*.*'\n",
    "    filelist = glob.glob(merrapath)\n",
    "    #testcount = testcount + len(filelist)\n",
    "    #print(testcount)\n",
    "    for filename in filelist:\n",
    "        tempdf = pd.read_csv(filename)\n",
    "        tempdf.set_axis(['fixedP','fixedO3','modelP','modelO3'], axis=1, inplace=True)\n",
    "        \n",
    "        ############################ converting pressure to altitude\n",
    "        tdfa = tempdf[tempdf['modelP'] <= 226.32].assign(modelP=((1.73-np.log(tempdf.modelP/226.32))/0.000157))\n",
    "        tdfb = tempdf[tempdf['modelP'] > 226.32].assign(modelP=((1-(tempdf.modelP/1013.25)**(1/5.25588))/2.25577e-5))\n",
    "        tempdf2=tdfa.append(tdfb)\n",
    "        tempdf2.set_axis(['fixedP','fixedO3','modelAlt','modelO3'], axis=1, inplace=True)\n",
    "        \n",
    "        ############################ altitude difference series\n",
    "        altdiff=tempdf2.modelAlt.diff()\n",
    "        altdiff=altdiff.replace(altdiff[0],altdiff[1])\n",
    "        altdiff=-altdiff\n",
    "        \n",
    "        ############################ converting altitude to T in degC\n",
    "        tdfa = tempdf2[tempdf2['modelAlt'] <= 11000].assign(modelAlt=(15.04-0.00649*tempdf2.modelAlt))\n",
    "        tdfb = tempdf2[tempdf2['modelAlt'] > 11000].assign(modelAlt=-56.46)\n",
    "        tempdf3=tdfb.append(tdfa)\n",
    "        tempdf3.set_axis(['fixedP','fixedO3','modelT','modelO3'], axis=1, inplace=True)\n",
    "        \n",
    "        ############################ calculating air number density and ozone number density\n",
    "        nair = tempdf.modelP*100*6.022e23/(8.314463*(tempdf3.modelT+273.15))\n",
    "        tempdf4 = tempdf2.assign(modelO3=tempdf3.modelO3*nair)\n",
    "        \n",
    "        ############################ calculating total column density\n",
    "        columnO3=(tempdf4.modelO3*altdiff).sum()/10000\n",
    "        \n",
    "        ############################ extracting datetime from filename\n",
    "        time=dt.datetime.strptime(filename[-17:-4],'%Y_%m_%d_%H')\n",
    "        date.append(time)\n",
    "        O3.append(columnO3)\n",
    "merradf = pd.DataFrame(data={\"date\": date, \"ozone\": O3})\n"
   ]
  },
  {
   "cell_type": "code",
   "execution_count": 60,
   "metadata": {},
   "outputs": [],
   "source": [
    "# Monthly MERRA\n",
    "tsmerra = merradf.set_index('date')\n",
    "tsmerrameanmt = tsmerra.ozone.groupby(tsmerra.index.month).mean()\n",
    "tsmerramm = tsmerra.ozone.resample('M').mean()\n",
    "tsmerramm2 = tsmerramm.groupby(tsmerramm.index.month).mean()\n",
    "tsmerrastdmt = tsmerra.ozone.groupby(tsmerra.index.month).std()\n",
    "tsmerrast = tsmerra.ozone.resample('M').std()\n",
    "tsmerrast2 = tsmerrast.groupby(tsmerrast.index.month).std()"
   ]
  },
  {
   "cell_type": "code",
   "execution_count": 77,
   "metadata": {},
   "outputs": [],
   "source": [
    "# Hourly MERRA\n",
    "tsmerra = merradf.set_index('date')\n",
    "tsmerramean = tsmerra.ozone.groupby(tsmerra.index.hour).mean()\n",
    "tsmerrastd = tsmerra.ozone.groupby(tsmerra.index.hour).std()"
   ]
  },
  {
   "cell_type": "code",
   "execution_count": null,
   "metadata": {},
   "outputs": [],
   "source": [
    "## simple plotting with error\n",
    "ax = tslocmeanmt.plot(figsize=(10,6),title='Ozone yearly profile',ylabel='molecule/cm$^2$',yerr=tslocstdmt,capsize=4,fontsize=12)\n",
    "tsmerramm2.plot(figsize=(10,6),xlabel='Month',yerr=tsmerrastdmt,capsize=4,fontsize=12)"
   ]
  },
  {
   "cell_type": "code",
   "execution_count": 90,
   "metadata": {},
   "outputs": [
    {
     "data": {
      "image/png": "[encoded data removed]",
      "text/plain": [
       "<Figure size 1008x576 with 1 Axes>"
      ]
     },
     "metadata": {
      "needs_background": "light"
     },
     "output_type": "display_data"
    }
   ],
   "source": [
    "##pyplot plotting\n",
    "x1 = tslocmean.index\n",
    "y1 = tslocmean\n",
    "err1 = tslocstd\n",
    "x2 = tsmerramean.index\n",
    "y2 = tsmerramean\n",
    "err2 = tsmerrastd\n",
    "fig, ax1 = plt.subplots(figsize=(14, 8))\n",
    "ax1.plot(x1, y1, '-b')\n",
    "ax1.fill_between(x1, y1-err1, y1+err1,alpha=.25, edgecolor='#3F7F4C', facecolor='b',linewidth=0)\n",
    "ax1.plot(x2, y2, '-g')\n",
    "ax1.fill_between(x2, y2-err2, y2+err2,alpha=.25, edgecolor='#3F7F4C', facecolor='g',linewidth=0)\n",
    "ax1.errorbar(x1, y1, yerr=err1, fmt='bo', label='Pandora Altzomoni')\n",
    "ax1.errorbar(x2, y2, yerr=err2, fmt='go', label='MERRA2')\n",
    "ax1.set_xticks(np.arange(0,24))\n",
    "ax1.set_xlabel('Hour',size=14)\n",
    "ax1.set_ylabel('molecule/cm$^2$',size=14)\n",
    "ax1.set_title(\"Diurnal ozone profile\",size=16)\n",
    "ax1.legend(fontsize=12)\n",
    "ax1.tick_params(labelsize=12)\n",
    "plt.savefig('D:\\\\CCA\\\\PANDONIA\\\\diurnalO3PanAltzMERRA.png')"
   ]
  },
  {
   "cell_type": "code",
   "execution_count": null,
   "metadata": {},
   "outputs": [],
   "source": [
    "################## TESTING AFTER THIS LINE"
   ]
  },
  {
   "cell_type": "code",
   "execution_count": 86,
   "metadata": {},
   "outputs": [
    {
     "data": {
      "text/plain": [
       "0              2018-04-23 11:12:27-06:00\n",
       "1              2018-04-23 11:17:28-06:00\n",
       "2              2018-04-23 11:22:29-06:00\n",
       "3              2018-04-23 11:27:33-06:00\n",
       "4              2018-04-23 11:32:35-06:00\n",
       "                      ...               \n",
       "64168   2021-05-30 14:54:22.100000-06:00\n",
       "64169   2021-05-30 15:00:19.100000-06:00\n",
       "64170   2021-05-30 15:05:49.700000-06:00\n",
       "64171   2021-05-30 15:11:46.900000-06:00\n",
       "64173   2021-05-30 15:23:27.100000-06:00\n",
       "Name: dtime, Length: 37423, dtype: datetime64[ns, Etc/GMT+6]"
      ]
     },
     "execution_count": 86,
     "metadata": {},
     "output_type": "execute_result"
    }
   ],
   "source": [
    "dtimelocal"
   ]
  },
  {
   "cell_type": "code",
   "execution_count": 87,
   "metadata": {},
   "outputs": [
    {
     "data": {
      "text/plain": [
       "0              2018-04-23 17:12:27+00:00\n",
       "1              2018-04-23 17:17:28+00:00\n",
       "2              2018-04-23 17:22:29+00:00\n",
       "3              2018-04-23 17:27:33+00:00\n",
       "4              2018-04-23 17:32:35+00:00\n",
       "                      ...               \n",
       "64168   2021-05-30 20:54:22.100000+00:00\n",
       "64169   2021-05-30 21:00:19.100000+00:00\n",
       "64170   2021-05-30 21:05:49.700000+00:00\n",
       "64171   2021-05-30 21:11:46.900000+00:00\n",
       "64173   2021-05-30 21:23:27.100000+00:00\n",
       "Name: dtime, Length: 37423, dtype: datetime64[ns, Etc/UTC]"
      ]
     },
     "execution_count": 87,
     "metadata": {},
     "output_type": "execute_result"
    }
   ],
   "source": [
    "dtimeutc"
   ]
  },
  {
   "cell_type": "code",
   "execution_count": 79,
   "metadata": {},
   "outputs": [
    {
     "data": {
      "text/plain": [
       "date\n",
       "0     4.237903e+17\n",
       "3     4.282298e+17\n",
       "6     4.210311e+17\n",
       "9     4.143997e+17\n",
       "12    4.145764e+17\n",
       "15    4.218369e+17\n",
       "18    4.248381e+17\n",
       "21    4.265233e+17\n",
       "Name: ozone, dtype: float64"
      ]
     },
     "execution_count": 79,
     "metadata": {},
     "output_type": "execute_result"
    }
   ],
   "source": [
    "fff=tsmerra.ozone.resample('H').mean()\n",
    "tsmerrastd"
   ]
  },
  {
   "cell_type": "code",
   "execution_count": null,
   "metadata": {},
   "outputs": [],
   "source": []
  }
 ],
 "metadata": {
  "kernelspec": {
   "display_name": "Python 3",
   "language": "python",
   "name": "python3"
  },
  "language_info": {
   "codemirror_mode": {
    "name": "ipython",
    "version": 3
   },
   "file_extension": ".py",
   "mimetype": "text/x-python",
   "name": "python",
   "nbconvert_exporter": "python",
   "pygments_lexer": "ipython3",
   "version": "3.8.10"
  }
 },
 "nbformat": 4,
 "nbformat_minor": 4
}
