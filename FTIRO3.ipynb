{
 "cells": [
  {
   "cell_type": "code",
   "execution_count": 1,
   "id": "ae00dc59",
   "metadata": {},
   "outputs": [],
   "source": [
    "import numpy as np\n",
    "import matplotlib.pyplot as plt\n",
    "import matplotlib.dates as mdates\n",
    "import datetime as dt\n",
    "import pandas as pd\n",
    "import glob\n",
    "import h5py\n",
    "import netCDF4 as nc\n",
    "from pytz import all_timezones"
   ]
  },
  {
   "cell_type": "code",
   "execution_count": 2,
   "id": "9dfc85d3",
   "metadata": {},
   "outputs": [],
   "source": [
    "def MDJtoDT(mdj2k):\n",
    "    \"\"\"Take the modified julian day from 2000, convert to seconds, add to seconds since jan 1,00:00:00.00\"\"\"\n",
    "    t0 = dt.datetime.utcfromtimestamp(0.0)\n",
    "    t2k = dt.datetime(2000,1,1,0,0,0)\n",
    "    t2k = (t2k-t0).total_seconds()\n",
    "    tmdj = mdj2k * 86400\n",
    "    date = dt.datetime.utcfromtimestamp(t2k+tmdj)\n",
    "    return date"
   ]
  },
  {
   "cell_type": "code",
   "execution_count": 3,
   "id": "0b4095c6",
   "metadata": {},
   "outputs": [],
   "source": [
    "ds = nc.Dataset('test.hdf')"
   ]
  },
  {
   "cell_type": "code",
   "execution_count": 20,
   "id": "b0cad583",
   "metadata": {},
   "outputs": [
    {
     "data": {
      "text/plain": [
       "<class 'netCDF4._netCDF4.Variable'>\n",
       ">f8 DATETIME(fakeDim6)\n",
       "    VAR_NAME: DATETIME\n",
       "    VAR_DESCRIPTION: datetime (UT), modified Julianday\n",
       "    VAR_NOTES: defined relative to reference datetime of Jan. 1, 2000 at 0:00:00 UT which is equal to 0.00\n",
       "    VAR_SIZE: 4640\n",
       "    VAR_DEPEND: DATETIME\n",
       "    VAR_DATA_TYPE: DOUBLE\n",
       "    VAR_UNITS: MJD2K\n",
       "    VAR_SI_CONVERSION: 0.0;86400.0;s\n",
       "    VAR_VALID_MIN: -5000.0\n",
       "    VAR_VALID_MAX: 8000.0\n",
       "    VAR_FILL_VALUE: -90000.0\n",
       "unlimited dimensions: \n",
       "current shape = (4640,)\n",
       "filling on, default _FillValue of 9.969209968386869e+36 used"
      ]
     },
     "execution_count": 20,
     "metadata": {},
     "output_type": "execute_result"
    }
   ],
   "source": [
    "ds[\"DATETIME\"]"
   ]
  },
  {
   "cell_type": "code",
   "execution_count": 22,
   "id": "e88db13b",
   "metadata": {},
   "outputs": [
    {
     "data": {
      "text/plain": [
       "<class 'netCDF4._netCDF4.Variable'>\n",
       ">f4 O3.MIXING.RATIO.VOLUME_ABSORPTION.SOLAR(fakeDim23, fakeDim24)\n",
       "    VAR_NAME: O3.MIXING.RATIO.VOLUME_ABSORPTION.SOLAR\n",
       "    VAR_DESCRIPTION: retrieved vertical profile of   XXXXfrom solar absorption measurements, in VMR units\n",
       "    VAR_NOTES: retrieval algorithm PROFFIT96; HITRAN  spectroscopy\n",
       "    VAR_SIZE: 4640;41\n",
       "    VAR_DEPEND: DATETIME;ALTITUDE\n",
       "    VAR_DATA_TYPE: REAL\n",
       "    VAR_UNITS: ppmv\n",
       "    VAR_SI_CONVERSION: 0.0;1.0E-6;1\n",
       "    VAR_VALID_MIN: -1.0\n",
       "    VAR_VALID_MAX: 100.0\n",
       "    VAR_FILL_VALUE: -90000.0\n",
       "unlimited dimensions: \n",
       "current shape = (4640, 41)\n",
       "filling on, default _FillValue of 9.969209968386869e+36 used"
      ]
     },
     "execution_count": 22,
     "metadata": {},
     "output_type": "execute_result"
    }
   ],
   "source": [
    "ds[\"O3.MIXING.RATIO.VOLUME_ABSORPTION.SOLAR\"]"
   ]
  },
  {
   "cell_type": "code",
   "execution_count": 23,
   "id": "150064ac",
   "metadata": {},
   "outputs": [],
   "source": [
    "ds.close()"
   ]
  },
  {
   "cell_type": "code",
   "execution_count": null,
   "id": "77c2ec5c",
   "metadata": {},
   "outputs": [],
   "source": []
  }
 ],
 "metadata": {
  "kernelspec": {
   "display_name": "Python 3",
   "language": "python",
   "name": "python3"
  },
  "language_info": {
   "codemirror_mode": {
    "name": "ipython",
    "version": 3
   },
   "file_extension": ".py",
   "mimetype": "text/x-python",
   "name": "python",
   "nbconvert_exporter": "python",
   "pygments_lexer": "ipython3",
   "version": "3.8.10"
  }
 },
 "nbformat": 4,
 "nbformat_minor": 5
}
