{
 "cells": [
  {
   "cell_type": "code",
   "execution_count": null,
   "metadata": {},
   "outputs": [],
   "source": [
    "def onebyone(mat_oco2,fh5):\n",
    "    \"\"\"\n",
    "    Recibe la matriz de mediciones filtradas por processlist y el archivo h5 donde se va a escribir las mediciones\n",
    "    Escribe las mediciones por latitud y longitud en el archivo h5\n",
    "    \"\"\"\n",
    "\n",
    "    for ii,line in enumerate(mat_oco2):\n",
    "\n",
    "        lat = line[\"/latitude\"]\n",
    "        lon = line[\"/longitude\"]\n",
    "\n",
    "        try:\n",
    "            dset=fh5['%iN%iW' % (int(lat),int(lon))]\n",
    "            n=dset.shape[0]\n",
    "            dset.resize((n+1,))\n",
    "            dset[n]=line\n",
    "            fh5.flush()\n",
    "        except:\n",
    "            datalatlon=[line]\n",
    "            try:\n",
    "                dset=fh5.create_dataset('%iN%iW' % (int(lat),int(lon)),data=datalatlon,maxshape=(None,))\n",
    "\n",
    "                fh5.flush()\n",
    "            except:\n",
    "                print 'nada works'\n"
   ]
  },
  {
   "cell_type": "code",
   "execution_count": null,
   "metadata": {},
   "outputs": [],
   "source": [
    "def processlist(lista,h5filename):\n",
    "    \"\"\"\n",
    "    Recibe una lista de archivos nc4 de oco2 para filtrarlos de acuerdo a latmin, latmax, lonmin y lonmax y el nombre del archivo h5 de salida\n",
    "    Llama a onebyone\n",
    "    \"\"\"\n",
    "\n",
    "    try:\n",
    "        fh5=h5py.File(h5filename,'r+')\n",
    "        print 'file exist'\n",
    "    except:\n",
    "        fh5=h5py.File(h5filename,'w')\n",
    "        print 'new file'\n",
    "\n",
    "    cont = 0\n",
    "    for filename in lista:\n",
    "        #print filename\n",
    "        datos=h5py.File(filename,'r')\n",
    "        lat = datos[\"/latitude\"][()]\n",
    "        lon = datos[\"/longitude\"][()]\n",
    "        xco2_qf = datos[\"/xco2_quality_flag\"][()]\n",
    "        cond_latlon = ((lat > latmin) & (lat < latmax) & (lon > lonmin) & (lon < lonmax) & (xco2_qf == 0))\t### FILTRO PARA LATITUD, LONGITUD Y xco2_quality_flag = 0 (GOOD)\n",
    "        #print filename,len(lat),len(lat[cond_latlon])\n",
    "        if len(lat[cond_latlon]) > 0:          ### SOLO CUANDO AL APLICAR EL FILTRO SE OBTIENE AL MENOS UNA MEDICION\n",
    "            mat_inter = np.empty(len(lat[cond_latlon]),dtype=oco2_co2_type)\n",
    "            for name in oco2_co2_type.names[3:]:       ### NO CONSIDERA tepoch, lat y lon POR QUE NO ESTAN EN EL HDF DE oco2\n",
    "                mat_inter[name] = datos[name][()][cond_latlon]\n",
    "            mat_inter[\"tepoch\"] = np.array([(dt.datetime(year=huh[0],month=huh[1],day=huh[2],hour=huh[3],minute=huh[4],second=huh[5],microsecond=huh[6]*1000) - to).total_seconds() for huh in mat_inter[\"/date\"]])\n",
    "            mat_inter[\"lat\"] = mat_inter[\"/latitude\"]\n",
    "            mat_inter[\"lon\"] = mat_inter[\"/longitude\"]\n",
    "            #print \"mat_inter\",mat_inter.shape\n",
    "            if cont == 0:\n",
    "                mat_oco2 = copy.copy(mat_inter)\t### SE CREA LA MATRIZ DONDE SE CONCATENAN LOS DIFERENTES DIAS AL INICIO, CUANDO EL CONTADOR ES 0\n",
    "            else:\n",
    "                mat_oco2 = np.concatenate((mat_oco2,mat_inter),axis=0)\t### SE CONCATENA LOS VALORES FILTRADOS DE CADA DIA DEL MES A LA MATRIZ mat_oco2\n",
    "            cont = cont+len(lat[cond_latlon])\n",
    "        else:\n",
    "            continue\n",
    "\n",
    "        datos.close()\n",
    "    #print \"Contador\",cont\n",
    "    print \"mat_oco2\",h5filename,mat_oco2.shape\n",
    "    onebyone(mat_oco2,fh5)\t### SE MANDA LLAMAR onebyone\n",
    "    #zlevels=np.arange(20)\n",
    "    #fh5.attrs.create('zlevels', zlevels, dtype=zlevels.dtype )\n",
    "    fh5.close()\t### CIERRA EL ARCHIVO h5 DONDE SE ESCRIBE\n",
    "\n"
   ]
  },
  {
   "cell_type": "code",
   "execution_count": null,
   "metadata": {},
   "outputs": [],
   "source": [
    "import numpy as np\n",
    "import h5py\n",
    "\n",
    "# test para leer, filtrar y escribir\n",
    "inname = \"f:\\\\jupyter\\\\test2.h5\"\n",
    "outname = \"f:\\\\jupyter\\\\testout.h5\"\n",
    "\n",
    "latpoint = 19.483781                               # latitud del punto de interes\n",
    "lonpoint = -99.147                                 # longitud del punto de interes\n",
    "gridsize = 0.14\n",
    "\n",
    "datos=h5py.File(inname,'r')\n",
    "\n",
    "grid_max_lat = latpoint + gridsize\n",
    "grid_min_lat = latpoint - gridsize\n",
    "grid_max_lon = lonpoint - gridsize\n",
    "grid_min_lon = lonpoint + gridsize\n",
    "\n",
    "gridname = '%iN%iW' % (int(latpoint),int(lonpoint))\n",
    "lat = datos[gridname][\"/latitude\"]\n",
    "lon = datos[gridname][\"/longitude\"]\n",
    "\n",
    "\n",
    "\n",
    "gridcond = ((lat <= grid_max_lat) & (lat >= grid_min_lat) & (lon <= grid_min_lon) & (lon >= grid_max_lon))\n",
    "\n",
    "#filterdata = datos[gridname][gridcond]\n",
    "\n",
    "print(datos[gridname][gridcond].shape, datos[gridname].shape)\n",
    "\n",
    "fh5=h5py.File(outname,'w')\n",
    "dset=fh5.create_dataset(gridname,data=datos[gridname][gridcond],maxshape=(None,))\n",
    "fh5.flush()\n",
    "\n",
    "datos.close()\n",
    "fh5.close()"
   ]
  },
  {
   "cell_type": "code",
   "execution_count": null,
   "metadata": {},
   "outputs": [],
   "source": [
    "import numpy as np\n",
    "import h5py\n",
    "import glob\n",
    "\n",
    "h5look = \"F:\\\\CCA\\\\NASAGESDISC\\\\OCO3L2Lite\\\\mexico2\\\\mexico2_oco3_lite_202002.h5\"\n",
    "h5name = glob.glob(h5look)\n",
    "datos = h5py.File(h5name[0],'r')\n",
    "coordname = '19N-98W'\n",
    "\n",
    "lat = datos[coordname]['lat'][()]                                # vector de latitud\n",
    "lon = datos[coordname]['lon'][()]\n",
    "xco2qf = datos[coordname]['/xco2_quality_flag'][()]\n",
    "tid = datos[coordname]['/Sounding/target_id'][()] \n",
    "tname = datos[coordname]['/Sounding/target_name'][()]\n",
    "tidstr = tid.astype('U')\n",
    "tnamestr = tname.astype('U')\n",
    "psurf = datos[coordname]['/Retrieval/psurf'][()]\n",
    "mask = (xco2qf == 0) & (tidstr == 'fossil0036')\n",
    "\n",
    "print(len(tname[mask]))\n",
    "#print(psurf[mask])\n",
    "print(lat.dtype, tid.dtype, tname.dtype)\n",
    "print(lat.dtype, tidstr.dtype, tnamestr.dtype)\n",
    "#print(tname[mask])\n",
    "print(tnamestr[mask])\n",
    "print(psurf[mask])\n",
    "datos.close()\n",
    "#print(h5name)"
   ]
  },
  {
   "cell_type": "code",
   "execution_count": null,
   "metadata": {},
   "outputs": [],
   "source": [
    "import numpy as np\n",
    "import h5py\n",
    "import glob\n",
    "import copy\n",
    "import datetime as dt\n",
    "\n",
    "datos = np.load('D:\\\\CCA\\\\PaperCO2\\\\altzxco2offset2.npz','r')"
   ]
  },
  {
   "cell_type": "code",
   "execution_count": null,
   "metadata": {},
   "outputs": [],
   "source": [
    "print(datos['tepoch'].shape)\n",
    "print(datos['xco2'].shape)\n",
    "print(datos['yfit'].shape)"
   ]
  },
  {
   "cell_type": "code",
   "execution_count": null,
   "metadata": {},
   "outputs": [],
   "source": [
    "a1 = datos['CO2_v9']['jd_ut']\n",
    "a2 = datos['/xCO2/datexco2all']\n",
    "np.array_equal(a1,a2)"
   ]
  },
  {
   "cell_type": "code",
   "execution_count": null,
   "metadata": {},
   "outputs": [],
   "source": [
    "t = datos['tepoch']\n",
    "xco2 = datos['xco2']\n",
    "yfit = datos['yfit']\n",
    "dias = np.arange(366)\n",
    "cont = 0\n",
    "t0 = dt.datetime.utcfromtimestamp(0.0)\n",
    "for dia in dias:\n",
    "    mask = np.logical_and(t < (1577836800+(86400*(dia+1))), t >= (1577836800+(86400*dia)))\n",
    "    d = t[mask]\n",
    "    x = xco2[mask]\n",
    "    y = yfit[mask]\n",
    "    xavg = np.average(x)\n",
    "    yavg = np.average(y)\n",
    "    try:\n",
    "        print(d.shape,x.shape)\n",
    "        datee = dt.datetime.utcfromtimestamp(d[0])\n",
    "        yr = datee.year\n",
    "        dy = datee.day\n",
    "        mnt = datee.month\n",
    "        hr = datee.hour\n",
    "        mn = datee.minute\n",
    "        epochymd = (dt.datetime(year=yr,month=mnt,day=dy) - t0).total_seconds()\n",
    "        print(d[0], yr, mnt, dy,hr,mn, xavg,yavg)\n",
    "        data_inter = [epochymd,yr,mnt,dy,hr,mn,xavg,yavg]\n",
    "        cont = cont + 1\n",
    "        try:\n",
    "            data = np.vstack((data,data_inter))\n",
    "        except:\n",
    "            data = copy.copy(data_inter)\n",
    "    except:\n",
    "        print(d.shape,x.shape)\n",
    "print(data)"
   ]
  },
  {
   "cell_type": "code",
   "execution_count": null,
   "metadata": {},
   "outputs": [],
   "source": [
    "print(cont,data.shape)"
   ]
  },
  {
   "cell_type": "code",
   "execution_count": null,
   "metadata": {},
   "outputs": [],
   "source": [
    "tepoch = datos['CO2_v9']['tepoch']\n",
    "xco2 = datos['/xCO2/xCO2']"
   ]
  },
  {
   "cell_type": "code",
   "execution_count": null,
   "metadata": {},
   "outputs": [],
   "source": [
    "for i,ele in enumerate(tepoch):\n",
    "    dte = dt.datetime.utcfromtimestamp(ele)\n",
    "    mnt = dte.month\n",
    "    dy = dte.day\n",
    "    hr = dte.hour\n",
    "    mn = dte.minute\n",
    "    x = xco2[i]\n",
    "    dta_inter = [ele,mnt,dy,hr,mn,x]\n",
    "    try:\n",
    "        dta = np.vstack((dta,dta_inter))\n",
    "    except:\n",
    "        dta = copy.copy(dta_inter)\n",
    "    "
   ]
  },
  {
   "cell_type": "code",
   "execution_count": null,
   "metadata": {},
   "outputs": [],
   "source": [
    "print(dta.shape)\n",
    "print(dta)"
   ]
  },
  {
   "cell_type": "code",
   "execution_count": null,
   "metadata": {},
   "outputs": [],
   "source": [
    "tepoch = data[:,0].astype(int)\n",
    "year = data[:,1].astype(int)\n",
    "month = data[:,2].astype(int)\n",
    "day = data[:,3].astype(int)\n",
    "hour = data[:,4].astype(int)\n",
    "minute = data[:,5].astype(int)\n",
    "xco2avg = data[:,6]\n",
    "yfitavg = data[:,7]"
   ]
  },
  {
   "cell_type": "code",
   "execution_count": null,
   "metadata": {},
   "outputs": [],
   "source": [
    "print(month.shape,month)"
   ]
  },
  {
   "cell_type": "code",
   "execution_count": null,
   "metadata": {},
   "outputs": [],
   "source": [
    "temp = np.array([tepoch[0],year[0],month[0],day[0],hour[0],minute[0],xco2avg[0]])\n",
    "print(temp)"
   ]
  },
  {
   "cell_type": "code",
   "execution_count": null,
   "metadata": {},
   "outputs": [],
   "source": [
    "#### Should I average whole days or select closest time?\n",
    "### 86400 seconds in a day\n",
    "### posix utc for 1/1/2020 = 1577836800\n",
    "### dayoftheyear for 20202 = 157783600 + (86400 * n)"
   ]
  },
  {
   "cell_type": "code",
   "execution_count": null,
   "metadata": {},
   "outputs": [],
   "source": [
    "np.savez('altzrefavgoff', tepoch=tepoch, year=year, month=month, day=day, hour=hour, minute=minute, xco2avg=xco2avg,yfitavg=yfitavg)"
   ]
  },
  {
   "cell_type": "code",
   "execution_count": null,
   "metadata": {},
   "outputs": [],
   "source": [
    "datos.close()"
   ]
  },
  {
   "cell_type": "code",
   "execution_count": 4,
   "metadata": {},
   "outputs": [],
   "source": [
    "import numpy as np\n",
    "import h5py\n",
    "import glob\n",
    "import copy\n",
    "import datetime as dt\n",
    "import matplotlib.pyplot as plt\n",
    "\n",
    "dset = np.load('D:\\\\CCA\\\\test.npz', 'r')"
   ]
  },
  {
   "cell_type": "code",
   "execution_count": 8,
   "metadata": {},
   "outputs": [
    {
     "data": {
      "image/png": "[encoded data removed]",
      "text/plain": [
       "<Figure size 432x288 with 1 Axes>"
      ]
     },
     "metadata": {
      "needs_background": "light"
     },
     "output_type": "display_data"
    }
   ],
   "source": [
    "ax0=plt.subplot(1,1,1)\n",
    "ax0.plot(dset['x'],dset['xco2'],'b.')\n",
    "ax0.plot(dset['x'],dset['y'],'k-')\n",
    "#ax0.plot(dset['x'],dset['yfit'],'r-')\n",
    "plt.show()"
   ]
  },
  {
   "cell_type": "code",
   "execution_count": null,
   "metadata": {},
   "outputs": [],
   "source": []
  },
  {
   "cell_type": "code",
   "execution_count": 4,
   "metadata": {},
   "outputs": [
    {
     "name": "stdout",
     "output_type": "stream",
     "text": [
      "(datetime.datetime(2020, 1, 5, 0, 0), 409.6629787320601, 410.29931249219925)\n",
      "(datetime.datetime(2020, 1, 6, 0, 0), 409.93042183698464, 410.3213315744965)\n",
      "(datetime.datetime(2020, 1, 7, 0, 0), 409.9513744317623, 410.34080672020656)\n",
      "(datetime.datetime(2020, 1, 8, 0, 0), 410.0178583925382, 410.360222133813)\n",
      "(datetime.datetime(2020, 1, 9, 0, 0), 409.9709044210129, 410.38139474940596)\n",
      "(datetime.datetime(2020, 1, 10, 0, 0), 410.2409613467451, 410.4006779122129)\n",
      "(datetime.datetime(2020, 1, 11, 0, 0), 410.00823127125693, 410.4201721267337)\n",
      "(datetime.datetime(2020, 1, 12, 0, 0), 409.93565628854066, 410.4386819941872)\n",
      "(datetime.datetime(2020, 1, 13, 0, 0), 409.6292749497398, 410.45785262836256)\n",
      "(datetime.datetime(2020, 1, 14, 0, 0), 409.7963471054638, 410.4774578928589)\n",
      "(datetime.datetime(2020, 1, 15, 0, 0), 410.0309146817975, 410.49838367014075)\n",
      "(datetime.datetime(2020, 1, 16, 0, 0), 411.05410787672736, 410.51913901729586)\n",
      "(datetime.datetime(2020, 1, 17, 0, 0), 411.0594108371685, 410.53573930724446)\n",
      "(datetime.datetime(2020, 1, 21, 0, 0), 410.72342651709914, 410.60866647507146)\n",
      "(datetime.datetime(2020, 1, 22, 0, 0), 410.5547663271427, 410.6290939408882)\n",
      "(datetime.datetime(2020, 1, 25, 0, 0), 410.067646882652, 410.6848618449817)\n",
      "(datetime.datetime(2020, 1, 26, 0, 0), 409.81656148723295, 410.70255085698375)\n",
      "(datetime.datetime(2020, 1, 28, 0, 0), 410.43203225029777, 410.7414416877799)\n",
      "(datetime.datetime(2020, 1, 29, 0, 0), 409.93232943138315, 410.75830270784354)\n",
      "(datetime.datetime(2020, 1, 31, 0, 0), 410.22264660770696, 410.7917809129983)\n",
      "(datetime.datetime(2020, 2, 1, 0, 0), 410.06179167702794, 410.80984508224975)\n",
      "(datetime.datetime(2020, 2, 3, 0, 0), 410.1742551464301, 410.84499870675126)\n",
      "(datetime.datetime(2020, 2, 6, 0, 0), 410.291986042803, 410.8955137103412)\n",
      "(datetime.datetime(2020, 2, 7, 0, 0), 411.05073084021836, 410.9136399657504)\n",
      "(datetime.datetime(2020, 2, 8, 0, 0), 411.6536093481606, 410.9289715586611)\n",
      "(datetime.datetime(2020, 2, 9, 0, 0), 411.37295991906456, 410.9446141145152)\n",
      "(datetime.datetime(2020, 2, 10, 0, 0), 411.13267027570913, 410.9605670912192)\n",
      "(datetime.datetime(2020, 2, 11, 0, 0), 410.8151173690628, 410.9758426069222)\n",
      "(datetime.datetime(2020, 2, 12, 0, 0), 410.8215168199635, 410.991883876242)\n",
      "(datetime.datetime(2020, 2, 13, 0, 0), 410.90783655636926, 411.005938149669)\n",
      "(datetime.datetime(2020, 2, 15, 0, 0), 411.4554446055554, 411.03611843836904)\n",
      "(datetime.datetime(2020, 2, 16, 0, 0), 411.34838431315836, 411.0516370614368)\n",
      "(datetime.datetime(2020, 2, 17, 0, 0), 411.4795040145982, 411.06492562298047)\n",
      "(datetime.datetime(2020, 2, 18, 0, 0), 410.90923379552794, 411.08013364851723)\n",
      "(datetime.datetime(2020, 2, 19, 0, 0), 410.75932401312247, 411.0938448273061)\n",
      "(datetime.datetime(2020, 2, 20, 0, 0), 410.8809457827219, 411.1093703635258)\n",
      "(datetime.datetime(2020, 2, 26, 0, 0), 411.28921887164256, 411.190750724576)\n",
      "(datetime.datetime(2020, 3, 3, 0, 0), 411.3369531671095, 411.2749632813276)\n",
      "(datetime.datetime(2020, 3, 4, 0, 0), 411.0916453406396, 411.2895805211132)\n",
      "(datetime.datetime(2020, 3, 6, 0, 0), 411.06963355761644, 411.31931566978295)\n",
      "(datetime.datetime(2020, 3, 7, 0, 0), 411.4231316620218, 411.3347915752575)\n",
      "(datetime.datetime(2020, 3, 8, 0, 0), 411.24575296230614, 411.3523031644065)\n",
      "(datetime.datetime(2020, 3, 9, 0, 0), 411.5291612126554, 411.3661476799236)\n",
      "(datetime.datetime(2020, 3, 10, 0, 0), 411.1113183201979, 411.3830038583796)\n",
      "(datetime.datetime(2020, 3, 20, 0, 0), 412.0295013308318, 411.58417076331534)\n",
      "(datetime.datetime(2020, 3, 21, 0, 0), 412.15956667251885, 411.6101995571463)\n",
      "(datetime.datetime(2020, 3, 23, 0, 0), 411.9112306415823, 411.6596704346652)\n",
      "(datetime.datetime(2020, 3, 24, 0, 0), 412.15844739475034, 411.6866084785632)\n",
      "(datetime.datetime(2020, 3, 25, 0, 0), 412.5701321220425, 411.7172593290573)\n",
      "(datetime.datetime(2020, 3, 27, 0, 0), 412.8052768666918, 411.7815335731901)\n",
      "(datetime.datetime(2020, 3, 28, 0, 0), 411.71350790641736, 411.80391342897644)\n",
      "(datetime.datetime(2020, 3, 29, 0, 0), 412.6723867795047, 411.83857061133085)\n",
      "(datetime.datetime(2020, 3, 30, 0, 0), 412.2098841137965, 411.870480734907)\n",
      "(datetime.datetime(2020, 3, 31, 0, 0), 411.503307309933, 411.9031769676967)\n",
      "(datetime.datetime(2020, 4, 5, 0, 0), 411.98528129421175, 412.08707817163713)\n",
      "(datetime.datetime(2020, 4, 8, 0, 0), 412.7481403149326, 412.2100751906324)\n",
      "(datetime.datetime(2020, 4, 10, 0, 0), 413.252806467625, 412.29610994502826)\n",
      "(datetime.datetime(2020, 4, 11, 0, 0), 411.9314511139792, 412.3469572521845)\n",
      "(datetime.datetime(2020, 4, 12, 0, 0), 412.0313113043224, 412.39495170422146)\n",
      "(datetime.datetime(2020, 4, 13, 0, 0), 412.5319363184713, 412.44012094643904)\n",
      "(datetime.datetime(2020, 4, 14, 0, 0), 412.84600606778713, 412.48402343607285)\n",
      "(datetime.datetime(2020, 4, 16, 0, 0), 413.27721379413754, 412.57471757432353)\n",
      "(datetime.datetime(2020, 4, 18, 0, 0), 412.56966066968687, 412.6753756866121)\n",
      "(datetime.datetime(2020, 4, 19, 0, 0), 412.657324016828, 412.7214429224483)\n",
      "(datetime.datetime(2020, 4, 20, 0, 0), 412.22657718382436, 412.7724408035381)\n",
      "(datetime.datetime(2020, 4, 21, 0, 0), 412.6948629039555, 412.82153075726904)\n",
      "(datetime.datetime(2020, 4, 22, 0, 0), 413.010209298242, 412.874032616691)\n",
      "(datetime.datetime(2020, 4, 23, 0, 0), 413.27298269808915, 412.924862791674)\n",
      "(datetime.datetime(2020, 4, 25, 0, 0), 413.3144330462561, 413.0268325719438)\n",
      "(datetime.datetime(2020, 4, 28, 0, 0), 413.93248762283474, 413.17731280301746)\n",
      "(datetime.datetime(2020, 5, 1, 0, 0), 413.07305441983044, 413.33066704135797)\n",
      "(datetime.datetime(2020, 5, 2, 0, 0), 414.4076125056793, 413.3738694975134)\n",
      "(datetime.datetime(2020, 5, 3, 0, 0), 414.04852823284455, 413.4228140100092)\n",
      "(datetime.datetime(2020, 5, 21, 0, 0), 414.70289511885494, 414.0744022054763)\n",
      "(datetime.datetime(2020, 5, 22, 0, 0), 414.02070549063916, 414.096703098056)\n",
      "(datetime.datetime(2020, 5, 23, 0, 0), 414.33513483722857, 414.11336061075525)\n",
      "(datetime.datetime(2020, 5, 24, 0, 0), 413.14703182958897, 414.13067797158646)\n",
      "(datetime.datetime(2020, 5, 25, 0, 0), 414.03919276797575, 414.1452887296827)\n",
      "(datetime.datetime(2020, 5, 26, 0, 0), 413.9664783702119, 414.156300744051)\n",
      "(datetime.datetime(2020, 5, 28, 0, 0), 414.9815155581113, 414.1713309331959)\n",
      "(datetime.datetime(2020, 5, 29, 0, 0), 415.8240736210719, 414.176475639794)\n",
      "(datetime.datetime(2020, 5, 30, 0, 0), 414.47835421624285, 414.17920115673127)\n",
      "(datetime.datetime(2020, 5, 31, 0, 0), 415.2310173840129, 414.17971677680265)\n",
      "(datetime.datetime(2020, 6, 2, 0, 0), 414.97530697192997, 414.1741534656035)\n",
      "(datetime.datetime(2020, 6, 3, 0, 0), 414.38274636932397, 414.1679119037028)\n",
      "(datetime.datetime(2020, 6, 4, 0, 0), 414.52560185967013, 414.1593581928284)\n",
      "(datetime.datetime(2020, 6, 5, 0, 0), 415.20495802210644, 414.1487773228014)\n",
      "(datetime.datetime(2020, 6, 6, 0, 0), 414.85074742821354, 414.1360346127381)\n",
      "(datetime.datetime(2020, 6, 7, 0, 0), 414.65011289700243, 414.1208626607245)\n",
      "(datetime.datetime(2020, 6, 9, 0, 0), 414.19126287614927, 414.08284982269305)\n",
      "(datetime.datetime(2020, 6, 10, 0, 0), 414.2965996537138, 414.0623223119062)\n",
      "(datetime.datetime(2020, 6, 12, 0, 0), 414.23479153510806, 414.0090152059391)\n",
      "(datetime.datetime(2020, 6, 13, 0, 0), 414.0191688343766, 413.98064009559937)\n",
      "(datetime.datetime(2020, 6, 14, 0, 0), 414.25963886481134, 413.9564610675165)\n",
      "(datetime.datetime(2020, 6, 15, 0, 0), 413.5720171818834, 413.91601278273777)\n",
      "(datetime.datetime(2020, 6, 16, 0, 0), 414.04995604379, 413.8920071304557)\n",
      "(datetime.datetime(2020, 6, 17, 0, 0), 414.23133078425616, 413.8576047946318)\n",
      "(datetime.datetime(2020, 6, 18, 0, 0), 414.5389871239634, 413.8216317519476)\n",
      "(datetime.datetime(2020, 6, 28, 0, 0), 413.5407573408447, 413.3730671539356)\n",
      "(datetime.datetime(2020, 6, 29, 0, 0), 413.1740115779237, 413.31656453864514)\n",
      "(datetime.datetime(2020, 6, 30, 0, 0), 413.5395131520927, 413.2699291373803)\n",
      "(datetime.datetime(2020, 7, 1, 0, 0), 413.6461121676756, 413.21020932284216)\n",
      "(datetime.datetime(2020, 7, 2, 0, 0), 413.1685038483499, 413.15893993723125)\n",
      "(datetime.datetime(2020, 7, 3, 0, 0), 412.7428893413661, 413.0989969205797)\n",
      "(datetime.datetime(2020, 7, 13, 0, 0), 412.0387159269303, 412.5299948700039)\n",
      "(datetime.datetime(2020, 7, 16, 0, 0), 412.0247048578846, 412.3469872286692)\n",
      "(datetime.datetime(2020, 7, 17, 0, 0), 413.2269729375839, 412.2893516287086)\n",
      "(datetime.datetime(2020, 7, 18, 0, 0), 411.8367392240713, 412.2286535922161)\n",
      "(datetime.datetime(2020, 7, 19, 0, 0), 412.6282980905639, 412.1746980734014)\n",
      "(datetime.datetime(2020, 7, 25, 0, 0), 411.4363134985758, 411.8225043516846)\n",
      "(datetime.datetime(2020, 8, 4, 0, 0), 411.2358867637813, 411.25929507352805)\n",
      "(datetime.datetime(2020, 8, 5, 0, 0), 410.7889222127265, 411.2049517192117)\n",
      "(datetime.datetime(2020, 8, 6, 0, 0), 411.2941872797729, 411.14929981855283)\n",
      "(datetime.datetime(2020, 8, 7, 0, 0), 411.4867631793022, 411.09785067900015)\n",
      "(datetime.datetime(2020, 8, 10, 0, 0), 411.3873067176901, 410.9455195432636)\n",
      "(datetime.datetime(2020, 8, 14, 0, 0), 411.3471119025101, 410.74330195263116)\n",
      "(datetime.datetime(2020, 8, 17, 0, 0), 409.97854837199503, 410.59576720728)\n",
      "(datetime.datetime(2020, 8, 18, 0, 0), 409.4937188188019, 410.5462029693645)\n",
      "(datetime.datetime(2020, 8, 21, 0, 0), 410.56127452570945, 410.41304247021975)\n",
      "(datetime.datetime(2020, 8, 22, 0, 0), 411.0026898969275, 410.3709828512655)\n"
     ]
    },
    {
     "name": "stdout",
     "output_type": "stream",
     "text": [
      "(datetime.datetime(2020, 9, 1, 0, 0), 409.870360504603, 409.96095007178315)\n",
      "(datetime.datetime(2020, 9, 2, 0, 0), 409.0098844489881, 409.9252873034124)\n",
      "(datetime.datetime(2020, 9, 3, 0, 0), 409.4837520925535, 409.8945039479201)\n",
      "(datetime.datetime(2020, 9, 8, 0, 0), 410.1091290572658, 409.737415922139)\n",
      "(datetime.datetime(2020, 9, 9, 0, 0), 408.7432305748588, 409.7093781008265)\n",
      "(datetime.datetime(2020, 9, 14, 0, 0), 409.86992758512497, 409.5892187561781)\n",
      "(datetime.datetime(2020, 9, 21, 0, 0), 408.82024804742207, 409.478628674929)\n",
      "(datetime.datetime(2020, 9, 22, 0, 0), 409.3386177575837, 409.46926923653973)\n",
      "(datetime.datetime(2020, 9, 23, 0, 0), 410.50465884432197, 409.46088789102953)\n",
      "(datetime.datetime(2020, 9, 24, 0, 0), 406.98789167031646, 409.45475215876115)\n",
      "(datetime.datetime(2020, 12, 10, 0, 0), 412.3335188975667, 412.1344523920557)\n",
      "(datetime.datetime(2020, 12, 11, 0, 0), 412.24177432215464, 412.16778736569756)\n",
      "(datetime.datetime(2020, 12, 12, 0, 0), 411.90041344668026, 412.19926257629544)\n",
      "(datetime.datetime(2020, 12, 13, 0, 0), 411.6539891583638, 412.2307453071938)\n",
      "(datetime.datetime(2020, 12, 14, 0, 0), 412.5954896658659, 412.25693925321787)\n",
      "(datetime.datetime(2020, 12, 15, 0, 0), 412.453182498545, 412.2879469169984)\n",
      "(datetime.datetime(2020, 12, 16, 0, 0), 412.86480268859304, 412.3149089831724)\n",
      "(datetime.datetime(2020, 12, 17, 0, 0), 412.43372197157663, 412.3430370046913)\n",
      "(datetime.datetime(2020, 12, 18, 0, 0), 412.9056229935959, 412.369307499306)\n",
      "(datetime.datetime(2020, 12, 21, 0, 0), 412.68216038790223, 412.44883886037195)\n",
      "(datetime.datetime(2020, 12, 22, 0, 0), 413.10937600024045, 412.47207652590185)\n",
      "(datetime.datetime(2020, 12, 23, 0, 0), 412.6481805059087, 412.4976900407779)\n",
      "(datetime.datetime(2020, 12, 24, 0, 0), 412.7645945623517, 412.52050279168645)\n",
      "(datetime.datetime(2020, 12, 25, 0, 0), 412.55133333429694, 412.54548925459665)\n",
      "(datetime.datetime(2020, 12, 26, 0, 0), 412.95034304397325, 412.570223387169)\n",
      "(datetime.datetime(2020, 12, 27, 0, 0), 413.14298870698326, 412.59040486825256)\n",
      "(datetime.datetime(2020, 12, 28, 0, 0), 412.5321726952256, 412.61551016328417)\n",
      "(datetime.datetime(2020, 12, 29, 0, 0), 412.42657240348706, 412.6360243772416)\n",
      "(datetime.datetime(2020, 12, 30, 0, 0), 412.8996586486076, 412.65860479603066)\n",
      "(datetime.datetime(2020, 12, 31, 0, 0), 412.5851403437555, 412.6801797323226)\n"
     ]
    }
   ],
   "source": [
    "m = dset['xco2avg']\n",
    "for i, ele in enumerate(m):\n",
    "    datarow = dt.datetime.utcfromtimestamp(dset['tepoch'][i]),dset['xco2avg'][i],dset['yfitavg'][i]\n",
    "    if dset['tepoch'][i] >= 1577836800:\n",
    "        print(datarow)"
   ]
  },
  {
   "cell_type": "code",
   "execution_count": 3,
   "metadata": {},
   "outputs": [],
   "source": [
    "dset.close()"
   ]
  },
  {
   "cell_type": "code",
   "execution_count": 1,
   "metadata": {},
   "outputs": [],
   "source": [
    "import numpy as np\n",
    "import h5py\n",
    "import glob\n",
    "import copy\n",
    "import datetime as dt\n",
    "import matplotlib.pyplot as plt"
   ]
  },
  {
   "cell_type": "code",
   "execution_count": 2,
   "metadata": {},
   "outputs": [],
   "source": [
    "datos = h5py.File(\"/home/mixtli/NASAGESDISC/OCO2/oco2test.nc4\",'r')"
   ]
  },
  {
   "cell_type": "code",
   "execution_count": 3,
   "metadata": {},
   "outputs": [
    {
     "data": {
      "text/plain": [
       "'/'"
      ]
     },
     "execution_count": 3,
     "metadata": {},
     "output_type": "execute_result"
    }
   ],
   "source": [
    "datos.name"
   ]
  },
  {
   "cell_type": "code",
   "execution_count": 5,
   "metadata": {},
   "outputs": [
    {
     "data": {
      "text/plain": [
       "['surface_type',\n",
       " 'psurf',\n",
       " 'SigmaB',\n",
       " 'windspeed',\n",
       " 'windspeed_apriori',\n",
       " 'psurf_apriori',\n",
       " 't700',\n",
       " 'fs',\n",
       " 'fs_rel',\n",
       " 'tcwv',\n",
       " 'tcwv_apriori',\n",
       " 'tcwv_uncertainty',\n",
       " 'xco2_raw',\n",
       " 'dp',\n",
       " 'dp_o2a',\n",
       " 'dp_sco2',\n",
       " 'dpfrac',\n",
       " 's31',\n",
       " 's32',\n",
       " 'co2_grad_del',\n",
       " 'dws',\n",
       " 'eof3_3_rel',\n",
       " 'snow_flag',\n",
       " 'aod_dust',\n",
       " 'aod_bc',\n",
       " 'aod_oc',\n",
       " 'aod_seasalt',\n",
       " 'aod_sulfate',\n",
       " 'aod_strataer',\n",
       " 'aod_water',\n",
       " 'aod_ice',\n",
       " 'aod_total',\n",
       " 'dust_height',\n",
       " 'ice_height',\n",
       " 'water_height',\n",
       " 'h2o_scale',\n",
       " 'deltaT',\n",
       " 'albedo_o2a',\n",
       " 'albedo_wco2',\n",
       " 'albedo_sco2',\n",
       " 'albedo_slope_o2a',\n",
       " 'albedo_slope_wco2',\n",
       " 'albedo_slope_sco2',\n",
       " 'albedo_quad_o2a',\n",
       " 'albedo_quad_wco2',\n",
       " 'albedo_quad_sco2',\n",
       " 'chi2_o2a',\n",
       " 'chi2_wco2',\n",
       " 'chi2_sco2',\n",
       " 'rms_rel_o2a',\n",
       " 'rms_rel_wco2',\n",
       " 'rms_rel_sco2',\n",
       " 'iterations',\n",
       " 'diverging_steps']"
      ]
     },
     "execution_count": 5,
     "metadata": {},
     "output_type": "execute_result"
    }
   ],
   "source": [
    "list(datos[\"/Retrieval\"].keys())"
   ]
  },
  {
   "cell_type": "code",
   "execution_count": 6,
   "metadata": {},
   "outputs": [],
   "source": [
    "datos.close()"
   ]
  },
  {
   "cell_type": "code",
   "execution_count": null,
   "metadata": {},
   "outputs": [],
   "source": []
  }
 ],
 "metadata": {
  "kernelspec": {
   "display_name": "Python 3",
   "language": "python",
   "name": "python3"
  },
  "language_info": {
   "codemirror_mode": {
    "name": "ipython",
    "version": 3
   },
   "file_extension": ".py",
   "mimetype": "text/x-python",
   "name": "python",
   "nbconvert_exporter": "python",
   "pygments_lexer": "ipython3",
   "version": "3.9.5"
  }
 },
 "nbformat": 4,
 "nbformat_minor": 4
}
