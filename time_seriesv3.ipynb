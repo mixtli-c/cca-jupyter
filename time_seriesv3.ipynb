{
 "cells": [
  {
   "cell_type": "code",
   "execution_count": 1,
   "metadata": {},
   "outputs": [],
   "source": [
    "import numpy as np\n",
    "import matplotlib.pyplot as plt\n",
    "import matplotlib.dates as mdates\n",
    "import seaborn as sns\n",
    "import h5py\n",
    "import glob\n",
    "import copy\n",
    "import datetime as dt"
   ]
  },
  {
   "cell_type": "code",
   "execution_count": 14,
   "metadata": {},
   "outputs": [],
   "source": [
    "### Inicio de la parte que requiere modificacion por el usuario\n",
    "\n",
    "# nombre del sitio, extension, tipo de fuente (e.g. LtCO2 o target)\n",
    "# para generar titulo del grafico y nombre de archivo de salida\n",
    "location_name = 'CCA'\n",
    "size = '5km'\n",
    "sourcetype = 'OCO2'\n",
    "plotname = location_name + ' ' + size + ' ' + sourcetype\n",
    "filename = location_name + '_' + size + '_' + sourcetype\n",
    "\n",
    "# direccion de los archivos HDF de entrada y salidda \n",
    "# nombre semilla de los archivos (e.g. mexico_oco3_target, o mexico_oco3_early)\n",
    "path_hdfin = \"D:\\\\CCA\\\\NASAGESDISC\\\\oco2lt\\\\STD\\\\\"\n",
    "seedname = 'mexico_co2_oco2_'\n",
    "path_hdfout = \"D:\\\\CCA\\\\NASAGESDISC\\\\oco2lt\\\\STD\\\\timeseries\\\\\"\n",
    "path_plotout = \"D:\\\\CCA\\\\NASAGESDISC\\\\oco2lt\\\\STD\\\\timeseries\\\\\"\n",
    "name_hdfout = path_hdfout + filename + '.h5'\n",
    "name_plotout = path_plotout + filename + '.png'\n",
    "\n",
    "# nombre en el archivo HDF de las variables de latitud (y), longitud (x), y de interes (z)\n",
    "# aqui se incluye el nombre de POSIX (tepoch) por si se llegase a cambiar\n",
    "# NOTA, estos valores tienen que ser escalares, vectores (e.g. columna de co2) van a generar error\n",
    "latname = 'lat'\n",
    "lonname = 'lon'\n",
    "zname = '/RetrievalResults/xco2'\n",
    "epochname = 'tepoch'\n",
    "\n",
    "# inicializacion de las condiciones : anyo, mes (o meses), punto de interes (lat y lon), tamanyo de grid deseado\n",
    "years = [2021]\n",
    "months = np.arange(4,6)                           # np.arange(n,m) genera un arreglo con primer elemento n y ultimo m-1\n",
    "latpoint = 19.3262                               # latitud del punto de interes\n",
    "lonpoint = -99.1761                                 # longitud del punto de interes\n",
    "radiuskm = 5                                  # radio del grid en km\n",
    "gridsize = radiuskm/110.567                  # tamanyo del grid en fraccion de grados\n",
    "\n",
    "### Fin de la parte que requiere moddificacion por el usuario"
   ]
  },
  {
   "cell_type": "code",
   "execution_count": 15,
   "metadata": {},
   "outputs": [],
   "source": [
    "# Esta seccion genera una matriz 3x3x2 con las coordenadas +- 1 grado de latitud y longitud de las seccion del punto de interes\n",
    "# e.g para 19N-98W genera un grid 9x9 que va de 20N-99W a 18N-97W\n",
    "\n",
    "# Dependiendo del punto de interes y del tamanyo del area en fraccion de grados; una, varias, o todas las celdas del grid 9x9 \n",
    "# entraran en los datos que se buscan\n",
    "\n",
    "# Se genera un filtro para construir las diferentes etiquetas xN-yW para accesar a las carpetas del archivo HDF y obtener los\n",
    "# datos \n",
    "\n",
    "# latitud y longitud maxima y minima\n",
    "grid_max_lat = latpoint + gridsize\n",
    "grid_min_lat = latpoint - gridsize\n",
    "grid_max_lon = lonpoint - gridsize\n",
    "grid_min_lon = lonpoint + gridsize\n",
    "\n",
    "# convertir los float a integer\n",
    "gridlat = int(latpoint)\n",
    "gridlon = int(lonpoint)\n",
    "gridmaxlat = int(grid_max_lat)\n",
    "gridminlat = int(grid_min_lat)\n",
    "gridmaxlon = int(grid_max_lon)\n",
    "gridminlon = int(grid_min_lon)\n",
    "\n",
    "# vectores de latitud y longitud\n",
    "latvector = [gridlat-1,gridlat,gridlat+1]\n",
    "lonvector = [gridlon+1,gridlon,gridlon-1]\n",
    "\n",
    "# matriz 3x3x2 con los grids individuales de latitud y longitud\n",
    "# creada a mano, quiza haya una forma de hacerla menos explicita?\n",
    "grid9x9 = np.array([[[latvector[2],lonvector[2]],[latvector[2],lonvector[1]],[latvector[2],lonvector[0]]], \\\n",
    "                   [[latvector[1],lonvector[2]],[latvector[1],lonvector[1]],[latvector[1],lonvector[0]]], \\\n",
    "                   [[latvector[0],lonvector[2]],[latvector[0],lonvector[1]],[latvector[0],lonvector[0]]]])\n",
    "\n",
    "# filtro para seleccionar los grids que cubre el punto central con el tamanyo de grid\n",
    "mask = (grid9x9[:,:,0] >= gridminlat) & (grid9x9[:,:,0] <= gridmaxlat) & (grid9x9[:,:,1] <= gridminlon) & (grid9x9[:,:,1] >= gridmaxlon)"
   ]
  },
  {
   "cell_type": "code",
   "execution_count": 16,
   "metadata": {},
   "outputs": [],
   "source": [
    "# contadores inevitables\n",
    "cont = 0                              # para saber que hacer si la matriz de datos ya se creo o no"
   ]
  },
  {
   "cell_type": "code",
   "execution_count": 17,
   "metadata": {},
   "outputs": [],
   "source": [
    "# testing\n",
    "#print(gridmaxlat,gridminlat,gridmaxlon,gridminlon)\n",
    "#\n",
    "#print(mask)\n",
    "#\n",
    "#print(grid9x9[mask])\n",
    "#\n",
    "#for row in grid9x9[mask]:\n",
    "#    gridname = '%iN%iW' % (int(row[0]),int(row[1]))\n",
    "#    print(gridname)"
   ]
  },
  {
   "cell_type": "code",
   "execution_count": 18,
   "metadata": {
    "scrolled": false
   },
   "outputs": [
    {
     "name": "stdout",
     "output_type": "stream",
     "text": [
      "Intentando con el archivo:  D:\\CCA\\NASAGESDISC\\oco2lt\\STD\\mexico_co2_oco2_202104.h5\n",
      "Matriz temporal: (87,)\n",
      "Datos filtrados:  (87,)\n",
      "Datos fuente:  (565,)\n",
      "Intentando con el archivo:  D:\\CCA\\NASAGESDISC\\oco2lt\\STD\\mexico_co2_oco2_202105.h5\n",
      "Matriz temporal: (1562,)\n",
      "Datos filtrados:  (1649,)\n",
      "Datos fuente:  (3895,)\n"
     ]
    }
   ],
   "source": [
    "# algoritmo para generar la matriz de todos los datos en el grid 1x1 de los diferentes hdf\n",
    "# este arrojara la matriz que despues se filtrara para hacer las series de tiempo\n",
    "for year in years:\n",
    "    for month in months:\n",
    "        h5name = \"%i%02i.h5\" %(year,month)\n",
    "        h5file = path_hdfin + seedname + h5name\n",
    "        print('Intentando con el archivo: ', h5file)\n",
    "        \n",
    "        try:\n",
    "            data = h5py.File(h5file,'r')\n",
    "            \n",
    "            for coords in grid9x9[mask]:\n",
    "                \n",
    "                gridname = '%iN%iW' % (coords[0],coords[1])\n",
    "                #print(gridname)\n",
    "                \n",
    "                try:\n",
    "                    # Toma las coordenadas del gris 1x1 y filtra los datos en una matriz temporal\n",
    "                    # genera una matriz permanente que acumula los datos de las diferentes fechas\n",
    "                    # y los diferentes gris\n",
    "                    \n",
    "                    lat = data[gridname][latname]\n",
    "                    lon = data[gridname][lonname]\n",
    "                    \n",
    "                    # condiciones para reducir el tamaño del grid alrededor del punto seleccionado y obtener datos dentro de ese nuevo grid\n",
    "                    distances2=np.array((lat-latpoint)**2+np.cos(np.pi/180.0*latpoint)**2*(lon-lonpoint)**2)\n",
    "                    gridcond=(gridsize**2 > distances2)\n",
    "\n",
    "                    #filterdata = datos[gridname][gridcond]\n",
    "\n",
    "                    mat = data[gridname][gridcond]\n",
    "        \n",
    "        \n",
    "                    if cont == 0:\n",
    "                        # copia la matriz temporal en una permanente\n",
    "                        # esto solo se debe usar si no existe ya la matriz permanente\n",
    "                        datos=copy.copy(mat)\n",
    "            \n",
    "                    else:\n",
    "                        # concatena los datos de la matriz temporal en la permanente\n",
    "                        # esto solo se debe usar si ya existe la matriz permanente\n",
    "                        datos=np.concatenate((mat,datos),axis=0)\n",
    "                    \n",
    "                    cont = cont + 1\n",
    "                    print('Matriz temporal:', mat.shape)\n",
    "                    print('Datos filtrados: ', datos.shape)\n",
    "                    print('Datos fuente: ', data[gridname].shape)\n",
    "                \n",
    "                except:\n",
    "                    print('no hay datos para %iN%iW' %(coords[0],coords[1]))\n",
    "                    continue\n",
    "                           \n",
    "            data.close()\n",
    "                    \n",
    "        except:\n",
    "            print('no hay datos para %i-%02i' %(year,month))\n",
    "            continue\n",
    "    "
   ]
  },
  {
   "cell_type": "code",
   "execution_count": 12,
   "metadata": {},
   "outputs": [],
   "source": [
    "fh5=h5py.File(name_hdfout,'w')\n",
    "dset=fh5.create_dataset(filename,data=datos,maxshape=(None,))\n",
    "fh5.flush()\n",
    "fh5.close()"
   ]
  },
  {
   "cell_type": "code",
   "execution_count": 19,
   "metadata": {},
   "outputs": [
    {
     "data": {
      "image/png": "[encoded data removed]",
      "text/plain": [
       "<Figure size 432x288 with 1 Axes>"
      ]
     },
     "metadata": {
      "needs_background": "light"
     },
     "output_type": "display_data"
    }
   ],
   "source": [
    "# grafica una serie de tiempo sencilla con los datos filtrados por las condiciones\n",
    "time = np.array([dt.datetime.utcfromtimestamp(ele) for ele in datos[epochname]]) \n",
    "locator = mdates.AutoDateLocator()\n",
    "formatter = mdates.DateFormatter('%d/%m - %H:%M')\n",
    "fig, ax = plt.subplots()\n",
    "plt.plot_date(time,datos[zname]) \n",
    "ax.xaxis.set_major_formatter(formatter)\n",
    "ax.xaxis.set_tick_params(rotation=30, labelsize=8)\n",
    "plt.xlabel('Date')\n",
    "plt.ylabel(zname)\n",
    "plt.title(plotname)\n",
    "plt.tight_layout()\n",
    "plt.savefig(name_plotout)\n",
    "plt.show()"
   ]
  },
  {
   "cell_type": "code",
   "execution_count": null,
   "metadata": {},
   "outputs": [],
   "source": [
    "# testing\n",
    "# print(datos[:,0])\n",
    "#print(datos[:,1])\n",
    "#print(datos[:,2])"
   ]
  }
 ],
 "metadata": {
  "kernelspec": {
   "display_name": "Python 3",
   "language": "python",
   "name": "python3"
  },
  "language_info": {
   "codemirror_mode": {
    "name": "ipython",
    "version": 3
   },
   "file_extension": ".py",
   "mimetype": "text/x-python",
   "name": "python",
   "nbconvert_exporter": "python",
   "pygments_lexer": "ipython3",
   "version": "3.8.3"
  }
 },
 "nbformat": 4,
 "nbformat_minor": 4
}
